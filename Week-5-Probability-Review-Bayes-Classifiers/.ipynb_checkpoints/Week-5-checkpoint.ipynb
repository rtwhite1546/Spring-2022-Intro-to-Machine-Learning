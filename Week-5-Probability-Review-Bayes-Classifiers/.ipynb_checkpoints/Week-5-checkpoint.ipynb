{
 "cells": [
  {
   "cell_type": "markdown",
   "id": "9eca4952-ab9c-47e8-965f-8c350d7b1e99",
   "metadata": {},
   "source": [
    "# Week 5: Probability/Statistics, Bayes and Naive Bayes Classifiers"
   ]
  },
  {
   "cell_type": "markdown",
   "id": "8411a7ea-2475-43ca-80d3-d775f89411fc",
   "metadata": {
    "tags": []
   },
   "source": [
    "# Lecture 8: Crash Course in Probability and Statistics\n",
    "\n",
    "Refer to the lecture notes for this content on probability and statistics necessary for ML.\n",
    "\n",
    "In this lecture, we followed parts of Ch 2 and Ch 18.1 from [Data Mining and Machine Learning: Fundamental Concepts and Algorithms](https://dataminingbook.info/) by Zaki and Meira, Jr., as well as Dr. White's probability notes."
   ]
  },
  {
   "cell_type": "markdown",
   "id": "dd410c7b-fc7c-4a52-8c4f-f174cb331808",
   "metadata": {},
   "source": [
    "## Classification Problems\n",
    "\n",
    "**Classification problems** are problems where we would like to take datapoints and assign them to an appropriate **class** based on some examples that have known classes.\n",
    "\n",
    "### Examples\n",
    "\n",
    "* If we have a dataset of medical records where each datapoint has a single patient's age, weight, blood pressure, status as a smoker or not, and other information and each patient is known to either have or not have kidney disease. We might want take data from a new patient and predict if he or she is likely to develop kidney disease.\n",
    "\n",
    "* If we have a dataset of labeled images of cat and dogs, we might want to take a new image and classify whether it has a dog or a cat. (How does Google image search know how to find pictures of what you search?)\n",
    "\n",
    "* If we have a dataset of audio files, each of which is a jazz, classical, rock, pop, or hip-hop song, we might want to predict the genre of a new audio file. (Spotify does this kind of analysis to recommend songs based on your listening history.)\n",
    "\n",
    "* If we have a dataset of traffic logs on a network, some known to be infected by a specific virus and some are not, we might want to use this information to classify a new traffic log as likely to be infected or not.\n",
    "\n",
    "* If we have a dataset of sounds of people speaking along with transcripts of the words, we might want to classify the words spoken into a microphone. (Think Siri!)\n",
    "\n",
    "In all of these cases, the information can be represented as a point in the $n$-dimensional real space.\n",
    "\n",
    "* The medical records would have numbers for age, weight, and blood pressure and a binary digit for non-smoker or smoker.\n",
    "\n",
    "<img src=\"images/medicalRecords.png\" />\n",
    "\n",
    "* The dog/cat images might have three channels for a picture, meaning three numbers for each pixel (the red, green, and blue levels) like the bird picture below.\n",
    "\n",
    "<img src=\"images/birdRGB.png\" />\n",
    "\n",
    "* The audio files might have numbers specifying the type of sound for the song many times per second.\n",
    "\n",
    "<img src=\"images/audioFile.png\" />\n",
    "\n",
    "* The network traffic logs might have numbers of packets transferred, file size, ports, addresses, the content of the packets, etc.\n",
    "\n",
    "I chose these applications to demonstrate two things: (1) classification problems are interesting and useful in almost every area of study and (2) a huge class of classification problems have much in common mathematically. All apply to datapoints, although some types of data may have far more dimensions than others--a medical record may only have 10 to 12 numbers, but a 12-megapixel photo from the latest iPhone would have $4,000\\times 3,000\\times 3=36,000,000$ numbers, 3 for each pixel).\n",
    "\n",
    "### The Math of a Classification Problem\n",
    "\n",
    "To exploit the similarities, let's abstract away the specifics of the applications for now and think about how to describe a classification problem mathematically. Consider a $d$-dimensional point, or vector, $x\\in\\mathbb{R}^d$. $x$ is a member one of $k$ classes $C=\\{c_1, c_2, ..., c_k\\}$. We call the point $x$ an **example** and we call the class the **label** of $x$.\n",
    "\n",
    "The goal of a classification problem is to find a function $M:\\mathbb{R}^d\\to C$ mapping each example $x$ to its class $y=M(x_1)$ and will generalize to successfully classify new, unlabeled datapoints with high accuracy.\n",
    "\n",
    "This will segment the space $\\mathbb{R}^d$ into sets $X_j=\\{x_1\\in\\mathbb{R}^d | M(x_1)=c_j\\}$ corresponding to each class. In the image below, for example, the space $\\mathbb{R}^2$ is partitioned into three sets colored red, blue, and green.\n",
    "\n",
    "<img src=\"images/knnTessellation.png\" />\n",
    "The colored points are labeled examples and the $\\mathbb{R}^2$ space is colored by the class to be assigned to points in different regions. (image from Wikipedia)\n",
    "\n",
    "### Classification Algorithms\n",
    "\n",
    "There are many algorithms used for classification. Some of the most popular include\n",
    "\n",
    "* Bayes and naive Bayes\n",
    "* $k$-nearest neighbors\n",
    "* decision trees\n",
    "* logistic regression\n",
    "* support vector machines\n",
    "* neural networks (many types)\n",
    "\n",
    "as well as tree-based algorithms that systematically apply an ensemble of different classifiers. Any of the methods above are good choices and there are pros and cons of each, but we only consider the Bayes classifiers this week."
   ]
  },
  {
   "cell_type": "markdown",
   "id": "31208177-ea71-490a-a1bd-efa7445b3e42",
   "metadata": {},
   "source": [
    "# Lecture 9: The Bayes Classifier"
   ]
  },
  {
   "cell_type": "markdown",
   "id": "0d4aca30-3c04-40a5-8bf1-9e25d9d4bbed",
   "metadata": {},
   "source": [
    "## Bayes Classifer\n",
    "\n",
    "Now that we covered the ideas of how the Bayes classifier works in class, we can now implement it, but let's first import some libraries."
   ]
  },
  {
   "cell_type": "code",
   "execution_count": 1,
   "id": "d85d9bc6-98e5-4e87-a8c5-0a572f242d4a",
   "metadata": {},
   "outputs": [],
   "source": [
    "import matplotlib.pyplot as plt\n",
    "import numpy as np\n",
    "import seaborn as sn\n",
    "\n",
    "from scipy.stats import multivariate_normal\n",
    "from sklearn import datasets\n",
    "from sklearn.metrics import classification_report\n",
    "from sklearn.metrics import confusion_matrix\n",
    "from sklearn.model_selection import train_test_split\n",
    "import scipy\n",
    "from tensorflow.keras.datasets import mnist\n",
    "\n",
    "# increase the width of boxes in the notebook file (this is only cosmetic)\n",
    "np.set_printoptions(linewidth=180)"
   ]
  },
  {
   "cell_type": "markdown",
   "id": "45e0c6cc-65fc-4bf9-8b8a-98f15a248ba3",
   "metadata": {},
   "source": [
    "Next, we write a class for the classifier."
   ]
  },
  {
   "cell_type": "code",
   "execution_count": 2,
   "id": "44208a06-b973-4ef0-94e9-d2dfc22d8c64",
   "metadata": {},
   "outputs": [],
   "source": [
    "class BayesClassifier:\n",
    "    def fit(self, X, Y):     \n",
    "        # find the unique labels\n",
    "        uniqueY = np.unique(Y)\n",
    "        \n",
    "        # find the dimensions\n",
    "        n = X.shape[0]\n",
    "        self.d = X.shape[1]\n",
    "        self.k = uniqueY.shape[0]\n",
    "        \n",
    "        # initialize the outputs\n",
    "        self.prior = np.zeros([self.k, 1])\n",
    "        self.mu = np.zeros([self.k, self.d])\n",
    "        self.Sigma = np.zeros([self.k, self.d, self.d])\n",
    "        \n",
    "        # compute class prior probabilities, sample means, and sample covariances\n",
    "        for i, y in enumerate(uniqueY):\n",
    "            # split the X into its classes\n",
    "            Xi = X[Y == y]\n",
    "            \n",
    "            # compute the size of each class\n",
    "            ni = Xi.shape[0]\n",
    "            \n",
    "            # compute the priors\n",
    "            self.prior[i] = ni / n\n",
    "            \n",
    "            # compute the sample mean\n",
    "            self.mu[i] = np.mean(Xi, axis = 0)\n",
    "            \n",
    "            # compute the centered data\n",
    "            XiBar = Xi - self.mu[i]\n",
    "            \n",
    "            # compute the sample covariance\n",
    "            self.Sigma[i] = (1/ni) * XiBar.T @ XiBar\n",
    "            \n",
    "    def predict(self, X):\n",
    "        n = X.shape[0]\n",
    "        \n",
    "        posteriorPre = np.zeros([n, self.k])\n",
    "        \n",
    "        # compute the pdf term of the posterior probabilities\n",
    "        for i in range(n):\n",
    "            for j in range(self.k):\n",
    "                posteriorPre[i][j] = scipy.stats.multivariate_normal.pdf(X[i], self.mu[j], self.Sigma[j], allow_singular = True)\n",
    "                \n",
    "        # compute a vector proportional to the posterior probabilities\n",
    "        posterior = posteriorPre * self.prior.T\n",
    "\n",
    "        # find the label for each datapoint by choosing the most probable class\n",
    "        predictions = np.argmax(posterior, axis = 1)\n",
    "        \n",
    "        return predictions"
   ]
  },
  {
   "cell_type": "markdown",
   "id": "5ae328bb-0656-4a84-91dd-48cf67c765d7",
   "metadata": {},
   "source": [
    "### Example: Classifying Irises"
   ]
  },
  {
   "cell_type": "code",
   "execution_count": 3,
   "id": "3ec7022c-6dc2-41f7-80be-12ef91f55fb6",
   "metadata": {},
   "outputs": [
    {
     "name": "stdout",
     "output_type": "stream",
     "text": [
      ".. _iris_dataset:\n",
      "\n",
      "Iris plants dataset\n",
      "--------------------\n",
      "\n",
      "**Data Set Characteristics:**\n",
      "\n",
      "    :Number of Instances: 150 (50 in each of three classes)\n",
      "    :Number of Attributes: 4 numeric, predictive attributes and the class\n",
      "    :Attribute Information:\n",
      "        - sepal length in cm\n",
      "        - sepal width in cm\n",
      "        - petal length in cm\n",
      "        - petal width in cm\n",
      "        - class:\n",
      "                - Iris-Setosa\n",
      "                - Iris-Versicolour\n",
      "                - Iris-Virginica\n",
      "                \n",
      "    :Summary Statistics:\n",
      "\n",
      "    ============== ==== ==== ======= ===== ====================\n",
      "                    Min  Max   Mean    SD   Class Correlation\n",
      "    ============== ==== ==== ======= ===== ====================\n",
      "    sepal length:   4.3  7.9   5.84   0.83    0.7826\n",
      "    sepal width:    2.0  4.4   3.05   0.43   -0.4194\n",
      "    petal length:   1.0  6.9   3.76   1.76    0.9490  (high!)\n",
      "    petal width:    0.1  2.5   1.20   0.76    0.9565  (high!)\n",
      "    ============== ==== ==== ======= ===== ====================\n",
      "\n",
      "    :Missing Attribute Values: None\n",
      "    :Class Distribution: 33.3% for each of 3 classes.\n",
      "    :Creator: R.A. Fisher\n",
      "    :Donor: Michael Marshall (MARSHALL%PLU@io.arc.nasa.gov)\n",
      "    :Date: July, 1988\n",
      "\n",
      "The famous Iris database, first used by Sir R.A. Fisher. The dataset is taken\n",
      "from Fisher's paper. Note that it's the same as in R, but not as in the UCI\n",
      "Machine Learning Repository, which has two wrong data points.\n",
      "\n",
      "This is perhaps the best known database to be found in the\n",
      "pattern recognition literature.  Fisher's paper is a classic in the field and\n",
      "is referenced frequently to this day.  (See Duda & Hart, for example.)  The\n",
      "data set contains 3 classes of 50 instances each, where each class refers to a\n",
      "type of iris plant.  One class is linearly separable from the other 2; the\n",
      "latter are NOT linearly separable from each other.\n",
      "\n",
      ".. topic:: References\n",
      "\n",
      "   - Fisher, R.A. \"The use of multiple measurements in taxonomic problems\"\n",
      "     Annual Eugenics, 7, Part II, 179-188 (1936); also in \"Contributions to\n",
      "     Mathematical Statistics\" (John Wiley, NY, 1950).\n",
      "   - Duda, R.O., & Hart, P.E. (1973) Pattern Classification and Scene Analysis.\n",
      "     (Q327.D83) John Wiley & Sons.  ISBN 0-471-22361-1.  See page 218.\n",
      "   - Dasarathy, B.V. (1980) \"Nosing Around the Neighborhood: A New System\n",
      "     Structure and Classification Rule for Recognition in Partially Exposed\n",
      "     Environments\".  IEEE Transactions on Pattern Analysis and Machine\n",
      "     Intelligence, Vol. PAMI-2, No. 1, 67-71.\n",
      "   - Gates, G.W. (1972) \"The Reduced Nearest Neighbor Rule\".  IEEE Transactions\n",
      "     on Information Theory, May 1972, 431-433.\n",
      "   - See also: 1988 MLC Proceedings, 54-64.  Cheeseman et al\"s AUTOCLASS II\n",
      "     conceptual clustering system finds 3 classes in the data.\n",
      "   - Many, many more ...\n"
     ]
    }
   ],
   "source": [
    "iris = datasets.load_iris()\n",
    "print(iris['DESCR'])"
   ]
  },
  {
   "cell_type": "code",
   "execution_count": 4,
   "id": "2042def8-42c1-411e-83c3-89dccb905dfa",
   "metadata": {},
   "outputs": [
    {
     "name": "stdout",
     "output_type": "stream",
     "text": [
      "\n",
      "Predicted class labels:\n",
      " [2 2 2 0 2 2 2 1 1 0 0 2 2 1 0 1 0 2 0 2 0 0 1 1 1 2 2 0 2 2 2 0 0 2 0 2 1 2]\n",
      "\n",
      "True class labels:\n",
      " [2 2 2 0 2 2 2 1 1 0 0 2 2 1 0 1 0 2 0 2 0 0 1 1 1 2 2 0 2 2 2 0 0 2 0 2 1 2]\n",
      "\n",
      "Classification Report:\n",
      "\n",
      "               precision    recall  f1-score   support\n",
      "\n",
      "           0       1.00      1.00      1.00        12\n",
      "           1       1.00      1.00      1.00         8\n",
      "           2       1.00      1.00      1.00        18\n",
      "\n",
      "    accuracy                           1.00        38\n",
      "   macro avg       1.00      1.00      1.00        38\n",
      "weighted avg       1.00      1.00      1.00        38\n",
      "\n",
      "\n",
      "Confusion Matrix:\n",
      "\n"
     ]
    },
    {
     "data": {
      "text/plain": [
       "<AxesSubplot:>"
      ]
     },
     "execution_count": 4,
     "metadata": {},
     "output_type": "execute_result"
    },
    {
     "data": {
      "image/png": "[encoded data removed]",
      "text/plain": [
       "<Figure size 432x288 with 2 Axes>"
      ]
     },
     "metadata": {
      "needs_background": "light"
     },
     "output_type": "display_data"
    }
   ],
   "source": [
    "iris = datasets.load_iris()\n",
    "\n",
    "#print(iris.target_names)\n",
    "\n",
    "# find the data and labels\n",
    "X = iris.data\n",
    "Y = iris.target\n",
    "\n",
    "# split the data into train and test sets\n",
    "trainX, testX, trainY, testY = train_test_split(X, Y, test_size = 0.25)\n",
    "\n",
    "# build the Bayes classifier\n",
    "model = BayesClassifier()\n",
    "\n",
    "# fit the Bayes classifier to the training data\n",
    "model.fit(trainX, trainY)\n",
    "\n",
    "# predict the labels of the test set\n",
    "predictedY = model.predict(testX)\n",
    "\n",
    "# print predicted and true class labels\n",
    "print('\\nPredicted class labels:\\n', predictedY)\n",
    "print('\\nTrue class labels:\\n', testY)\n",
    "\n",
    "# print quality metrics\n",
    "print('\\nClassification Report:\\n\\n', classification_report(testY, predictedY))\n",
    "print('\\nConfusion Matrix:\\n')\n",
    "\n",
    "sn.heatmap(confusion_matrix(testY, predictedY), annot = True)"
   ]
  },
  {
   "cell_type": "markdown",
   "id": "57fb370a-d292-480f-8384-abe8bb7e2aa1",
   "metadata": {},
   "source": [
    "### Example: Detecting Breast Cancer"
   ]
  },
  {
   "cell_type": "code",
   "execution_count": 5,
   "id": "7237fbbd-d7d0-4f25-a4f2-d7f0a15ac8f8",
   "metadata": {},
   "outputs": [
    {
     "name": "stdout",
     "output_type": "stream",
     "text": [
      ".. _breast_cancer_dataset:\n",
      "\n",
      "Breast cancer wisconsin (diagnostic) dataset\n",
      "--------------------------------------------\n",
      "\n",
      "**Data Set Characteristics:**\n",
      "\n",
      "    :Number of Instances: 569\n",
      "\n",
      "    :Number of Attributes: 30 numeric, predictive attributes and the class\n",
      "\n",
      "    :Attribute Information:\n",
      "        - radius (mean of distances from center to points on the perimeter)\n",
      "        - texture (standard deviation of gray-scale values)\n",
      "        - perimeter\n",
      "        - area\n",
      "        - smoothness (local variation in radius lengths)\n",
      "        - compactness (perimeter^2 / area - 1.0)\n",
      "        - concavity (severity of concave portions of the contour)\n",
      "        - concave points (number of concave portions of the contour)\n",
      "        - symmetry\n",
      "        - fractal dimension (\"coastline approximation\" - 1)\n",
      "\n",
      "        The mean, standard error, and \"worst\" or largest (mean of the three\n",
      "        worst/largest values) of these features were computed for each image,\n",
      "        resulting in 30 features.  For instance, field 0 is Mean Radius, field\n",
      "        10 is Radius SE, field 20 is Worst Radius.\n",
      "\n",
      "        - class:\n",
      "                - WDBC-Malignant\n",
      "                - WDBC-Benign\n",
      "\n",
      "    :Summary Statistics:\n",
      "\n",
      "    ===================================== ====== ======\n",
      "                                           Min    Max\n",
      "    ===================================== ====== ======\n",
      "    radius (mean):                        6.981  28.11\n",
      "    texture (mean):                       9.71   39.28\n",
      "    perimeter (mean):                     43.79  188.5\n",
      "    area (mean):                          143.5  2501.0\n",
      "    smoothness (mean):                    0.053  0.163\n",
      "    compactness (mean):                   0.019  0.345\n",
      "    concavity (mean):                     0.0    0.427\n",
      "    concave points (mean):                0.0    0.201\n",
      "    symmetry (mean):                      0.106  0.304\n",
      "    fractal dimension (mean):             0.05   0.097\n",
      "    radius (standard error):              0.112  2.873\n",
      "    texture (standard error):             0.36   4.885\n",
      "    perimeter (standard error):           0.757  21.98\n",
      "    area (standard error):                6.802  542.2\n",
      "    smoothness (standard error):          0.002  0.031\n",
      "    compactness (standard error):         0.002  0.135\n",
      "    concavity (standard error):           0.0    0.396\n",
      "    concave points (standard error):      0.0    0.053\n",
      "    symmetry (standard error):            0.008  0.079\n",
      "    fractal dimension (standard error):   0.001  0.03\n",
      "    radius (worst):                       7.93   36.04\n",
      "    texture (worst):                      12.02  49.54\n",
      "    perimeter (worst):                    50.41  251.2\n",
      "    area (worst):                         185.2  4254.0\n",
      "    smoothness (worst):                   0.071  0.223\n",
      "    compactness (worst):                  0.027  1.058\n",
      "    concavity (worst):                    0.0    1.252\n",
      "    concave points (worst):               0.0    0.291\n",
      "    symmetry (worst):                     0.156  0.664\n",
      "    fractal dimension (worst):            0.055  0.208\n",
      "    ===================================== ====== ======\n",
      "\n",
      "    :Missing Attribute Values: None\n",
      "\n",
      "    :Class Distribution: 212 - Malignant, 357 - Benign\n",
      "\n",
      "    :Creator:  Dr. William H. Wolberg, W. Nick Street, Olvi L. Mangasarian\n",
      "\n",
      "    :Donor: Nick Street\n",
      "\n",
      "    :Date: November, 1995\n",
      "\n",
      "This is a copy of UCI ML Breast Cancer Wisconsin (Diagnostic) datasets.\n",
      "https://goo.gl/U2Uwz2\n",
      "\n",
      "Features are computed from a digitized image of a fine needle\n",
      "aspirate (FNA) of a breast mass.  They describe\n",
      "characteristics of the cell nuclei present in the image.\n",
      "\n",
      "Separating plane described above was obtained using\n",
      "Multisurface Method-Tree (MSM-T) [K. P. Bennett, \"Decision Tree\n",
      "Construction Via Linear Programming.\" Proceedings of the 4th\n",
      "Midwest Artificial Intelligence and Cognitive Science Society,\n",
      "pp. 97-101, 1992], a classification method which uses linear\n",
      "programming to construct a decision tree.  Relevant features\n",
      "were selected using an exhaustive search in the space of 1-4\n",
      "features and 1-3 separating planes.\n",
      "\n",
      "The actual linear program used to obtain the separating plane\n",
      "in the 3-dimensional space is that described in:\n",
      "[K. P. Bennett and O. L. Mangasarian: \"Robust Linear\n",
      "Programming Discrimination of Two Linearly Inseparable Sets\",\n",
      "Optimization Methods and Software 1, 1992, 23-34].\n",
      "\n",
      "This database is also available through the UW CS ftp server:\n",
      "\n",
      "ftp ftp.cs.wisc.edu\n",
      "cd math-prog/cpo-dataset/machine-learn/WDBC/\n",
      "\n",
      ".. topic:: References\n",
      "\n",
      "   - W.N. Street, W.H. Wolberg and O.L. Mangasarian. Nuclear feature extraction \n",
      "     for breast tumor diagnosis. IS&T/SPIE 1993 International Symposium on \n",
      "     Electronic Imaging: Science and Technology, volume 1905, pages 861-870,\n",
      "     San Jose, CA, 1993.\n",
      "   - O.L. Mangasarian, W.N. Street and W.H. Wolberg. Breast cancer diagnosis and \n",
      "     prognosis via linear programming. Operations Research, 43(4), pages 570-577, \n",
      "     July-August 1995.\n",
      "   - W.H. Wolberg, W.N. Street, and O.L. Mangasarian. Machine learning techniques\n",
      "     to diagnose breast cancer from fine-needle aspirates. Cancer Letters 77 (1994) \n",
      "     163-171.\n"
     ]
    }
   ],
   "source": [
    "breastcancer = datasets.load_breast_cancer()\n",
    "print(breastcancer['DESCR'])"
   ]
  },
  {
   "cell_type": "code",
   "execution_count": 6,
   "id": "714b1768-b400-49df-8b6f-bfa9dadb8796",
   "metadata": {},
   "outputs": [
    {
     "name": "stdout",
     "output_type": "stream",
     "text": [
      "\n",
      "Classification Report:\n",
      "\n",
      "               precision    recall  f1-score   support\n",
      "\n",
      "           0       0.98      0.82      0.89        50\n",
      "           1       0.91      0.99      0.95        93\n",
      "\n",
      "    accuracy                           0.93       143\n",
      "   macro avg       0.94      0.90      0.92       143\n",
      "weighted avg       0.93      0.93      0.93       143\n",
      "\n",
      "\n",
      "Confusion Matrix:\n",
      "\n"
     ]
    },
    {
     "data": {
      "text/plain": [
       "<AxesSubplot:>"
      ]
     },
     "execution_count": 6,
     "metadata": {},
     "output_type": "execute_result"
    },
    {
     "data": {
      "image/png": "[encoded data removed]",
      "text/plain": [
       "<Figure size 432x288 with 2 Axes>"
      ]
     },
     "metadata": {
      "needs_background": "light"
     },
     "output_type": "display_data"
    }
   ],
   "source": [
    "breastcancer = datasets.load_breast_cancer()\n",
    "\n",
    "# find the data and labels\n",
    "X = breastcancer.data\n",
    "Y = breastcancer.target\n",
    "\n",
    "# split the data into train and test sets\n",
    "trainX, testX, trainY, testY = train_test_split(X, Y, test_size = 0.25)\n",
    "\n",
    "# build the Bayes classifier\n",
    "model = BayesClassifier()\n",
    "\n",
    "# fit the Bayes classifier to the training data\n",
    "model.fit(trainX, trainY)\n",
    "\n",
    "# predict the labels of the test set\n",
    "predictedY = model.predict(testX)\n",
    "\n",
    "# print quality metrics\n",
    "print('\\nClassification Report:\\n\\n', classification_report(testY, predictedY))\n",
    "print('\\nConfusion Matrix:\\n')\n",
    "\n",
    "sn.heatmap(confusion_matrix(testY, predictedY), annot = True)"
   ]
  },
  {
   "cell_type": "markdown",
   "id": "add211bd-2fd9-40ba-afb7-dc85935405a8",
   "metadata": {},
   "source": [
    "## Example: Handwritten Digits\n",
    "\n",
    "The Modified National Institute of Standards and Technology (MNIST) database contains 70,000 grayscale labeled images (each 28-by-28 pixels) of handwritten digits from US Census Bureau employees and high school students. Classifying the MNIST database is a common benchmark for machine learning techniques.\n",
    "\n",
    "<img src='images/mnist.png' />\n",
    "\n",
    "MNIST along with many other commonly-used datasets are available in the <a href=\"https://www.tensorflow.org/api_docs/python/tf/keras/datasets\">tensorflow.keras.datasets</a> module. The first time you use the load_data() function, it will download the dataset, but any subsequent runs will just read it from the hard drive, if it has been downloaded before, so it runs much faster."
   ]
  },
  {
   "cell_type": "code",
   "execution_count": 7,
   "id": "81ff35ac-f5e7-45a9-86bb-1b60d6f6c3c1",
   "metadata": {},
   "outputs": [],
   "source": [
    "# load the MNIST data\n",
    "from tensorflow.keras.datasets import mnist\n",
    "mnistData = mnist.load_data()"
   ]
  },
  {
   "cell_type": "markdown",
   "id": "8c67ce2e-2318-4ccd-80e1-d5b94c33b063",
   "metadata": {},
   "source": [
    "Let's take a look at the data (press 'q' to iterate to the next image)."
   ]
  },
  {
   "cell_type": "code",
   "execution_count": 8,
   "id": "fb13f6b0-79bf-4c40-bac1-4ae27cc630b8",
   "metadata": {},
   "outputs": [
    {
     "name": "stdout",
     "output_type": "stream",
     "text": [
      "The label is 4\n",
      "[[  0   0   0   0   0   0   0   0   0   0   0   0   0   0   0   0   0   0   0   0   0   0   0   0   0   0   0   0]\n",
      " [  0   0   0   0   0   0   0   0   0   0   0   0   0   0   0   0   0   0   0   0   0   0   0   0   0   0   0   0]\n",
      " [  0   0   0   0   0   0   0   0   0   0   0   0   0   0   0   0   0   0   0   0   0   0   0   0   0   0   0   0]\n",
      " [  0   0   0   0   0   0   0   0   0   0   0   0   0   0   0   0   0   0   0   0   0   0   0   0   0   0   0   0]\n",
      " [  0   0   0   0   0   0   0   0   0   0   0   0   0   0   0   0   0   0   0   0   0   0 189 190   0   0   0   0]\n",
      " [  0   0   0   0   0   0   0   0   0   0   0   0   0   0   0   0   0   0   0   0   0 143 247 153   0   0   0   0]\n",
      " [  0   0   0   0   0   0   0   0   0   0   0   0   0   0   0   0   0   0   0   0 136 247 242  86   0   0   0   0]\n",
      " [  0   0   0   0   0   0   0   0   0   0   0   0   0   0   0   0   0   0   0   0 192 252 187   0   0   0   0   0]\n",
      " [  0   0   0   0   0   0   0   0   0   0   0   0  62 185  18   0   0   0   0  89 236 217  47   0   0   0   0   0]\n",
      " [  0   0   0   0   0   0   0   0   0   0   0   0 216 253  60   0   0   0   0 212 255  81   0   0   0   0   0   0]\n",
      " [  0   0   0   0   0   0   0   0   0   0   0   0 206 252  68   0   0   0  48 242 253  89   0   0   0   0   0   0]\n",
      " [  0   0   0   0   0   0   0   0   0   0   0 131 251 212  21   0   0  11 167 252 197   5   0   0   0   0   0   0]\n",
      " [  0   0   0   0   0   0   0   0   0   0  29 232 247  63   0   0   0 153 252 226   0   0   0   0   0   0   0   0]\n",
      " [  0   0   0   0   0   0   0   0   0  45 219 252 143   0   0   0 116 249 252 103   0   0   0   0   0   0   0   0]\n",
      " [  0   0   0   0   0   0   0   4  96 253 255 253 200 122   7  25 201 250 158   0   0   0   0   0   0   0   0   0]\n",
      " [  0   0   0   0   0   0   0  92 252 252 253 217 252 252 200 227 252 231   0   0   0   0   0   0   0   0   0   0]\n",
      " [  0   0   0   0   0   0  87 251 247 231  65  48 189 252 252 253 252 251 227  35   0   0   0   0   0   0   0   0]\n",
      " [  0   0   0   0   0   0 190 221  98   0   0   0  42 196 252 253 252 252 162   0   0   0   0   0   0   0   0   0]\n",
      " [  0   0   0   0   0   0 111  29   0   0   0   0  62 239 252  86  42  42  14   0   0   0   0   0   0   0   0   0]\n",
      " [  0   0   0   0   0   0   0   0   0   0   0  15 148 253 218   0   0   0   0   0   0   0   0   0   0   0   0   0]\n",
      " [  0   0   0   0   0   0   0   0   0   0   0 121 252 231  28   0   0   0   0   0   0   0   0   0   0   0   0   0]\n",
      " [  0   0   0   0   0   0   0   0   0   0  31 221 251 129   0   0   0   0   0   0   0   0   0   0   0   0   0   0]\n",
      " [  0   0   0   0   0   0   0   0   0   0 218 252 160   0   0   0   0   0   0   0   0   0   0   0   0   0   0   0]\n",
      " [  0   0   0   0   0   0   0   0   0   0 122 252  82   0   0   0   0   0   0   0   0   0   0   0   0   0   0   0]\n",
      " [  0   0   0   0   0   0   0   0   0   0   0   0   0   0   0   0   0   0   0   0   0   0   0   0   0   0   0   0]\n",
      " [  0   0   0   0   0   0   0   0   0   0   0   0   0   0   0   0   0   0   0   0   0   0   0   0   0   0   0   0]\n",
      " [  0   0   0   0   0   0   0   0   0   0   0   0   0   0   0   0   0   0   0   0   0   0   0   0   0   0   0   0]\n",
      " [  0   0   0   0   0   0   0   0   0   0   0   0   0   0   0   0   0   0   0   0   0   0   0   0   0   0   0   0]]\n"
     ]
    },
    {
     "data": {
      "image/png": "[encoded data removed]",
      "text/plain": [
       "<Figure size 432x288 with 1 Axes>"
      ]
     },
     "metadata": {
      "needs_background": "light"
     },
     "output_type": "display_data"
    }
   ],
   "source": [
    "# DISPLAY MNIST PICTURES, DATA ARRAYS, AND LABELS\n",
    "from IPython.display import clear_output\n",
    "from keyboard import wait\n",
    "\n",
    "for counter in range(10):\n",
    "    # loop over the picture data\n",
    "    pictureData = mnistData[0][0][counter]\n",
    "\n",
    "    # plot the datapoints and their labels\n",
    "    print('The label is', mnistData[0][1][counter])\n",
    "    print(pictureData)\n",
    "\n",
    "    # plot the image\n",
    "    plt.imshow(pictureData, cmap='Greys')\n",
    "    plt.show()\n",
    "    \n",
    "    # wait until user presses 'q'\n",
    "    wait('q')\n",
    "    \n",
    "    # clear the input\n",
    "    clear_output(wait=True)"
   ]
  },
  {
   "cell_type": "code",
   "execution_count": 9,
   "id": "97ca85ae-710f-4a3e-8297-5cfd29a91976",
   "metadata": {},
   "outputs": [
    {
     "data": {
      "text/plain": [
       "(28, 28)"
      ]
     },
     "execution_count": 9,
     "metadata": {},
     "output_type": "execute_result"
    }
   ],
   "source": [
    "# Let's check the shape of the pictureData\n",
    "pictureData.shape"
   ]
  },
  {
   "cell_type": "markdown",
   "id": "bea8d1f9-ed97-4dc6-b69e-b6268fc787db",
   "metadata": {},
   "source": [
    "Let's now see if we can train the Bayes classifier to classify the digits."
   ]
  },
  {
   "cell_type": "code",
   "execution_count": 11,
   "id": "0b604d0f-56a8-4862-8ca0-a69573107541",
   "metadata": {},
   "outputs": [
    {
     "name": "stdout",
     "output_type": "stream",
     "text": [
      "\n",
      "Classification Report:\n",
      "\n",
      "               precision    recall  f1-score   support\n",
      "\n",
      "           0       1.00      1.00      1.00         8\n",
      "           1       1.00      0.93      0.96        14\n",
      "           2       0.47      1.00      0.64         8\n",
      "           3       0.50      0.55      0.52        11\n",
      "           4       0.67      0.86      0.75        14\n",
      "           5       1.00      0.57      0.73         7\n",
      "           6       1.00      0.70      0.82        10\n",
      "           7       0.79      1.00      0.88        15\n",
      "           8       1.00      0.50      0.67         2\n",
      "           9       1.00      0.09      0.17        11\n",
      "\n",
      "    accuracy                           0.75       100\n",
      "   macro avg       0.84      0.72      0.71       100\n",
      "weighted avg       0.82      0.75      0.73       100\n",
      "\n",
      "\n",
      "Confusion Matrix:\n",
      "\n"
     ]
    },
    {
     "data": {
      "text/plain": [
       "<AxesSubplot:>"
      ]
     },
     "execution_count": 11,
     "metadata": {},
     "output_type": "execute_result"
    },
    {
     "data": {
      "image/png": "[encoded data removed]",
      "text/plain": [
       "<Figure size 432x288 with 2 Axes>"
      ]
     },
     "metadata": {
      "needs_background": "light"
     },
     "output_type": "display_data"
    }
   ],
   "source": [
    "(trainX, trainY), (testX, testY) = mnist.load_data()\n",
    "\n",
    "# flatten the data into 768-vectors\n",
    "trainX = trainX.reshape(trainX.shape[0], trainX.shape[1] * trainX.shape[2]).astype('float')/255.0\n",
    "testX = testX.reshape(testX.shape[0], testX.shape[1] * testX.shape[2]).astype('float')/255.0\n",
    "\n",
    "# take only 100 images for the test set\n",
    "testX = testX[:100]\n",
    "testY = testY[:100]\n",
    "\n",
    "# build the Bayes classifier\n",
    "model = BayesClassifier()\n",
    "\n",
    "# fit the Bayes classifier to the training data\n",
    "model.fit(trainX, trainY)\n",
    "\n",
    "# predict the labels of the test set\n",
    "predictedY = model.predict(testX)\n",
    "\n",
    "# print quality metrics\n",
    "print('\\nClassification Report:\\n\\n', classification_report(testY, predictedY))\n",
    "print('\\nConfusion Matrix:\\n')\n",
    "\n",
    "sn.heatmap(confusion_matrix(testY, predictedY), annot = True)"
   ]
  },
  {
   "cell_type": "markdown",
   "id": "22921924-cb2f-450f-b575-caaedbc3ef95",
   "metadata": {},
   "source": [
    "This code runs incredibly slowly, so we limited it to 100 test points."
   ]
  },
  {
   "cell_type": "markdown",
   "id": "76227c08-e692-4455-ad4a-6c92984485ad",
   "metadata": {},
   "source": [
    "## The Naive Bayes Classifier\n",
    "\n",
    "The code above runs very slowly, so a modified version that assumes the data columns are independent is the naive Bayes classifier. While the assumption is typically not quite true of datasets, it tends to often work well in practice nevertheless, and provides a vast speed improvement."
   ]
  },
  {
   "cell_type": "code",
   "execution_count": 12,
   "id": "a9c788b6-aefc-4f10-8258-c8e7e3632043",
   "metadata": {},
   "outputs": [],
   "source": [
    "# importing the scikit-learn implementation of the naive Bayes classifier\n",
    "from sklearn.naive_bayes import GaussianNB"
   ]
  },
  {
   "cell_type": "markdown",
   "id": "0efc35e9-9849-40de-8009-031c68d6d311",
   "metadata": {},
   "source": [
    "### Breast Cancer Example"
   ]
  },
  {
   "cell_type": "code",
   "execution_count": 13,
   "id": "e1008b38-96d0-4acd-a1db-bbce389752eb",
   "metadata": {},
   "outputs": [
    {
     "name": "stdout",
     "output_type": "stream",
     "text": [
      "\n",
      "Classification Report:\n",
      "\n",
      "               precision    recall  f1-score   support\n",
      "\n",
      "           0       0.96      0.84      0.89        61\n",
      "           1       0.89      0.98      0.93        82\n",
      "\n",
      "    accuracy                           0.92       143\n",
      "   macro avg       0.93      0.91      0.91       143\n",
      "weighted avg       0.92      0.92      0.92       143\n",
      "\n",
      "\n",
      "Confusion Matrix:\n",
      "\n"
     ]
    },
    {
     "data": {
      "text/plain": [
       "<AxesSubplot:>"
      ]
     },
     "execution_count": 13,
     "metadata": {},
     "output_type": "execute_result"
    },
    {
     "data": {
      "image/png": "[encoded data removed]",
      "text/plain": [
       "<Figure size 432x288 with 2 Axes>"
      ]
     },
     "metadata": {
      "needs_background": "light"
     },
     "output_type": "display_data"
    }
   ],
   "source": [
    "breastcancer = datasets.load_breast_cancer()\n",
    "\n",
    "# find the data and labels\n",
    "X = breastcancer.data\n",
    "Y = breastcancer.target\n",
    "\n",
    "# split the data into train and test sets\n",
    "trainX, testX, trainY, testY = train_test_split(X, Y, test_size = 0.25)\n",
    "\n",
    "# build the Bayes classifier\n",
    "model = GaussianNB()\n",
    "\n",
    "# fit the Bayes classifier to the training data\n",
    "model.fit(trainX, trainY)\n",
    "\n",
    "# predict the labels of the test set\n",
    "predictedY = model.predict(testX)\n",
    "\n",
    "# print quality metrics\n",
    "print('\\nClassification Report:\\n\\n', classification_report(testY, predictedY))\n",
    "print('\\nConfusion Matrix:\\n')\n",
    "\n",
    "sn.heatmap(confusion_matrix(testY, predictedY), annot = True)"
   ]
  },
  {
   "cell_type": "markdown",
   "id": "d946e9a1-d3cd-4e09-9d28-de835688c919",
   "metadata": {},
   "source": [
    "### Classifying MNIST Handwritten Digits with Naive Bayes"
   ]
  },
  {
   "cell_type": "code",
   "execution_count": 14,
   "id": "8979a84b-9721-4307-9639-6cc266b4c96f",
   "metadata": {},
   "outputs": [
    {
     "name": "stdout",
     "output_type": "stream",
     "text": [
      "\n",
      "Classification Report:\n",
      "\n",
      "               precision    recall  f1-score   support\n",
      "\n",
      "           0       0.92      0.92      0.92       980\n",
      "           1       0.86      0.96      0.91      1135\n",
      "           2       0.90      0.73      0.80      1032\n",
      "           3       0.82      0.78      0.79      1010\n",
      "           4       0.85      0.61      0.71       982\n",
      "           5       0.86      0.61      0.72       892\n",
      "           6       0.83      0.92      0.87       958\n",
      "           7       0.93      0.79      0.86      1028\n",
      "           8       0.63      0.76      0.69       974\n",
      "           9       0.60      0.90      0.72      1009\n",
      "\n",
      "    accuracy                           0.80     10000\n",
      "   macro avg       0.82      0.80      0.80     10000\n",
      "weighted avg       0.82      0.80      0.80     10000\n",
      "\n",
      "\n",
      "Confusion Matrix:\n",
      "\n"
     ]
    },
    {
     "data": {
      "text/plain": [
       "<AxesSubplot:>"
      ]
     },
     "execution_count": 14,
     "metadata": {},
     "output_type": "execute_result"
    },
    {
     "data": {
      "image/png": "[encoded data removed]",
      "text/plain": [
       "<Figure size 432x288 with 2 Axes>"
      ]
     },
     "metadata": {
      "needs_background": "light"
     },
     "output_type": "display_data"
    }
   ],
   "source": [
    "(trainX, trainY), (testX, testY) = mnist.load_data()\n",
    "\n",
    "# flatten the data into 768-vectors and normalize\n",
    "trainX = trainX.reshape(trainX.shape[0], trainX.shape[1] * trainX.shape[2]).astype('float')/255.0\n",
    "testX = testX.reshape(testX.shape[0], testX.shape[1] * testX.shape[2]).astype('float')/255.0\n",
    "\n",
    "# add some noise to the data\n",
    "trainNoise = np.random.uniform(-0.1, 0.1, size = trainX.shape)\n",
    "trainX += trainNoise\n",
    "\n",
    "# build the Bayes classifier\n",
    "model = GaussianNB()\n",
    "\n",
    "# fit the Bayes classifier to the training data\n",
    "model.fit(trainX, trainY)\n",
    "\n",
    "# predict the labels of the test set\n",
    "predictedY = model.predict(testX)\n",
    "\n",
    "# print quality metrics\n",
    "print('\\nClassification Report:\\n\\n', classification_report(testY, predictedY))\n",
    "print('\\nConfusion Matrix:\\n')\n",
    "\n",
    "sn.heatmap(confusion_matrix(testY, predictedY))"
   ]
  }
 ],
 "metadata": {
  "kernelspec": {
   "display_name": "Python 3 (ipykernel)",
   "language": "python",
   "name": "python3"
  },
  "language_info": {
   "codemirror_mode": {
    "name": "ipython",
    "version": 3
   },
   "file_extension": ".py",
   "mimetype": "text/x-python",
   "name": "python",
   "nbconvert_exporter": "python",
   "pygments_lexer": "ipython3",
   "version": "3.10.1"
  }
 },
 "nbformat": 4,
 "nbformat_minor": 5
}
