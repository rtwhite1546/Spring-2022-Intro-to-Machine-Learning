{
 "cells": [
  {
   "cell_type": "markdown",
   "id": "5bc4065d-0deb-42fc-b620-aeb03ae430cf",
   "metadata": {},
   "source": [
    "# Week 6: Logistic Regression and Discriminant Analysis\n",
    "\n",
    "This week, we cover **logistic regression**, one of the most popular classifiers. Like the other classifiers we have seen, it computes posterior probabilities without assuming the distributions of the classes.\n",
    "\n",
    "Secondly, we will consider **discriminant analysis**, a powerful family of classifiers that construct so-called **discriminant functions** that specify decision boundaries that determine how points are assigned to classes.\n",
    "\n",
    "Unlike previously-seen classifiers, these methods do not necessarily require assuming the distribution of the classes."
   ]
  },
  {
   "cell_type": "markdown",
   "id": "055ff11d-ddca-4e8e-81e9-5a546e7f15f9",
   "metadata": {
    "tags": []
   },
   "source": [
    "# Lecture 10: Logistic Regression\n",
    "\n",
    "In class, we discussed the logistic regression model for both binary classification and multiclass classification.\n",
    "\n",
    "## Binary Logistic Regression\n",
    "\n",
    "In this case, we predict binary labels $Y\\in\\{0, 1\\}$. Fitting the model simplifies to minimizing the **binary cross-entropy** loss function\n",
    "\n",
    "$$L(\\theta)=-\\sum\\limits_{i=1}^n y_i\\ln\\left(\\sigma\\left(\\theta^Tx_i\\right)\\right)+(1-y_i)\\ln\\left(\\sigma\\left(-\\theta^Tx_i\\right)\\right)$$\n",
    "\n",
    "where $\\theta=(\\theta_0, \\theta_1, ..., \\theta_d)^T$ are parameters of the model and $\\sigma:\\mathbb{R}\\to\\mathbb{R}$ is the **logistic** or **sigmoid** function\n",
    "\n",
    "$$\\sigma(z)=\\frac{1}{1+e^{-z}}=\\frac{e^z}{1+e^z}$$\n",
    "\n",
    "In class, we showed\n",
    "\n",
    "$$\\frac{\\partial L}{\\partial\\theta}=\\sum\\limits_{i=1}^n\\left(\\sigma\\left(\\theta^Tx\\right)-y_i\\right)x_i$$\n",
    "\n",
    "To code logistic regression, let's first import some libraries."
   ]
  },
  {
   "cell_type": "code",
   "execution_count": 1,
   "id": "929d1704-afa6-42cf-98c9-e61365846dfe",
   "metadata": {},
   "outputs": [],
   "source": [
    "import matplotlib.pyplot as plt\n",
    "import numpy as np\n",
    "import seaborn as sn\n",
    "\n",
    "from sklearn import datasets\n",
    "from sklearn.linear_model import LogisticRegression\n",
    "from sklearn.model_selection import train_test_split\n",
    "from sklearn.metrics import classification_report\n",
    "from sklearn.metrics import confusion_matrix\n",
    "from sklearn.metrics import accuracy_score\n",
    "from tensorflow.keras.datasets import mnist"
   ]
  },
  {
   "cell_type": "markdown",
   "id": "688246bc-bbe9-4fd6-a0b3-eff8635a77a4",
   "metadata": {},
   "source": [
    "Next, we implement binary logistic regression."
   ]
  },
  {
   "cell_type": "code",
   "execution_count": 2,
   "id": "897d0076-a3e2-4dc0-bd15-929d0d9a9676",
   "metadata": {},
   "outputs": [],
   "source": [
    "class BinaryLogisticRegression:        \n",
    "    def fit(self, X, y, alpha, epochs, eps, update):\n",
    "        # add a column of 1s to X\n",
    "        X = np.hstack((np.ones([X.shape[0],1]), X))\n",
    "            \n",
    "        # modify y to be n by 1\n",
    "        y = np.atleast_2d(y).T\n",
    "        \n",
    "        # initialize the parameters to 1\n",
    "        self.theta = np.ones([X.shape[1], 1])\n",
    "        \n",
    "        # initialize the step number and theta gradient\n",
    "        step = 0\n",
    "        thetagrad = 2 * eps\n",
    "        \n",
    "        # minimize cross-entropy -- run until thetagrad is small or step is epochs\n",
    "        while np.linalg.norm(thetagrad) > eps and step < epochs:\n",
    "            # compute the loss\n",
    "            sig = self.sigmoid(X @ self.theta)\n",
    "            \n",
    "            if step % update == 0:\n",
    "                loss = -(1/X.shape[0]) * np.sum(y * np.log(sig + 0.001) + (1 - y) * np.log(1 - sig + 0.001))\n",
    "                print('Iteration', step, '\\tLoss =', loss)\n",
    "            \n",
    "            # compute the gradient\n",
    "            thetagrad = X.T @ (sig - y)\n",
    "            \n",
    "            # take a gradient descent step\n",
    "            self.theta -= alpha * thetagrad\n",
    "                        \n",
    "            # iterate the step\n",
    "            step += 1\n",
    "            \n",
    "            if step == epochs:\n",
    "                print('Gradient descent failed to converge. (The answer may still be acceptably good.)')\n",
    "            \n",
    "    def predict(self, X):\n",
    "        # add a column of 1s to X\n",
    "        X = np.hstack((np.ones([X.shape[0],1]), X))\n",
    "        \n",
    "        # return 0 if the posterior for Y=1 is less than for Y=0\n",
    "        # otherwise, return 1\n",
    "        return (self.sigmoid(X @ self.theta) >= 0.5).astype(float)\n",
    "            \n",
    "    def sigmoid(self, z):\n",
    "        return 1 / (1 + np.exp(-z))"
   ]
  },
  {
   "cell_type": "markdown",
   "id": "12af9c6a-c772-493e-a956-da7816a3c13c",
   "metadata": {},
   "source": [
    "### Example: Detecting Breast Cancer with Binary Logistic Regression"
   ]
  },
  {
   "cell_type": "code",
   "execution_count": 3,
   "id": "b3491322-9500-4112-98a1-ed67db9f8d41",
   "metadata": {},
   "outputs": [
    {
     "name": "stdout",
     "output_type": "stream",
     "text": [
      "Iteration 0 \tLoss = 2.7560153177035067\n"
     ]
    },
    {
     "name": "stderr",
     "output_type": "stream",
     "text": [
      "C:\\Users\\Ryan\\AppData\\Local\\Temp/ipykernel_2720/4107300181.py:46: RuntimeWarning: overflow encountered in exp\n",
      "  return 1 / (1 + np.exp(-z))\n"
     ]
    },
    {
     "name": "stdout",
     "output_type": "stream",
     "text": [
      "Iteration 100000 \tLoss = 0.3882261210367881\n",
      "Iteration 200000 \tLoss = 0.6477098686167024\n",
      "Iteration 300000 \tLoss = 0.53418572905049\n",
      "Iteration 400000 \tLoss = 0.30713744991806485\n",
      "Iteration 500000 \tLoss = 0.27470198147057556\n",
      "Iteration 600000 \tLoss = 0.33957291836555414\n",
      "Iteration 700000 \tLoss = 0.27470198147057556\n",
      "Iteration 800000 \tLoss = 0.30713744991806485\n",
      "Iteration 900000 \tLoss = 0.2584842472468309\n",
      "Gradient descent failed to converge. (The answer may still be acceptably good.)\n",
      "\n",
      "Classification Report:\n",
      "\n",
      "               precision    recall  f1-score   support\n",
      "\n",
      "           0       0.83      0.90      0.86        42\n",
      "           1       0.96      0.92      0.94       101\n",
      "\n",
      "    accuracy                           0.92       143\n",
      "   macro avg       0.89      0.91      0.90       143\n",
      "weighted avg       0.92      0.92      0.92       143\n",
      "\n",
      "\n",
      "Confusion Matrix:\n",
      "\n"
     ]
    },
    {
     "data": {
      "text/plain": [
       "<AxesSubplot:>"
      ]
     },
     "execution_count": 3,
     "metadata": {},
     "output_type": "execute_result"
    },
    {
     "data": {
      "image/png": "[encoded data removed]",
      "text/plain": [
       "<Figure size 432x288 with 2 Axes>"
      ]
     },
     "metadata": {
      "needs_background": "light"
     },
     "output_type": "display_data"
    }
   ],
   "source": [
    "# import the breast cancer dataset\n",
    "breastcancer = datasets.load_breast_cancer()\n",
    "\n",
    "# find the data and labels\n",
    "X = breastcancer.data\n",
    "Y = breastcancer.target\n",
    "\n",
    "# split the data into train and test sets\n",
    "trainX, testX, trainY, testY = train_test_split(X, Y, test_size = 0.25)\n",
    "\n",
    "# build the classifier\n",
    "model = BinaryLogisticRegression()\n",
    "\n",
    "# fit the classifier to the training data\n",
    "model.fit(trainX, trainY, alpha = 0.01, epochs = 1000000, eps = 0.01, update = 100000)\n",
    "\n",
    "# predict the labels of the test set\n",
    "predictedY = model.predict(testX)\n",
    "\n",
    "# print quality metrics\n",
    "print('\\nClassification Report:\\n\\n', classification_report(testY, predictedY))\n",
    "print('\\nConfusion Matrix:\\n')\n",
    "\n",
    "sn.heatmap(confusion_matrix(testY, predictedY), annot = True)"
   ]
  },
  {
   "cell_type": "markdown",
   "id": "216c02ee-96ca-4b5c-af00-3c488a45231f",
   "metadata": {},
   "source": [
    "### Example: Detecting Breast Cancer with `LogisticRegression` from `scikit-learn`\n",
    "\n",
    "The built-in `LogisticRegression` class in `scikit-learn` tends to work a little faster because it uses an optimizer that efficiently uses second derivative information by default. Note that the class uses an $L^2$ penalty if we speciy the variable `C`, where\n",
    "\n",
    "$$C=\\frac{1}{\\lambda_2}$$\n",
    "\n",
    "Tuning this hyperparameter is a good idea to improve performance on the test set."
   ]
  },
  {
   "cell_type": "code",
   "execution_count": 4,
   "id": "049e1c9d-6878-44f6-a302-a121c16c9fb7",
   "metadata": {},
   "outputs": [
    {
     "name": "stdout",
     "output_type": "stream",
     "text": [
      "\n",
      "Training Classification Report:\n",
      "\n",
      "               precision    recall  f1-score   support\n",
      "\n",
      "           0       0.99      0.96      0.98       164\n",
      "           1       0.98      0.99      0.98       262\n",
      "\n",
      "    accuracy                           0.98       426\n",
      "   macro avg       0.98      0.98      0.98       426\n",
      "weighted avg       0.98      0.98      0.98       426\n",
      "\n",
      "\n",
      "Testing Classification Report:\n",
      "\n",
      "               precision    recall  f1-score   support\n",
      "\n",
      "           0       0.90      0.96      0.93        48\n",
      "           1       0.98      0.95      0.96        95\n",
      "\n",
      "    accuracy                           0.95       143\n",
      "   macro avg       0.94      0.95      0.95       143\n",
      "weighted avg       0.95      0.95      0.95       143\n",
      "\n"
     ]
    }
   ],
   "source": [
    "# import the breast cancer dataset\n",
    "breastcancer = datasets.load_breast_cancer()\n",
    "\n",
    "# find the data and labels\n",
    "X = breastcancer.data\n",
    "Y = breastcancer.target\n",
    "\n",
    "# split the data into train and test sets\n",
    "trainX, testX, trainY, testY = train_test_split(X, Y, test_size = 0.25)\n",
    "\n",
    "# build the classifier\n",
    "model = LogisticRegression(C = 10000, max_iter = 10000)\n",
    "\n",
    "# fit the classifier to the training data\n",
    "model.fit(trainX, trainY)\n",
    "\n",
    "# predict the labels of the training set\n",
    "predictedY = model.predict(trainX)\n",
    "\n",
    "# print quality metrics\n",
    "print('\\nTraining Classification Report:\\n\\n', classification_report(trainY, predictedY))\n",
    "\n",
    "# predict the labels of the test set\n",
    "predictedY = model.predict(testX)\n",
    "\n",
    "# print quality metrics\n",
    "print('\\nTesting Classification Report:\\n\\n', classification_report(testY, predictedY))"
   ]
  },
  {
   "cell_type": "markdown",
   "id": "60772691-ee20-42b7-81d8-67e61d056b4c",
   "metadata": {},
   "source": [
    "## Multiclass Logistic Regression\n",
    "\n",
    "Logistic regression can also be applied to classification problems with logistic regression. In this case, we predict one-hot vector labels $Y\\in\\{\\mathbf{e}_1, \\mathbf{e}_2, ..., \\mathbf{e}_k\\}$. Fitting the model simplifies to minimizing the **categorical cross-entropy** loss function\n",
    "\n",
    "$$L(\\theta)=-\\sum\\limits_{i=1}^n\\sum\\limits_{j=1}^k y_{ij}\\ln\\left(\\sigma\\left(\\theta^T_j x_i\\right)\\right)$$\n",
    "\n",
    "where $\\theta_j=(\\theta_{j0}, \\theta_{j1}, ..., \\theta_{jd})^T$ are parameters of the model for $j=1, ..., k$.\n",
    "\n",
    "In class, we derived the gradient, which can be used in gradient descent as\n",
    "\n",
    "$$\\frac{\\partial L}{\\partial\\theta_l}=\\sum\\limits_{i=1}^n \\left(\\pi_l(x_i) - y_{il}\\right)x_i=\\sum\\limits_{i=1}^n\\sum\\limits_{j=1}^k \\left(\\sigma\\left(\\theta^T x_i\\right)_l-y_{il}\\right)x_i$$\n",
    "\n",
    "where the **softmax** function $\\sigma:\\mathbb{R}^k\\to\\mathbb{R}^k$ is defined in each coordinate as\n",
    "\n",
    "$$\\sigma(z)_i=\\frac{e^{z_i}}{\\sum\\limits_{j=1}^k e^{z_j}}$$\n",
    "\n",
    "We will simply use the `scikit-learn` class `LogisticRegression` for the multiclass case to avoid some not-so-enlightening code (at least, given that it's just scaling up the binary case)."
   ]
  },
  {
   "cell_type": "markdown",
   "id": "9a07dfbf-b2c3-4039-9263-0282525df548",
   "metadata": {},
   "source": [
    "### Example: Classifying the Iris Dataset with Logistic Regression"
   ]
  },
  {
   "cell_type": "code",
   "execution_count": 5,
   "id": "61e389e0-723e-4489-978e-30a93e2c9029",
   "metadata": {},
   "outputs": [
    {
     "name": "stdout",
     "output_type": "stream",
     "text": [
      "\n",
      "Predicted class labels:\n",
      " [1 0 2 0 2 0 2 2 1 1 1 2 2 0 2 2 1 1 1 1 0 1 2 1 1 0 2 0 1 1 2 1 2 0 1 0 2\n",
      " 0]\n",
      "\n",
      "True class labels:\n",
      " [1 0 2 0 2 0 2 2 1 1 1 2 2 0 2 2 2 1 1 1 0 1 2 1 2 0 2 0 1 1 2 1 2 0 1 0 1\n",
      " 0]\n",
      "\n",
      "Classification Report:\n",
      "\n",
      "               precision    recall  f1-score   support\n",
      "\n",
      "           0       1.00      1.00      1.00        10\n",
      "           1       0.87      0.93      0.90        14\n",
      "           2       0.92      0.86      0.89        14\n",
      "\n",
      "    accuracy                           0.92        38\n",
      "   macro avg       0.93      0.93      0.93        38\n",
      "weighted avg       0.92      0.92      0.92        38\n",
      "\n",
      "\n",
      "Confusion Matrix:\n",
      "\n"
     ]
    },
    {
     "data": {
      "text/plain": [
       "<AxesSubplot:>"
      ]
     },
     "execution_count": 5,
     "metadata": {},
     "output_type": "execute_result"
    },
    {
     "data": {
      "image/png": "[encoded data removed]",
      "text/plain": [
       "<Figure size 432x288 with 2 Axes>"
      ]
     },
     "metadata": {
      "needs_background": "light"
     },
     "output_type": "display_data"
    }
   ],
   "source": [
    "iris = datasets.load_iris()\n",
    "\n",
    "# find the data and labels\n",
    "X = iris.data\n",
    "Y = iris.target\n",
    "\n",
    "# split the data into train and test sets\n",
    "trainX, testX, trainY, testY = train_test_split(X, Y, test_size = 0.25)\n",
    "\n",
    "# build the logistic regression classifier\n",
    "model = LogisticRegression(max_iter = 10000)\n",
    "\n",
    "# fit the logistic regression classifier to the training data\n",
    "model.fit(trainX, trainY)\n",
    "\n",
    "# predict the labels of the test set\n",
    "predictedY = model.predict(testX)\n",
    "\n",
    "# print predicted and true class labels\n",
    "print('\\nPredicted class labels:\\n', predictedY)\n",
    "print('\\nTrue class labels:\\n', testY)\n",
    "\n",
    "# print quality metrics\n",
    "print('\\nClassification Report:\\n\\n', classification_report(testY, predictedY))\n",
    "print('\\nConfusion Matrix:\\n')\n",
    "\n",
    "sn.heatmap(confusion_matrix(testY, predictedY), annot = True)"
   ]
  },
  {
   "cell_type": "markdown",
   "id": "d52547ae-89a8-4a62-9e65-d9ba4c39d694",
   "metadata": {},
   "source": [
    "### Example MNIST Handwritten Digits with Logistic Regression"
   ]
  },
  {
   "cell_type": "code",
   "execution_count": 6,
   "id": "504955d0-a044-4a63-9688-783d7d8c709c",
   "metadata": {},
   "outputs": [
    {
     "name": "stdout",
     "output_type": "stream",
     "text": [
      "\n",
      "Training Classification Report:\n",
      "\n",
      "               precision    recall  f1-score   support\n",
      "\n",
      "           0       0.97      0.98      0.98      5923\n",
      "           1       0.96      0.98      0.97      6742\n",
      "           2       0.94      0.92      0.93      5958\n",
      "           3       0.92      0.91      0.92      6131\n",
      "           4       0.94      0.95      0.94      5842\n",
      "           5       0.91      0.91      0.91      5421\n",
      "           6       0.96      0.97      0.96      5918\n",
      "           7       0.95      0.95      0.95      6265\n",
      "           8       0.91      0.90      0.91      5851\n",
      "           9       0.92      0.92      0.92      5949\n",
      "\n",
      "    accuracy                           0.94     60000\n",
      "   macro avg       0.94      0.94      0.94     60000\n",
      "weighted avg       0.94      0.94      0.94     60000\n",
      "\n",
      "\n",
      "Testing Classification Report:\n",
      "\n",
      "               precision    recall  f1-score   support\n",
      "\n",
      "           0       0.95      0.97      0.96       980\n",
      "           1       0.96      0.98      0.97      1135\n",
      "           2       0.93      0.90      0.91      1032\n",
      "           3       0.90      0.92      0.91      1010\n",
      "           4       0.94      0.94      0.94       982\n",
      "           5       0.90      0.87      0.88       892\n",
      "           6       0.94      0.95      0.95       958\n",
      "           7       0.93      0.92      0.93      1028\n",
      "           8       0.88      0.88      0.88       974\n",
      "           9       0.91      0.92      0.91      1009\n",
      "\n",
      "    accuracy                           0.93     10000\n",
      "   macro avg       0.92      0.92      0.92     10000\n",
      "weighted avg       0.93      0.93      0.93     10000\n",
      "\n",
      "\n",
      "Testing Confusion Matrix:\n",
      "\n"
     ]
    },
    {
     "data": {
      "text/plain": [
       "<AxesSubplot:>"
      ]
     },
     "execution_count": 6,
     "metadata": {},
     "output_type": "execute_result"
    },
    {
     "data": {
      "image/png": "[encoded data removed]",
      "text/plain": [
       "<Figure size 432x288 with 2 Axes>"
      ]
     },
     "metadata": {
      "needs_background": "light"
     },
     "output_type": "display_data"
    }
   ],
   "source": [
    "(trainX, trainY), (testX, testY) = mnist.load_data()\n",
    "\n",
    "# flatten the data to 768-vectors and normalize\n",
    "trainX = trainX.reshape(trainX.shape[0], trainX.shape[1] * trainX.shape[2])\n",
    "trainX = trainX.astype('float')/255.0\n",
    "\n",
    "testX = testX.reshape(testX.shape[0], testX.shape[1] * testX.shape[2])\n",
    "testX = testX.astype('float')/255.0\n",
    "\n",
    "# build the classifier\n",
    "model = LogisticRegression(max_iter = 10000, njobs = -1)\n",
    "\n",
    "# fit the classifier to the training data\n",
    "model.fit(trainX, trainY)\n",
    "\n",
    "# predict the labels of the training set\n",
    "predictedY = model.predict(trainX)\n",
    "\n",
    "# print quality metrics\n",
    "print('\\nTraining Classification Report:\\n\\n', classification_report(trainY, predictedY))\n",
    "\n",
    "# predict the labels of the test set\n",
    "predictedY = model.predict(testX)\n",
    "\n",
    "# print quality metrics\n",
    "print('\\nTesting Classification Report:\\n\\n', classification_report(testY, predictedY))\n",
    "\n",
    "# predict the labels of the test set\n",
    "predictedY = model.predict(testX)\n",
    "\n",
    "print('\\nTesting Confusion Matrix:\\n')\n",
    "\n",
    "sn.heatmap(confusion_matrix(testY, predictedY))"
   ]
  },
  {
   "cell_type": "markdown",
   "id": "5c6cc816-cc7c-464c-b281-32039651c734",
   "metadata": {},
   "source": [
    "We see 93% accuracy on the test set with zero hyperparameter tuning!"
   ]
  },
  {
   "cell_type": "markdown",
   "id": "5bd43a14-93bb-4843-a100-46a145f84152",
   "metadata": {},
   "source": [
    "# Lecture 11: Discriminant Analysis\n",
    "\n",
    "Today, we will apply some of the theory from class to use linear discriminant analysis (and quadratic discriminant analysis) on some real classification problems. Let's import some libraries first."
   ]
  },
  {
   "cell_type": "code",
   "execution_count": 5,
   "id": "edeb9aea-1100-49af-b5b0-4836e346eca9",
   "metadata": {},
   "outputs": [],
   "source": [
    "import matplotlib.pyplot as plt\n",
    "import numpy as np\n",
    "import seaborn as sn\n",
    "import time\n",
    "\n",
    "from sklearn import datasets\n",
    "from sklearn.discriminant_analysis import LinearDiscriminantAnalysis\n",
    "from sklearn.discriminant_analysis import QuadraticDiscriminantAnalysis\n",
    "from sklearn.metrics import accuracy_score\n",
    "from sklearn.metrics import classification_report\n",
    "from sklearn.metrics import confusion_matrix\n",
    "from sklearn.model_selection import cross_val_score\n",
    "from sklearn.model_selection import train_test_split\n",
    "from tensorflow.keras.datasets import mnist\n",
    "from tensorflow.keras.datasets import cifar10"
   ]
  },
  {
   "cell_type": "markdown",
   "id": "d91b3a7b-cbac-4822-9f29-06c7d6d9b892",
   "metadata": {},
   "source": [
    "### (Fisher's) LDA Class\n",
    "\n",
    "(Writing a class for Fisher's LDA will be a problem on Homework 3)"
   ]
  },
  {
   "cell_type": "markdown",
   "id": "67cd5a9f-fb31-4af8-98b3-2128cd7cb49e",
   "metadata": {},
   "source": [
    "### DA Class"
   ]
  },
  {
   "cell_type": "code",
   "execution_count": 6,
   "id": "bf16aefd-b966-4ebd-8575-4c3e2d0c78fd",
   "metadata": {},
   "outputs": [],
   "source": [
    "from sklearn.base import BaseEstimator, ClassifierMixin, TransformerMixin\n",
    "\n",
    "class DA(ClassifierMixin, BaseEstimator):\n",
    "    def __init__(self, equalCovariances = True, alpha = 1, gamma = 1):\n",
    "        # if True, LDA\n",
    "        # if False, QDA\n",
    "        self.equalCovariances = equalCovariances\n",
    "        \n",
    "        # if less than 1, regularized DA (requires QDA)\n",
    "        self.alpha = alpha\n",
    "        \n",
    "        # if less than 1, shrinkage\n",
    "        self.gamma = gamma\n",
    "        \n",
    "    def fit(self, X, Y):\n",
    "        # find the unique labels\n",
    "        uniqueY = np.unique(Y)\n",
    "        \n",
    "        # find the dimensions\n",
    "        n = X.shape[0]\n",
    "        self.d = X.shape[1]\n",
    "        self.k = uniqueY.shape[0]\n",
    "\n",
    "        # initialize the variables\n",
    "        self.prior = np.zeros([self.k, 1])\n",
    "        self.mu = np.zeros([self.k, 1, self.d])\n",
    "        \n",
    "        # compute the covariance matrix\n",
    "        if self.equalCovariances or self.gamma < 1 or self.alpha < 1:\n",
    "            mu = np.mean(X, axis = 0)\n",
    "            Xbar = X - mu\n",
    "            self.Sig = (1/n) * Xbar.T @ Xbar\n",
    "            \n",
    "            # shrinkage\n",
    "            if self.gamma < 1:\n",
    "                self.Sig = self.gamma * self.Sig + (1 - self.gamma) * np.diag(self.Sig)\n",
    "                \n",
    "            self.invCov = np.linalg.inv(self.Sig)\n",
    "        \n",
    "        if not self.equalCovariances:\n",
    "            self.Sigma = np.zeros([self.k, self.d, self.d])            \n",
    "        \n",
    "        for i, y in enumerate(uniqueY):\n",
    "            # extract a class of datapoints from X\n",
    "            Xi = X[Y == y]\n",
    "            \n",
    "            # compute the size of each class\n",
    "            ni = Xi.shape[0]\n",
    "            \n",
    "            # compute the priors\n",
    "            self.prior[i] = ni / n\n",
    "                        \n",
    "            # compute the feature means within the class\n",
    "            self.mu[i] = np.mean(Xi, axis = 0)\n",
    "            \n",
    "            # compute separate covariances for QDA\n",
    "            if not self.equalCovariances:\n",
    "                # compute the centered data\n",
    "                XiBar = Xi - self.mu[i]\n",
    "            \n",
    "                # compute the class sample covariance\n",
    "                self.Sigma[i] = (1/ni) * XiBar.T @ XiBar\n",
    "                \n",
    "                # regularization\n",
    "                if self.alpha < 1:\n",
    "                    self.Sigma[i] = self.alpha * self.Sigma[i] + (1 - self.alpha) * self.Sig\n",
    "                \n",
    "        \n",
    "    def predict(self, X):\n",
    "        n = X.shape[0]\n",
    "        \n",
    "        discriminants = np.zeros([n, self.k])\n",
    "        \n",
    "        for i, x in enumerate(X):\n",
    "            x = np.atleast_2d(x).T\n",
    "            \n",
    "            for j in range(self.k):\n",
    "                if not self.equalCovariances:\n",
    "                    self.invCov = np.linalg.inv(self.Sigma[j])\n",
    "\n",
    "                discriminants[i][j] = x.T @ self.invCov @ self.mu[j].T - (1/2) * self.mu[j] @ self.invCov @ self.mu[j].T + np.log(self.prior[j])\n",
    "\n",
    "            \n",
    "        predictions = np.argmax(discriminants, axis = 1)\n",
    "        \n",
    "        return predictions\n",
    "    \n",
    "    def score(self, X, y, sample_weight = None):\n",
    "        return accuracy_score(y, self.predict(X), sample_weight = sample_weight)"
   ]
  },
  {
   "cell_type": "markdown",
   "id": "5846cd4f-24f0-4bc0-8ac8-8c05dc515bf0",
   "metadata": {},
   "source": [
    "### Example: Randomly Generated Points"
   ]
  },
  {
   "cell_type": "code",
   "execution_count": 7,
   "id": "7229025b-5bbe-4e20-9329-a33b0398dd13",
   "metadata": {},
   "outputs": [
    {
     "data": {
      "text/plain": [
       "<matplotlib.collections.PathCollection at 0x1f2407a72b0>"
      ]
     },
     "execution_count": 7,
     "metadata": {},
     "output_type": "execute_result"
    },
    {
     "data": {
      "image/png": "[encoded data removed]",
      "text/plain": [
       "<Figure size 432x288 with 1 Axes>"
      ]
     },
     "metadata": {
      "needs_background": "light"
     },
     "output_type": "display_data"
    }
   ],
   "source": [
    "# number of points to generate\n",
    "numberOfPoints = 500\n",
    "\n",
    "# generate points from class 0\n",
    "mean1 = np.array([-1, -1])\n",
    "covariance1 = np.array([[5, 0], [0, 5]])\n",
    "X1 = np.random.multivariate_normal(mean1, covariance1, numberOfPoints)\n",
    "\n",
    "# generate points from class 1\n",
    "mean2 = np.array([3, 3])\n",
    "covariance2 = np.array([[5, 3], [3, 5]])\n",
    "X2 = np.random.multivariate_normal(mean2, covariance2, numberOfPoints)\n",
    "\n",
    "# generate points from class 2\n",
    "mean3 = np.array([-2, 5])\n",
    "covariance3 = np.array([[5, 3], [3, 5]])\n",
    "X3 = np.random.multivariate_normal(mean3, covariance3, numberOfPoints)\n",
    "\n",
    "# stack the points\n",
    "X = np.vstack((X1, X2, X3))\n",
    "\n",
    "# create a vector of the labels\n",
    "Y = np.hstack((numberOfPoints * [0], numberOfPoints * [1], numberOfPoints * [2]))\n",
    "\n",
    "# randomly choose 75% of the data to be the training set and 25% for the testing set\n",
    "trainX, testX, trainY, testY = train_test_split(X, Y, test_size = 0.25, random_state = 1)\n",
    "\n",
    "# plot the training set\n",
    "plt.scatter(trainX[:,0], trainX[:,1], c = trainY, marker = '.')"
   ]
  },
  {
   "cell_type": "markdown",
   "id": "063277da-50e3-4491-91c7-48bf7bda9b1d",
   "metadata": {},
   "source": [
    "#### Using Our DA method..."
   ]
  },
  {
   "cell_type": "code",
   "execution_count": 8,
   "id": "72e0e151-a017-4190-aae0-ded29e00d2e4",
   "metadata": {},
   "outputs": [
    {
     "name": "stdout",
     "output_type": "stream",
     "text": [
      "\n",
      "Classification Report:\n",
      "\n",
      "               precision    recall  f1-score   support\n",
      "\n",
      "           0       0.82      0.78      0.80       120\n",
      "           1       0.85      0.87      0.86       127\n",
      "           2       0.89      0.91      0.90       128\n",
      "\n",
      "    accuracy                           0.86       375\n",
      "   macro avg       0.85      0.85      0.85       375\n",
      "weighted avg       0.86      0.86      0.86       375\n",
      "\n",
      "\n",
      "Confusion Matrix:\n",
      "\n"
     ]
    },
    {
     "data": {
      "text/plain": [
       "<AxesSubplot:>"
      ]
     },
     "execution_count": 8,
     "metadata": {},
     "output_type": "execute_result"
    },
    {
     "data": {
      "image/png": "[encoded data removed]",
      "text/plain": [
       "<Figure size 432x288 with 2 Axes>"
      ]
     },
     "metadata": {
      "needs_background": "light"
     },
     "output_type": "display_data"
    }
   ],
   "source": [
    "# fit the model to the training data\n",
    "model = DA()\n",
    "model.fit(trainX,trainY)\n",
    "\n",
    "# predict the labels of the test set\n",
    "predictedY = model.predict(testX)\n",
    "\n",
    "plt.scatter(trainX[:,0], trainX[:,1], c = trainY, marker = '.')\n",
    "\n",
    "# print quality metrics\n",
    "print('\\nClassification Report:\\n\\n', classification_report(testY, predictedY))\n",
    "print('\\nConfusion Matrix:\\n')\n",
    "\n",
    "sn.heatmap(confusion_matrix(testY, predictedY), annot = True)"
   ]
  },
  {
   "cell_type": "markdown",
   "id": "7a81b27c-e4a7-4c52-9e75-0e3940f65b34",
   "metadata": {},
   "source": [
    "Let's try with QDA."
   ]
  },
  {
   "cell_type": "code",
   "execution_count": 9,
   "id": "eea75a4d-b515-4304-937e-5ad211dce525",
   "metadata": {},
   "outputs": [
    {
     "name": "stdout",
     "output_type": "stream",
     "text": [
      "\n",
      "Classification Report:\n",
      "\n",
      "               precision    recall  f1-score   support\n",
      "\n",
      "           0       0.86      0.72      0.79       120\n",
      "           1       0.85      0.87      0.86       127\n",
      "           2       0.85      0.96      0.90       128\n",
      "\n",
      "    accuracy                           0.85       375\n",
      "   macro avg       0.85      0.85      0.85       375\n",
      "weighted avg       0.85      0.85      0.85       375\n",
      "\n",
      "\n",
      "Confusion Matrix:\n",
      "\n"
     ]
    },
    {
     "data": {
      "text/plain": [
       "<AxesSubplot:>"
      ]
     },
     "execution_count": 9,
     "metadata": {},
     "output_type": "execute_result"
    },
    {
     "data": {
      "image/png": "[encoded data removed]",
      "text/plain": [
       "<Figure size 432x288 with 2 Axes>"
      ]
     },
     "metadata": {
      "needs_background": "light"
     },
     "output_type": "display_data"
    }
   ],
   "source": [
    "# fit the model to the training data\n",
    "model = DA(equalCovariances = False)\n",
    "model.fit(trainX,trainY)\n",
    "\n",
    "# predict the labels of the test set\n",
    "predictedY = model.predict(testX)\n",
    "\n",
    "plt.scatter(trainX[:,0], trainX[:,1], c = trainY, marker = '.')\n",
    "\n",
    "# print quality metrics\n",
    "print('\\nClassification Report:\\n\\n', classification_report(testY, predictedY))\n",
    "print('\\nConfusion Matrix:\\n')\n",
    "\n",
    "sn.heatmap(confusion_matrix(testY, predictedY), annot = True)"
   ]
  },
  {
   "cell_type": "code",
   "execution_count": 10,
   "id": "cb1f6595-5b49-4a58-90c6-4ae4946270e9",
   "metadata": {},
   "outputs": [
    {
     "name": "stdout",
     "output_type": "stream",
     "text": [
      "Mean CV accuracy for parameters 0.1 0.1 is 0.8480000000000001\n",
      "Mean CV accuracy for parameters 0.1 0.2 is 0.8506666666666668\n",
      "Mean CV accuracy for parameters 0.1 0.3 is 0.8551111111111112\n",
      "Mean CV accuracy for parameters 0.1 0.4 is 0.863111111111111\n",
      "Mean CV accuracy for parameters 0.1 0.5 is 0.8666666666666666\n",
      "Mean CV accuracy for parameters 0.1 0.6 is 0.8675555555555556\n",
      "Mean CV accuracy for parameters 0.1 0.7 is 0.8693333333333333\n",
      "Mean CV accuracy for parameters 0.1 0.8 is 0.8728888888888889\n",
      "Mean CV accuracy for parameters 0.1 0.9 is 0.8711111111111111\n",
      "Mean CV accuracy for parameters 0.1 1.0 is 0.8711111111111112\n",
      "Mean CV accuracy for parameters 0.2 0.1 is 0.8515555555555556\n",
      "Mean CV accuracy for parameters 0.2 0.2 is 0.8542222222222222\n",
      "Mean CV accuracy for parameters 0.2 0.3 is 0.8560000000000001\n",
      "Mean CV accuracy for parameters 0.2 0.4 is 0.8657777777777778\n",
      "Mean CV accuracy for parameters 0.2 0.5 is 0.8675555555555554\n",
      "Mean CV accuracy for parameters 0.2 0.6 is 0.8702222222222222\n",
      "Mean CV accuracy for parameters 0.2 0.7 is 0.8711111111111112\n",
      "Mean CV accuracy for parameters 0.2 0.8 is 0.8728888888888889\n",
      "Mean CV accuracy for parameters 0.2 0.9 is 0.8719999999999999\n",
      "Mean CV accuracy for parameters 0.2 1.0 is 0.8720000000000001\n",
      "Mean CV accuracy for parameters 0.3 0.1 is 0.8524444444444444\n",
      "Mean CV accuracy for parameters 0.3 0.2 is 0.8560000000000001\n",
      "Mean CV accuracy for parameters 0.3 0.3 is 0.8613333333333333\n",
      "Mean CV accuracy for parameters 0.3 0.4 is 0.8639999999999999\n",
      "Mean CV accuracy for parameters 0.3 0.5 is 0.8675555555555554\n",
      "Mean CV accuracy for parameters 0.3 0.6 is 0.8702222222222222\n",
      "Mean CV accuracy for parameters 0.3 0.7 is 0.8737777777777778\n",
      "Mean CV accuracy for parameters 0.3 0.8 is 0.8746666666666666\n",
      "Mean CV accuracy for parameters 0.3 0.9 is 0.8737777777777778\n",
      "Mean CV accuracy for parameters 0.3 1.0 is 0.8746666666666666\n",
      "Mean CV accuracy for parameters 0.4 0.1 is 0.8515555555555556\n",
      "Mean CV accuracy for parameters 0.4 0.2 is 0.8568888888888889\n",
      "Mean CV accuracy for parameters 0.4 0.3 is 0.863111111111111\n",
      "Mean CV accuracy for parameters 0.4 0.4 is 0.8666666666666666\n",
      "Mean CV accuracy for parameters 0.4 0.5 is 0.8693333333333333\n",
      "Mean CV accuracy for parameters 0.4 0.6 is 0.8720000000000001\n",
      "Mean CV accuracy for parameters 0.4 0.7 is 0.8737777777777778\n",
      "Mean CV accuracy for parameters 0.4 0.8 is 0.8764444444444445\n",
      "Mean CV accuracy for parameters 0.4 0.9 is 0.8746666666666666\n",
      "Mean CV accuracy for parameters 0.4 1.0 is 0.8746666666666666\n",
      "Mean CV accuracy for parameters 0.5 0.1 is 0.8542222222222222\n",
      "Mean CV accuracy for parameters 0.5 0.2 is 0.8613333333333333\n",
      "Mean CV accuracy for parameters 0.5 0.3 is 0.8657777777777778\n",
      "Mean CV accuracy for parameters 0.5 0.4 is 0.8693333333333333\n",
      "Mean CV accuracy for parameters 0.5 0.5 is 0.8702222222222222\n",
      "Mean CV accuracy for parameters 0.5 0.6 is 0.8728888888888889\n",
      "Mean CV accuracy for parameters 0.5 0.7 is 0.8746666666666666\n",
      "Mean CV accuracy for parameters 0.5 0.8 is 0.8764444444444445\n",
      "Mean CV accuracy for parameters 0.5 0.9 is 0.8764444444444445\n",
      "Mean CV accuracy for parameters 0.5 1.0 is 0.8746666666666666\n",
      "Mean CV accuracy for parameters 0.6 0.1 is 0.8586666666666668\n",
      "Mean CV accuracy for parameters 0.6 0.2 is 0.8622222222222222\n",
      "Mean CV accuracy for parameters 0.6 0.3 is 0.8675555555555554\n",
      "Mean CV accuracy for parameters 0.6 0.4 is 0.8693333333333333\n",
      "Mean CV accuracy for parameters 0.6 0.5 is 0.8711111111111112\n",
      "Mean CV accuracy for parameters 0.6 0.6 is 0.8728888888888889\n",
      "Mean CV accuracy for parameters 0.6 0.7 is 0.8746666666666666\n",
      "Mean CV accuracy for parameters 0.6 0.8 is 0.8791111111111111\n",
      "Mean CV accuracy for parameters 0.6 0.9 is 0.8773333333333333\n",
      "Mean CV accuracy for parameters 0.6 1.0 is 0.8764444444444444\n",
      "Mean CV accuracy for parameters 0.7 0.1 is 0.863111111111111\n",
      "Mean CV accuracy for parameters 0.7 0.2 is 0.8666666666666666\n",
      "Mean CV accuracy for parameters 0.7 0.3 is 0.8684444444444444\n",
      "Mean CV accuracy for parameters 0.7 0.4 is 0.8693333333333333\n",
      "Mean CV accuracy for parameters 0.7 0.5 is 0.8728888888888889\n",
      "Mean CV accuracy for parameters 0.7 0.6 is 0.8728888888888889\n",
      "Mean CV accuracy for parameters 0.7 0.7 is 0.8746666666666666\n",
      "Mean CV accuracy for parameters 0.7 0.8 is 0.8782222222222222\n",
      "Mean CV accuracy for parameters 0.7 0.9 is 0.8782222222222222\n",
      "Mean CV accuracy for parameters 0.7 1.0 is 0.8791111111111111\n",
      "Mean CV accuracy for parameters 0.8 0.1 is 0.8675555555555554\n",
      "Mean CV accuracy for parameters 0.8 0.2 is 0.8675555555555554\n",
      "Mean CV accuracy for parameters 0.8 0.3 is 0.8684444444444444\n",
      "Mean CV accuracy for parameters 0.8 0.4 is 0.8702222222222222\n",
      "Mean CV accuracy for parameters 0.8 0.5 is 0.8711111111111112\n",
      "Mean CV accuracy for parameters 0.8 0.6 is 0.8719999999999999\n",
      "Mean CV accuracy for parameters 0.8 0.7 is 0.873777777777778\n",
      "Mean CV accuracy for parameters 0.8 0.8 is 0.8764444444444445\n",
      "Mean CV accuracy for parameters 0.8 0.9 is 0.8791111111111111\n",
      "Mean CV accuracy for parameters 0.8 1.0 is 0.8808888888888889\n",
      "Mean CV accuracy for parameters 0.9 0.1 is 0.8719999999999999\n",
      "Mean CV accuracy for parameters 0.9 0.2 is 0.8737777777777778\n",
      "Mean CV accuracy for parameters 0.9 0.3 is 0.8728888888888889\n",
      "Mean CV accuracy for parameters 0.9 0.4 is 0.8728888888888889\n",
      "Mean CV accuracy for parameters 0.9 0.5 is 0.873777777777778\n",
      "Mean CV accuracy for parameters 0.9 0.6 is 0.8755555555555556\n",
      "Mean CV accuracy for parameters 0.9 0.7 is 0.8746666666666668\n",
      "Mean CV accuracy for parameters 0.9 0.8 is 0.8773333333333333\n",
      "Mean CV accuracy for parameters 0.9 0.9 is 0.8773333333333333\n",
      "Mean CV accuracy for parameters 0.9 1.0 is 0.8782222222222222\n",
      "Mean CV accuracy for parameters 1.0 0.1 is 0.8773333333333333\n",
      "Mean CV accuracy for parameters 1.0 0.2 is 0.8773333333333333\n",
      "Mean CV accuracy for parameters 1.0 0.3 is 0.8773333333333333\n",
      "Mean CV accuracy for parameters 1.0 0.4 is 0.8773333333333333\n",
      "Mean CV accuracy for parameters 1.0 0.5 is 0.8773333333333333\n",
      "Mean CV accuracy for parameters 1.0 0.6 is 0.8773333333333333\n",
      "Mean CV accuracy for parameters 1.0 0.7 is 0.8773333333333333\n",
      "Mean CV accuracy for parameters 1.0 0.8 is 0.8773333333333333\n",
      "Mean CV accuracy for parameters 1.0 0.9 is 0.8773333333333333\n",
      "Mean CV accuracy for parameters 1.0 1.0 is 0.8773333333333333\n",
      "\n",
      "The best dev accuracy 0.8808888888888889 occured with alpha = 0.8 and gamma = 1.0\n",
      "\n",
      "Test Classification Report for the best hyperparameters:\n",
      "\n",
      "               precision    recall  f1-score   support\n",
      "\n",
      "           0       0.85      0.73      0.79       120\n",
      "           1       0.86      0.86      0.86       127\n",
      "           2       0.85      0.96      0.90       128\n",
      "\n",
      "    accuracy                           0.85       375\n",
      "   macro avg       0.85      0.85      0.85       375\n",
      "weighted avg       0.85      0.85      0.85       375\n",
      "\n",
      "\n",
      "Test Confusion Matrix:\n",
      "\n"
     ]
    },
    {
     "data": {
      "text/plain": [
       "<AxesSubplot:>"
      ]
     },
     "execution_count": 10,
     "metadata": {},
     "output_type": "execute_result"
    },
    {
     "data": {
      "image/png": "[encoded data removed]",
      "text/plain": [
       "<Figure size 432x288 with 2 Axes>"
      ]
     },
     "metadata": {
      "needs_background": "light"
     },
     "output_type": "display_data"
    }
   ],
   "source": [
    "# initialize accuracy and hyperparameter list\n",
    "bestAccuracy = [0, 0, 0]\n",
    "\n",
    "# test regularization hyperparameters 0.00, 0.01, ..., 0.19\n",
    "for i in range(1, 11):\n",
    "    for j in range(1, 11):\n",
    "        alpha = i/10\n",
    "        gamma = j/10\n",
    "\n",
    "        # build the QDA classifier\n",
    "        model = DA(False, alpha, gamma)\n",
    "\n",
    "        # fit the QDA classifier to the training data\n",
    "        model.fit(trainX, trainY)\n",
    "        \n",
    "        # compute the test predictions\n",
    "        predictedY = model.predict(testX)\n",
    "\n",
    "        # find the mean cross-validation accuracy\n",
    "        mean_cv_scores = np.mean(cross_val_score(model, trainX, trainY, cv = 5))\n",
    "\n",
    "        # print quality metrics\n",
    "        print('Mean CV accuracy for parameters', alpha, gamma, 'is', mean_cv_scores)\n",
    "\n",
    "        # save the hyperparameter reg_param if better than found before\n",
    "        if mean_cv_scores > bestAccuracy[0]:\n",
    "            bestAccuracy = [mean_cv_scores, alpha, gamma]\n",
    "        \n",
    "print('\\nThe best dev accuracy', bestAccuracy[0], 'occured with alpha =', bestAccuracy[1], 'and gamma =', bestAccuracy[2])\n",
    "        \n",
    "# build the QDA classifier\n",
    "model = DA(False, bestAccuracy[1], bestAccuracy[2])\n",
    "\n",
    "# fit the QDA classifier to the training data\n",
    "model.fit(trainX, trainY)\n",
    "\n",
    "# predict the labels of the test set\n",
    "predictedY = model.predict(testX)\n",
    "\n",
    "# print quality metrics\n",
    "print('\\nTest Classification Report for the best hyperparameters:\\n\\n', classification_report(testY, predictedY))\n",
    "\n",
    "print('\\nTest Confusion Matrix:\\n')\n",
    "sn.heatmap(confusion_matrix(testY, predictedY))"
   ]
  },
  {
   "cell_type": "markdown",
   "id": "8123950a-4a6e-4635-b31f-62d14d0308ac",
   "metadata": {},
   "source": [
    "#### `scikit-learn` Implementations\n",
    "\n",
    "Now that we fully see how LDA and QDA work, we will rely on the optimized `scikit-learn` implementations of LDA and QDA."
   ]
  },
  {
   "cell_type": "code",
   "execution_count": 11,
   "id": "07cfc214-abc2-491c-bf40-4123035f2201",
   "metadata": {},
   "outputs": [
    {
     "name": "stdout",
     "output_type": "stream",
     "text": [
      "\n",
      "Classification Report:\n",
      "\n",
      "               precision    recall  f1-score   support\n",
      "\n",
      "           0       0.85      0.78      0.81       120\n",
      "           1       0.89      0.85      0.87       127\n",
      "           2       0.85      0.96      0.90       128\n",
      "\n",
      "    accuracy                           0.86       375\n",
      "   macro avg       0.86      0.86      0.86       375\n",
      "weighted avg       0.86      0.86      0.86       375\n",
      "\n",
      "\n",
      "Confusion Matrix:\n",
      "\n"
     ]
    },
    {
     "data": {
      "text/plain": [
       "<AxesSubplot:>"
      ]
     },
     "execution_count": 11,
     "metadata": {},
     "output_type": "execute_result"
    },
    {
     "data": {
      "image/png": "[encoded data removed]",
      "text/plain": [
       "<Figure size 432x288 with 2 Axes>"
      ]
     },
     "metadata": {
      "needs_background": "light"
     },
     "output_type": "display_data"
    }
   ],
   "source": [
    "# fit the model to the training data\n",
    "model = LinearDiscriminantAnalysis()\n",
    "model.fit(trainX,trainY)\n",
    "\n",
    "# predict the labels of the test set\n",
    "predictedY = model.predict(testX)\n",
    "\n",
    "plt.scatter(trainX[:,0], trainX[:,1], c = trainY, marker = '.')\n",
    "\n",
    "# print quality metrics\n",
    "print('\\nClassification Report:\\n\\n', classification_report(testY, predictedY))\n",
    "print('\\nConfusion Matrix:\\n')\n",
    "\n",
    "sn.heatmap(confusion_matrix(testY, predictedY), annot = True)"
   ]
  },
  {
   "cell_type": "code",
   "execution_count": 12,
   "id": "0d72fe42-05f1-48c2-b5ba-325d5870094c",
   "metadata": {},
   "outputs": [
    {
     "name": "stdout",
     "output_type": "stream",
     "text": [
      "Mean CV accuracy for regularization parameter 0.0 is 0.8817777777777778\n",
      "Mean CV accuracy for regularization parameter 0.01 is 0.8817777777777778\n",
      "Mean CV accuracy for regularization parameter 0.02 is 0.8826666666666666\n",
      "Mean CV accuracy for regularization parameter 0.03 is 0.8826666666666666\n",
      "Mean CV accuracy for regularization parameter 0.04 is 0.8826666666666666\n",
      "Mean CV accuracy for regularization parameter 0.05 is 0.8817777777777778\n",
      "Mean CV accuracy for regularization parameter 0.06 is 0.8817777777777778\n",
      "Mean CV accuracy for regularization parameter 0.07 is 0.8817777777777778\n",
      "Mean CV accuracy for regularization parameter 0.08 is 0.8817777777777778\n",
      "Mean CV accuracy for regularization parameter 0.09 is 0.8817777777777778\n",
      "Mean CV accuracy for regularization parameter 0.1 is 0.8817777777777778\n",
      "Mean CV accuracy for regularization parameter 0.11 is 0.8817777777777778\n",
      "Mean CV accuracy for regularization parameter 0.12 is 0.8817777777777778\n",
      "Mean CV accuracy for regularization parameter 0.13 is 0.8800000000000001\n",
      "Mean CV accuracy for regularization parameter 0.14 is 0.8800000000000001\n",
      "Mean CV accuracy for regularization parameter 0.15 is 0.8800000000000001\n",
      "Mean CV accuracy for regularization parameter 0.16 is 0.8800000000000001\n",
      "Mean CV accuracy for regularization parameter 0.17 is 0.8800000000000001\n",
      "Mean CV accuracy for regularization parameter 0.18 is 0.8800000000000001\n",
      "Mean CV accuracy for regularization parameter 0.19 is 0.8800000000000001\n",
      "Mean CV accuracy for regularization parameter 0.2 is 0.8800000000000001\n",
      "Mean CV accuracy for regularization parameter 0.21 is 0.8800000000000001\n",
      "Mean CV accuracy for regularization parameter 0.22 is 0.8808888888888889\n",
      "Mean CV accuracy for regularization parameter 0.23 is 0.8808888888888889\n",
      "Mean CV accuracy for regularization parameter 0.24 is 0.8808888888888889\n",
      "\n",
      "The best dev accuracy 0.8826666666666666 occured with 0.02 regularization parameter\n",
      "\n",
      "Test Classification Report for 0.8826666666666666 reg_param:\n",
      "\n",
      "               precision    recall  f1-score   support\n",
      "\n",
      "           0       0.84      0.78      0.81       120\n",
      "           1       0.88      0.88      0.88       127\n",
      "           2       0.88      0.94      0.91       128\n",
      "\n",
      "    accuracy                           0.87       375\n",
      "   macro avg       0.87      0.86      0.86       375\n",
      "weighted avg       0.87      0.87      0.87       375\n",
      "\n",
      "\n",
      "Confusion Matrix:\n",
      "\n"
     ]
    },
    {
     "data": {
      "text/plain": [
       "<AxesSubplot:>"
      ]
     },
     "execution_count": 12,
     "metadata": {},
     "output_type": "execute_result"
    },
    {
     "data": {
      "image/png": "[encoded data removed]",
      "text/plain": [
       "<Figure size 432x288 with 2 Axes>"
      ]
     },
     "metadata": {
      "needs_background": "light"
     },
     "output_type": "display_data"
    }
   ],
   "source": [
    "# initialize accuracy and hyperparameter list\n",
    "bestAccuracy = [0, 0]\n",
    "\n",
    "# test regularization hyperparameters 0.00, 0.01, ..., 0.20\n",
    "for i in range(25):\n",
    "    rp = i/100\n",
    "    \n",
    "    # build the QDA classifier\n",
    "    model = QuadraticDiscriminantAnalysis(reg_param = rp)\n",
    "\n",
    "    # fit the QDA classifier to the training data\n",
    "    model.fit(trainX, trainY)\n",
    "    \n",
    "    # find the mean cross-validation accuracy\n",
    "    mean_cv_scores = np.mean(cross_val_score(model, trainX, trainY, cv = 5))\n",
    "\n",
    "    # print quality metrics\n",
    "    print('Mean CV accuracy for regularization parameter', rp, 'is', mean_cv_scores)\n",
    "    \n",
    "    # save the hyperparameter reg_param if better than found before\n",
    "    if mean_cv_scores > bestAccuracy[0]:\n",
    "        bestAccuracy = [mean_cv_scores, rp]\n",
    "        \n",
    "print('\\nThe best dev accuracy', bestAccuracy[0], 'occured with', bestAccuracy[1], 'regularization parameter')\n",
    "        \n",
    "# build the QDA classifier\n",
    "model = QuadraticDiscriminantAnalysis(reg_param = bestAccuracy[1])\n",
    "\n",
    "# fit the QDA classifier to the training data\n",
    "model.fit(trainX, trainY)\n",
    "\n",
    "# predict the labels of the test set\n",
    "predictedY = model.predict(testX)\n",
    "\n",
    "# print quality metrics\n",
    "print('\\nTest Classification Report for', bestAccuracy[0], 'reg_param:\\n\\n', classification_report(testY, predictedY))\n",
    "print('\\nConfusion Matrix:\\n')\n",
    "sn.heatmap(confusion_matrix(testY, predictedY), annot = True)"
   ]
  },
  {
   "cell_type": "markdown",
   "id": "a6aa0ffb-7d63-4b56-afe8-796bfafc21f9",
   "metadata": {},
   "source": [
    "### Example from scikit-learn: LDA vs QDA\n",
    "\n",
    "This example is lightly modified from the [scikit-learn documentation](https://scikit-learn.org/stable/auto_examples/classification/plot_lda_qda.html#sphx-glr-auto-examples-classification-plot-lda-qda-py)."
   ]
  },
  {
   "cell_type": "code",
   "execution_count": 13,
   "id": "2b6353a9-1f57-4c11-bc1d-a6dd20c7797b",
   "metadata": {},
   "outputs": [
    {
     "data": {
      "image/png": "[encoded data removed]",
      "text/plain": [
       "<Figure size 720x576 with 4 Axes>"
      ]
     },
     "metadata": {},
     "output_type": "display_data"
    }
   ],
   "source": [
    "from scipy import linalg\n",
    "import matplotlib as mpl\n",
    "from matplotlib import colors\n",
    "\n",
    "# Colormap\n",
    "cmap = colors.LinearSegmentedColormap(\n",
    "    'red_blue_classes',\n",
    "    {'red': [(0, 1, 1), (1, 0.7, 0.7)],\n",
    "     'green': [(0, 0.7, 0.7), (1, 0.7, 0.7)],\n",
    "     'blue': [(0, 0.7, 0.7), (1, 1, 1)]})\n",
    "plt.cm.register_cmap(cmap=cmap)\n",
    "\n",
    "# Generate datasets\n",
    "def dataset_fixed_cov():\n",
    "    # Generate 2 Gaussians samples with the same covariance matrix\n",
    "    n, dim = 300, 2\n",
    "    np.random.seed(0)\n",
    "    C = np.array([[0., -0.23], [0.83, .23]])\n",
    "    X = np.r_[np.dot(np.random.randn(n, dim), C), np.dot(np.random.randn(n, dim), C) + np.array([1, 1])]\n",
    "    y = np.hstack((np.zeros(n), np.ones(n)))\n",
    "    return X, y\n",
    "\n",
    "def dataset_cov():\n",
    "    # Generate 2 Gaussians samples with different covariance matrices\n",
    "    n, dim = 300, 2\n",
    "    np.random.seed(0)\n",
    "    C = np.array([[0., -1.], [2.5, .7]]) * 2.\n",
    "    X = np.r_[np.dot(np.random.randn(n, dim), C), np.dot(np.random.randn(n, dim), C.T) + np.array([1, 4])]\n",
    "    y = np.hstack((np.zeros(n), np.ones(n)))\n",
    "    return X, y\n",
    "\n",
    "# Plot functions\n",
    "def plot_data(lda, X, y, y_pred, fig_index):\n",
    "    splot = plt.subplot(2, 2, fig_index)\n",
    "    if fig_index == 1:\n",
    "        plt.title('Linear Discriminant Analysis')\n",
    "        plt.ylabel('Data with\\n fixed covariance')\n",
    "    elif fig_index == 2:\n",
    "        plt.title('Quadratic Discriminant Analysis')\n",
    "    elif fig_index == 3:\n",
    "        plt.ylabel('Data with\\n varying covariances')\n",
    "\n",
    "    tp = (y == y_pred)  # True Positive\n",
    "    tp0, tp1 = tp[y == 0], tp[y == 1]\n",
    "    X0, X1 = X[y == 0], X[y == 1]\n",
    "    X0_tp, X0_fp = X0[tp0], X0[~tp0]\n",
    "    X1_tp, X1_fp = X1[tp1], X1[~tp1]\n",
    "\n",
    "    # class 0: dots\n",
    "    plt.scatter(X0_tp[:, 0], X0_tp[:, 1], marker='.', color='red')\n",
    "    plt.scatter(X0_fp[:, 0], X0_fp[:, 1], marker='x', s=20, color='#990000')  # dark red\n",
    "\n",
    "    # class 1: dots\n",
    "    plt.scatter(X1_tp[:, 0], X1_tp[:, 1], marker='.', color='blue')\n",
    "    plt.scatter(X1_fp[:, 0], X1_fp[:, 1], marker='x', s=20, color='#000099')  # dark blue\n",
    "\n",
    "    # class 0 and 1 : areas\n",
    "    x_min, x_max = plt.xlim()\n",
    "    y_min, y_max = plt.ylim()\n",
    "    xx, yy = np.meshgrid(np.linspace(x_min, x_max, 200), np.linspace(y_min, y_max, 100))\n",
    "    \n",
    "    Z = lda.predict_proba(np.c_[xx.ravel(), yy.ravel()])\n",
    "    Z = Z[:, 1].reshape(xx.shape)\n",
    "    \n",
    "    plt.pcolormesh(xx, yy, Z, cmap='red_blue_classes', norm=colors.Normalize(0., 1.), zorder=0, shading='auto')\n",
    "    plt.contour(xx, yy, Z, [0.5], linewidths=2., colors='white')\n",
    "\n",
    "    return splot\n",
    "\n",
    "plt.figure(figsize=(10, 8), facecolor='white')\n",
    "plt.suptitle('Linear Discriminant Analysis vs Quadratic Discriminant Analysis', y=0.98, fontsize=15)\n",
    "\n",
    "for i, (X, y) in enumerate([dataset_fixed_cov(), dataset_cov()]):\n",
    "    # Linear Discriminant Analysis\n",
    "    lda = LinearDiscriminantAnalysis()\n",
    "    y_pred = lda.fit(X, y).predict(X)\n",
    "    splot = plot_data(lda, X, y, y_pred, fig_index=2 * i + 1)\n",
    "\n",
    "    # Quadratic Discriminant Analysis\n",
    "    qda = QuadraticDiscriminantAnalysis()\n",
    "    y_pred = qda.fit(X, y).predict(X)\n",
    "    splot = plot_data(qda, X, y, y_pred, fig_index=2 * i + 2)"
   ]
  },
  {
   "cell_type": "markdown",
   "id": "f4a6a1d4-6816-42e9-bf6e-26cc360353d3",
   "metadata": {},
   "source": [
    "### Example: Breast Cancer"
   ]
  },
  {
   "cell_type": "code",
   "execution_count": 14,
   "id": "7b8895b6-959e-43fe-a3a8-bead6abccdc9",
   "metadata": {},
   "outputs": [
    {
     "name": "stdout",
     "output_type": "stream",
     "text": [
      "\n",
      "Test Classification Report:\n",
      "\n",
      "               precision    recall  f1-score   support\n",
      "\n",
      "           0       1.00      0.86      0.92        57\n",
      "           1       0.91      1.00      0.96        86\n",
      "\n",
      "    accuracy                           0.94       143\n",
      "   macro avg       0.96      0.93      0.94       143\n",
      "weighted avg       0.95      0.94      0.94       143\n",
      "\n",
      "\n",
      "Test Confusion Matrix:\n",
      "\n"
     ]
    },
    {
     "data": {
      "text/plain": [
       "<AxesSubplot:>"
      ]
     },
     "execution_count": 14,
     "metadata": {},
     "output_type": "execute_result"
    },
    {
     "data": {
      "image/png": "[encoded data removed]",
      "text/plain": [
       "<Figure size 432x288 with 2 Axes>"
      ]
     },
     "metadata": {
      "needs_background": "light"
     },
     "output_type": "display_data"
    }
   ],
   "source": [
    "# import the breast cancer dataset\n",
    "breastcancer = datasets.load_breast_cancer()\n",
    "\n",
    "# find the data and labels\n",
    "X = breastcancer.data\n",
    "Y = breastcancer.target\n",
    "\n",
    "# split the data into train and test sets\n",
    "trainX, testX, trainY, testY = train_test_split(X, Y, test_size = 0.25)\n",
    "\n",
    "# build the classifier\n",
    "model = DA()\n",
    "\n",
    "# fit the classifier to the training data\n",
    "model.fit(trainX, trainY)\n",
    "\n",
    "# predict the labels of the test set\n",
    "predictedY = model.predict(testX)\n",
    "\n",
    "# print quality metrics\n",
    "print('\\nTest Classification Report:\\n\\n', classification_report(testY, predictedY))\n",
    "print('\\nTest Confusion Matrix:\\n')\n",
    "\n",
    "sn.heatmap(confusion_matrix(testY, predictedY), annot = True)"
   ]
  },
  {
   "cell_type": "markdown",
   "id": "1d87cb98-14f8-4b8e-8d6c-2edd70e7815b",
   "metadata": {},
   "source": [
    "### Example: Classifying MNIST Handwritten Digits with LDA and QDA\n",
    "\n",
    "#### LDA"
   ]
  },
  {
   "cell_type": "code",
   "execution_count": 15,
   "id": "b30ccead-d2f4-479b-a65e-dcc68de67911",
   "metadata": {},
   "outputs": [
    {
     "name": "stdout",
     "output_type": "stream",
     "text": [
      "\n",
      "Training Classification Report:\n",
      "\n",
      "               precision    recall  f1-score   support\n",
      "\n",
      "           0       0.95      0.94      0.95      5923\n",
      "           1       0.87      0.96      0.91      6742\n",
      "           2       0.92      0.82      0.86      5958\n",
      "           3       0.86      0.85      0.86      6131\n",
      "           4       0.86      0.90      0.88      5842\n",
      "           5       0.83      0.82      0.83      5421\n",
      "           6       0.93      0.92      0.92      5918\n",
      "           7       0.92      0.84      0.88      6265\n",
      "           8       0.81      0.80      0.80      5851\n",
      "           9       0.78      0.86      0.82      5949\n",
      "\n",
      "    accuracy                           0.87     60000\n",
      "   macro avg       0.87      0.87      0.87     60000\n",
      "weighted avg       0.87      0.87      0.87     60000\n",
      "\n",
      "\n",
      "Testing Classification Report:\n",
      "\n",
      "               precision    recall  f1-score   support\n",
      "\n",
      "           0       0.94      0.96      0.95       980\n",
      "           1       0.89      0.97      0.93      1135\n",
      "           2       0.92      0.79      0.85      1032\n",
      "           3       0.87      0.87      0.87      1010\n",
      "           4       0.84      0.90      0.87       982\n",
      "           5       0.84      0.82      0.83       892\n",
      "           6       0.91      0.89      0.90       958\n",
      "           7       0.91      0.84      0.88      1028\n",
      "           8       0.80      0.81      0.80       974\n",
      "           9       0.81      0.85      0.83      1009\n",
      "\n",
      "    accuracy                           0.87     10000\n",
      "   macro avg       0.87      0.87      0.87     10000\n",
      "weighted avg       0.87      0.87      0.87     10000\n",
      "\n",
      "\n",
      "Testing Confusion Matrix:\n",
      "\n"
     ]
    },
    {
     "data": {
      "text/plain": [
       "<AxesSubplot:>"
      ]
     },
     "execution_count": 15,
     "metadata": {},
     "output_type": "execute_result"
    },
    {
     "data": {
      "image/png": "[encoded data removed]",
      "text/plain": [
       "<Figure size 432x288 with 2 Axes>"
      ]
     },
     "metadata": {
      "needs_background": "light"
     },
     "output_type": "display_data"
    }
   ],
   "source": [
    "(trainX, trainY), (testX, testY) = mnist.load_data()\n",
    "\n",
    "# preprocess the data\n",
    "trainX = trainX.reshape(trainX.shape[0], trainX.shape[1] * trainX.shape[2])\n",
    "trainX = trainX.astype('float')/255.0\n",
    "\n",
    "testX = testX.reshape(testX.shape[0], testX.shape[1] * testX.shape[2])\n",
    "testX = testX.astype('float')/255.0\n",
    "\n",
    "# build the classifier\n",
    "model = LinearDiscriminantAnalysis()\n",
    "\n",
    "# fit the classifier to the training data\n",
    "model.fit(trainX, trainY)\n",
    "\n",
    "# predict the labels of the training set\n",
    "predictedY = model.predict(trainX)\n",
    "\n",
    "# print quality metrics\n",
    "print('\\nTraining Classification Report:\\n\\n', classification_report(trainY, predictedY))\n",
    "\n",
    "# predict the labels of the test set\n",
    "predictedY = model.predict(testX)\n",
    "\n",
    "# print quality metrics\n",
    "print('\\nTesting Classification Report:\\n\\n', classification_report(testY, predictedY))\n",
    "\n",
    "print('\\nTesting Confusion Matrix:\\n')\n",
    "\n",
    "sn.heatmap(confusion_matrix(testY, predictedY))"
   ]
  },
  {
   "cell_type": "markdown",
   "id": "52aa8a18-11af-4e23-80f1-422f48968e89",
   "metadata": {},
   "source": [
    "#### LDA with Ledoit-Wolf shrinkage"
   ]
  },
  {
   "cell_type": "code",
   "execution_count": 16,
   "id": "5e19c5e5-9562-4190-bba5-c6a9bf99d8d8",
   "metadata": {},
   "outputs": [
    {
     "name": "stdout",
     "output_type": "stream",
     "text": [
      "\n",
      "Training Classification Report:\n",
      "\n",
      "               precision    recall  f1-score   support\n",
      "\n",
      "           0       0.95      0.94      0.95      5923\n",
      "           1       0.87      0.96      0.91      6742\n",
      "           2       0.92      0.82      0.87      5958\n",
      "           3       0.86      0.84      0.85      6131\n",
      "           4       0.87      0.90      0.88      5842\n",
      "           5       0.84      0.83      0.83      5421\n",
      "           6       0.93      0.92      0.93      5918\n",
      "           7       0.93      0.85      0.89      6265\n",
      "           8       0.81      0.80      0.81      5851\n",
      "           9       0.79      0.88      0.83      5949\n",
      "\n",
      "    accuracy                           0.88     60000\n",
      "   macro avg       0.88      0.87      0.87     60000\n",
      "weighted avg       0.88      0.88      0.88     60000\n",
      "\n",
      "\n",
      "Testing Classification Report:\n",
      "\n",
      "               precision    recall  f1-score   support\n",
      "\n",
      "           0       0.94      0.95      0.95       980\n",
      "           1       0.89      0.96      0.93      1135\n",
      "           2       0.92      0.81      0.86      1032\n",
      "           3       0.87      0.88      0.87      1010\n",
      "           4       0.86      0.91      0.88       982\n",
      "           5       0.85      0.81      0.83       892\n",
      "           6       0.91      0.91      0.91       958\n",
      "           7       0.92      0.84      0.88      1028\n",
      "           8       0.81      0.81      0.81       974\n",
      "           9       0.82      0.88      0.85      1009\n",
      "\n",
      "    accuracy                           0.88     10000\n",
      "   macro avg       0.88      0.88      0.88     10000\n",
      "weighted avg       0.88      0.88      0.88     10000\n",
      "\n",
      "\n",
      "Testing Confusion Matrix:\n",
      "\n"
     ]
    },
    {
     "data": {
      "text/plain": [
       "<AxesSubplot:>"
      ]
     },
     "execution_count": 16,
     "metadata": {},
     "output_type": "execute_result"
    },
    {
     "data": {
      "image/png": "[encoded data removed]",
      "text/plain": [
       "<Figure size 432x288 with 2 Axes>"
      ]
     },
     "metadata": {
      "needs_background": "light"
     },
     "output_type": "display_data"
    }
   ],
   "source": [
    "(trainX, trainY), (testX, testY) = mnist.load_data()\n",
    "\n",
    "# preprocess the data\n",
    "trainX = trainX.reshape(trainX.shape[0], trainX.shape[1] * trainX.shape[2])\n",
    "trainX = trainX.astype('float')/255.0\n",
    "\n",
    "testX = testX.reshape(testX.shape[0], testX.shape[1] * testX.shape[2])\n",
    "testX = testX.astype('float')/255.0\n",
    "\n",
    "# build the classifier\n",
    "model = LinearDiscriminantAnalysis(solver='lsqr', shrinkage='auto')\n",
    "\n",
    "# fit the classifier to the training data\n",
    "model.fit(trainX, trainY)\n",
    "\n",
    "# predict the labels of the training set\n",
    "predictedY = model.predict(trainX)\n",
    "\n",
    "# print quality metrics\n",
    "print('\\nTraining Classification Report:\\n\\n', classification_report(trainY, predictedY))\n",
    "\n",
    "# predict the labels of the test set\n",
    "predictedY = model.predict(testX)\n",
    "\n",
    "# print quality metrics\n",
    "print('\\nTesting Classification Report:\\n\\n', classification_report(testY, predictedY))\n",
    "\n",
    "print('\\nTesting Confusion Matrix:\\n')\n",
    "\n",
    "sn.heatmap(confusion_matrix(testY, predictedY))"
   ]
  },
  {
   "cell_type": "markdown",
   "id": "0bfe10d0-7496-42b3-9cde-0f7fa393d535",
   "metadata": {},
   "source": [
    "#### QDA"
   ]
  },
  {
   "cell_type": "code",
   "execution_count": 17,
   "id": "caa522ff-6da7-48e0-a5e3-733b0e8f233d",
   "metadata": {},
   "outputs": [
    {
     "name": "stderr",
     "output_type": "stream",
     "text": [
      "C:\\Users\\Ryan\\miniconda3\\envs\\DL\\lib\\site-packages\\sklearn\\discriminant_analysis.py:878: UserWarning: Variables are collinear\n",
      "  warnings.warn(\"Variables are collinear\")\n"
     ]
    },
    {
     "name": "stdout",
     "output_type": "stream",
     "text": [
      "\n",
      "Training Classification Report:\n",
      "\n",
      "               precision    recall  f1-score   support\n",
      "\n",
      "           0       0.40      0.98      0.57      5923\n",
      "           1       0.84      0.96      0.90      6742\n",
      "           2       0.95      0.24      0.39      5958\n",
      "           3       0.77      0.36      0.49      6131\n",
      "           4       0.98      0.11      0.20      5842\n",
      "           5       0.95      0.22      0.35      5421\n",
      "           6       0.61      0.98      0.75      5918\n",
      "           7       0.94      0.36      0.53      6265\n",
      "           8       0.56      0.60      0.58      5851\n",
      "           9       0.43      0.97      0.59      5949\n",
      "\n",
      "    accuracy                           0.59     60000\n",
      "   macro avg       0.74      0.58      0.54     60000\n",
      "weighted avg       0.74      0.59      0.54     60000\n",
      "\n",
      "\n",
      "Testing Classification Report:\n",
      "\n",
      "               precision    recall  f1-score   support\n",
      "\n",
      "           0       0.39      0.96      0.55       980\n",
      "           1       0.88      0.95      0.92      1135\n",
      "           2       0.90      0.21      0.33      1032\n",
      "           3       0.70      0.32      0.44      1010\n",
      "           4       0.95      0.09      0.17       982\n",
      "           5       0.89      0.19      0.31       892\n",
      "           6       0.59      0.96      0.73       958\n",
      "           7       0.89      0.31      0.46      1028\n",
      "           8       0.52      0.58      0.55       974\n",
      "           9       0.41      0.95      0.57      1009\n",
      "\n",
      "    accuracy                           0.56     10000\n",
      "   macro avg       0.71      0.55      0.50     10000\n",
      "weighted avg       0.71      0.56      0.51     10000\n",
      "\n",
      "\n",
      "Testing Confusion Matrix:\n",
      "\n"
     ]
    },
    {
     "data": {
      "text/plain": [
       "<AxesSubplot:>"
      ]
     },
     "execution_count": 17,
     "metadata": {},
     "output_type": "execute_result"
    },
    {
     "data": {
      "image/png": "[encoded data removed]",
      "text/plain": [
       "<Figure size 432x288 with 2 Axes>"
      ]
     },
     "metadata": {
      "needs_background": "light"
     },
     "output_type": "display_data"
    }
   ],
   "source": [
    "(trainX, trainY), (testX, testY) = mnist.load_data()\n",
    "\n",
    "# preprocess the data\n",
    "trainX = trainX.reshape(trainX.shape[0], trainX.shape[1] * trainX.shape[2])\n",
    "trainX = trainX.astype('float')/255.0\n",
    "\n",
    "testX = testX.reshape(testX.shape[0], testX.shape[1] * testX.shape[2])\n",
    "testX = testX.astype('float')/255.0\n",
    "\n",
    "# build the classifier\n",
    "model = QuadraticDiscriminantAnalysis()\n",
    "\n",
    "# fit the classifier to the training data\n",
    "model.fit(trainX, trainY)\n",
    "\n",
    "# predict the labels of the training set\n",
    "predictedY = model.predict(trainX)\n",
    "\n",
    "# print quality metrics\n",
    "print('\\nTraining Classification Report:\\n\\n', classification_report(trainY, predictedY))\n",
    "\n",
    "# predict the labels of the test set\n",
    "predictedY = model.predict(testX)\n",
    "\n",
    "# print quality metrics\n",
    "print('\\nTesting Classification Report:\\n\\n', classification_report(testY, predictedY))\n",
    "\n",
    "print('\\nTesting Confusion Matrix:\\n')\n",
    "\n",
    "sn.heatmap(confusion_matrix(testY, predictedY))"
   ]
  },
  {
   "cell_type": "markdown",
   "id": "7e8cf4f7-68dc-45ad-89e5-8f8e9370206f",
   "metadata": {},
   "source": [
    "#### QDA with Regularization"
   ]
  },
  {
   "cell_type": "code",
   "execution_count": 18,
   "id": "250b2a21-a70b-49ef-ae47-c14b7aeabf1c",
   "metadata": {},
   "outputs": [
    {
     "name": "stdout",
     "output_type": "stream",
     "text": [
      "Mean CV accuracy for regularization parameter 0.0 is 0.5640833333333333\n",
      "Mean CV accuracy for regularization parameter 0.01 is 0.9422333333333335\n",
      "Mean CV accuracy for regularization parameter 0.02 is 0.9486666666666667\n",
      "Mean CV accuracy for regularization parameter 0.03 is 0.9512333333333333\n",
      "Mean CV accuracy for regularization parameter 0.04 is 0.9525166666666667\n",
      "Mean CV accuracy for regularization parameter 0.05 is 0.95325\n",
      "Mean CV accuracy for regularization parameter 0.06 is 0.9531333333333333\n",
      "Mean CV accuracy for regularization parameter 0.07 is 0.95305\n",
      "Mean CV accuracy for regularization parameter 0.08 is 0.9527833333333333\n",
      "Mean CV accuracy for regularization parameter 0.09 is 0.9523833333333332\n",
      "Mean CV accuracy for regularization parameter 0.1 is 0.9519833333333333\n",
      "Mean CV accuracy for regularization parameter 0.11 is 0.9513166666666667\n",
      "Mean CV accuracy for regularization parameter 0.12 is 0.9509000000000001\n",
      "Mean CV accuracy for regularization parameter 0.13 is 0.9502833333333334\n",
      "Mean CV accuracy for regularization parameter 0.14 is 0.9496833333333333\n",
      "Mean CV accuracy for regularization parameter 0.15 is 0.9490833333333335\n",
      "Mean CV accuracy for regularization parameter 0.16 is 0.9483833333333334\n",
      "Mean CV accuracy for regularization parameter 0.17 is 0.9479500000000002\n",
      "Mean CV accuracy for regularization parameter 0.18 is 0.9474499999999999\n",
      "Mean CV accuracy for regularization parameter 0.19 is 0.9470166666666667\n",
      "\n",
      "The best dev accuracy 0.95325 occured with 0.05 regularization parameter\n",
      "\n",
      "Test Classification Report for 0.05 reg_param:\n",
      "\n",
      "               precision    recall  f1-score   support\n",
      "\n",
      "           0       0.97      0.99      0.98       980\n",
      "           1       0.96      0.99      0.98      1135\n",
      "           2       0.97      0.94      0.95      1032\n",
      "           3       0.96      0.94      0.95      1010\n",
      "           4       0.98      0.96      0.97       982\n",
      "           5       0.97      0.94      0.95       892\n",
      "           6       0.97      0.97      0.97       958\n",
      "           7       0.97      0.93      0.95      1028\n",
      "           8       0.91      0.94      0.93       974\n",
      "           9       0.92      0.96      0.94      1009\n",
      "\n",
      "    accuracy                           0.96     10000\n",
      "   macro avg       0.96      0.96      0.96     10000\n",
      "weighted avg       0.96      0.96      0.96     10000\n",
      "\n",
      "\n",
      "Test Confusion Matrix:\n",
      "\n"
     ]
    },
    {
     "data": {
      "text/plain": [
       "<AxesSubplot:>"
      ]
     },
     "execution_count": 18,
     "metadata": {},
     "output_type": "execute_result"
    },
    {
     "data": {
      "image/png": "[encoded data removed]",
      "text/plain": [
       "<Figure size 432x288 with 2 Axes>"
      ]
     },
     "metadata": {
      "needs_background": "light"
     },
     "output_type": "display_data"
    }
   ],
   "source": [
    "# collinearity warnings keep popping up, so we suppress them\n",
    "import warnings\n",
    "warnings.filterwarnings('ignore')\n",
    "\n",
    "# that is a BAD idea in general, I suppressed ALL warnings, so\n",
    "# only do this if you are very brave!\n",
    "\n",
    "# import MNIST data\n",
    "(trainX, trainY), (testX, testY) = mnist.load_data()\n",
    "\n",
    "# reshape the data\n",
    "trainX = trainX.reshape(trainX.shape[0], trainX.shape[1] * trainX.shape[2])\n",
    "testX = testX.reshape(testX.shape[0], testX.shape[1] * testX.shape[2])\n",
    "\n",
    "# normalize coordinates\n",
    "trainX = trainX.astype('float')/255.0\n",
    "testX = testX.astype('float')/255.0\n",
    "\n",
    "# initialize accuracy and hyperparameter list\n",
    "bestAccuracy = [0, 0]\n",
    "\n",
    "# test regularization hyperparameters 0.00, 0.01, ..., 0.19\n",
    "for i in range(20):\n",
    "    rp = i/100\n",
    "    \n",
    "    # build the QDA classifier\n",
    "    model = QuadraticDiscriminantAnalysis(reg_param = rp)\n",
    "\n",
    "    # fit the QDA classifier to the training data\n",
    "    model.fit(trainX, trainY)\n",
    "    \n",
    "    # find the mean cross-validation accuracy\n",
    "    mean_cv_scores = np.mean(cross_val_score(model, trainX, trainY, cv = 5))\n",
    "\n",
    "    # print quality metrics\n",
    "    print('Mean CV accuracy for regularization parameter', rp, 'is', mean_cv_scores)\n",
    "    \n",
    "    # save the hyperparameter reg_param if better than found before\n",
    "    if mean_cv_scores > bestAccuracy[0]:\n",
    "        bestAccuracy = [mean_cv_scores, rp]\n",
    "        \n",
    "print('\\nThe best dev accuracy', bestAccuracy[0], 'occured with', bestAccuracy[1], 'regularization parameter')\n",
    "        \n",
    "# build the QDA classifier\n",
    "model = QuadraticDiscriminantAnalysis(reg_param = bestAccuracy[1])\n",
    "\n",
    "# fit the QDA classifier to the training data\n",
    "model.fit(trainX, trainY)\n",
    "\n",
    "# predict the labels of the test set\n",
    "predictedY = model.predict(testX)\n",
    "\n",
    "# print quality metrics\n",
    "print('\\nTest Classification Report for', bestAccuracy[1], 'reg_param:\\n\\n', classification_report(testY, predictedY))\n",
    "\n",
    "print('\\nTest Confusion Matrix:\\n')\n",
    "sn.heatmap(confusion_matrix(testY, predictedY))"
   ]
  },
  {
   "cell_type": "markdown",
   "id": "7f50d12f-8a06-4280-9d53-152c54ef61ca",
   "metadata": {},
   "source": [
    "We now find 96% accuracy! This is easily the best result we have found for MNIST in the class so far."
   ]
  }
 ],
 "metadata": {
  "kernelspec": {
   "display_name": "Python 3 (ipykernel)",
   "language": "python",
   "name": "python3"
  },
  "language_info": {
   "codemirror_mode": {
    "name": "ipython",
    "version": 3
   },
   "file_extension": ".py",
   "mimetype": "text/x-python",
   "name": "python",
   "nbconvert_exporter": "python",
   "pygments_lexer": "ipython3",
   "version": "3.9.6"
  }
 },
 "nbformat": 4,
 "nbformat_minor": 5
}
