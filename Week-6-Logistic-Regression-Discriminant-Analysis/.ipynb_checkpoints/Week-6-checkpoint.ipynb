{
 "cells": [
  {
   "cell_type": "markdown",
   "id": "5bc4065d-0deb-42fc-b620-aeb03ae430cf",
   "metadata": {},
   "source": [
    "# Week 6: Logistic Regression and Discriminant Analysis\n",
    "\n",
    "This week, we cover **logistic regression**, one of the most popular classifiers. Like the other classifiers we have seen, it computes posterior probabilities without assuming the distributions of the classes.\n",
    "\n",
    "Secondly, we will consider **discriminant analysis**, a powerful family of classifiers that construct so-called **discriminant functions** that specify decision boundaries that determine how points are assigned to classes.\n",
    "\n",
    "Unlike previously-seen classifiers, these methods do not necessarily require assuming the distribution of the classes."
   ]
  },
  {
   "cell_type": "markdown",
   "id": "055ff11d-ddca-4e8e-81e9-5a546e7f15f9",
   "metadata": {
    "tags": []
   },
   "source": [
    "# Lecture 10: Logistic Regression\n",
    "\n",
    "In class, we discussed the logistic regression model for both binary classification and multiclass classification.\n",
    "\n",
    "## Binary Logistic Regression\n",
    "\n",
    "In this case, we predict binary labels $Y\\in\\{0, 1\\}$. Fitting the model simplifies to minimizing the **binary cross-entropy** loss function\n",
    "\n",
    "$$L(\\theta)=-\\sum\\limits_{i=1}^n y_i\\ln\\left(\\sigma\\left(\\theta^Tx_i\\right)\\right)+(1-y_i)\\ln\\left(\\sigma\\left(-\\theta^Tx_i\\right)\\right)$$\n",
    "\n",
    "where $\\theta=(\\theta_0, \\theta_1, ..., \\theta_d)^T$ are parameters of the model and $\\sigma:\\mathbb{R}\\to\\mathbb{R}$ is the **logistic** or **sigmoid** function\n",
    "\n",
    "$$\\sigma(z)=\\frac{1}{1+e^{-z}}=\\frac{e^z}{1+e^z}$$\n",
    "\n",
    "In class, we showed\n",
    "\n",
    "$$\\frac{\\partial L}{\\partial\\theta}=\\sum\\limits_{i=1}^n\\left(\\sigma\\left(\\theta^Tx\\right)-y_i\\right)x_i$$\n",
    "\n",
    "To code logistic regression, let's first import some libraries."
   ]
  },
  {
   "cell_type": "code",
   "execution_count": 2,
   "id": "929d1704-afa6-42cf-98c9-e61365846dfe",
   "metadata": {},
   "outputs": [],
   "source": [
    "import matplotlib.pyplot as plt\n",
    "import numpy as np\n",
    "import seaborn as sn\n",
    "\n",
    "from sklearn import datasets\n",
    "from sklearn.linear_model import LogisticRegression\n",
    "from sklearn.model_selection import train_test_split\n",
    "from sklearn.metrics import classification_report\n",
    "from sklearn.metrics import confusion_matrix\n",
    "from sklearn.metrics import accuracy_score\n",
    "from tensorflow.keras.datasets import mnist"
   ]
  },
  {
   "cell_type": "markdown",
   "id": "688246bc-bbe9-4fd6-a0b3-eff8635a77a4",
   "metadata": {},
   "source": [
    "Next, we implement binary logistic regression."
   ]
  },
  {
   "cell_type": "code",
   "execution_count": 3,
   "id": "897d0076-a3e2-4dc0-bd15-929d0d9a9676",
   "metadata": {},
   "outputs": [],
   "source": [
    "class BinaryLogisticRegression:        \n",
    "    def fit(self, X, y, alpha, epochs, eps, update):\n",
    "        # add a column of 1s to X\n",
    "        X = np.hstack((np.ones([X.shape[0],1]), X))\n",
    "            \n",
    "        # modify y to be n by 1\n",
    "        y = np.atleast_2d(y).T\n",
    "        \n",
    "        # initialize the parameters to 1\n",
    "        self.theta = np.ones([X.shape[1], 1])\n",
    "        \n",
    "        # initialize the step number and theta gradient\n",
    "        step = 0\n",
    "        thetagrad = 2 * eps\n",
    "        \n",
    "        # minimize cross-entropy -- run until thetagrad is small or step is epochs\n",
    "        while np.linalg.norm(thetagrad) > eps and step < epochs:\n",
    "            # compute the loss\n",
    "            sig = self.sigmoid(X @ self.theta)\n",
    "            \n",
    "            if step % update == 0:\n",
    "                loss = -(1/X.shape[0]) * np.sum(y * np.log(sig + 0.001) + (1 - y) * np.log(1 - sig + 0.001))\n",
    "                print('Iteration', step, '\\tLoss =', loss)\n",
    "            \n",
    "            # compute the gradient\n",
    "            thetagrad = X.T @ (sig - y)\n",
    "            \n",
    "            # take a gradient descent step\n",
    "            self.theta -= alpha * thetagrad\n",
    "                        \n",
    "            # iterate the step\n",
    "            step += 1\n",
    "            \n",
    "            if step == epochs:\n",
    "                print('Gradient descent failed to converge. (The answer may still be acceptably good.)')\n",
    "            \n",
    "    def predict(self, X):\n",
    "        # add a column of 1s to X\n",
    "        X = np.hstack((np.ones([X.shape[0],1]), X))\n",
    "        \n",
    "        # return 0 if the posterior for Y=1 is less than for Y=0\n",
    "        # otherwise, return 1\n",
    "        return (self.sigmoid(X @ self.theta) >= 0.5).astype(float)\n",
    "            \n",
    "    def sigmoid(self, z):\n",
    "        return 1 / (1 + np.exp(-z))"
   ]
  },
  {
   "cell_type": "markdown",
   "id": "12af9c6a-c772-493e-a956-da7816a3c13c",
   "metadata": {},
   "source": [
    "### Example: Detecting Breast Cancer with Binary Logistic Regression"
   ]
  },
  {
   "cell_type": "code",
   "execution_count": 5,
   "id": "b3491322-9500-4112-98a1-ed67db9f8d41",
   "metadata": {},
   "outputs": [
    {
     "name": "stdout",
     "output_type": "stream",
     "text": [
      "Iteration 0 \tLoss = 2.6424911781372944\n"
     ]
    },
    {
     "name": "stderr",
     "output_type": "stream",
     "text": [
      "C:\\Users\\Ryan\\AppData\\Local\\Temp/ipykernel_7116/4107300181.py:46: RuntimeWarning: overflow encountered in exp\n",
      "  return 1 / (1 + np.exp(-z))\n"
     ]
    },
    {
     "name": "stdout",
     "output_type": "stream",
     "text": [
      "Iteration 100000 \tLoss = 0.5179679948267453\n",
      "Iteration 200000 \tLoss = 0.53418572905049\n",
      "Iteration 300000 \tLoss = 0.43687932370802207\n",
      "Iteration 400000 \tLoss = 4.085869524050568\n",
      "Iteration 500000 \tLoss = 0.4206615894842774\n",
      "Iteration 600000 \tLoss = 0.53418572905049\n",
      "Iteration 700000 \tLoss = 0.53418572905049\n",
      "Iteration 800000 \tLoss = 0.3882261210367881\n",
      "Iteration 900000 \tLoss = 0.3882261210367881\n",
      "Gradient descent failed to converge. (The answer may still be acceptably good.)\n",
      "\n",
      "Classification Report:\n",
      "\n",
      "               precision    recall  f1-score   support\n",
      "\n",
      "           0       1.00      0.78      0.87        49\n",
      "           1       0.90      1.00      0.94        94\n",
      "\n",
      "    accuracy                           0.92       143\n",
      "   macro avg       0.95      0.89      0.91       143\n",
      "weighted avg       0.93      0.92      0.92       143\n",
      "\n",
      "\n",
      "Confusion Matrix:\n",
      "\n"
     ]
    },
    {
     "data": {
      "text/plain": [
       "<AxesSubplot:>"
      ]
     },
     "execution_count": 5,
     "metadata": {},
     "output_type": "execute_result"
    },
    {
     "data": {
      "image/png": "[encoded data removed]",
      "text/plain": [
       "<Figure size 432x288 with 2 Axes>"
      ]
     },
     "metadata": {
      "needs_background": "light"
     },
     "output_type": "display_data"
    }
   ],
   "source": [
    "# import the breast cancer dataset\n",
    "breastcancer = datasets.load_breast_cancer()\n",
    "\n",
    "# find the data and labels\n",
    "X = breastcancer.data\n",
    "Y = breastcancer.target\n",
    "\n",
    "# split the data into train and test sets\n",
    "trainX, testX, trainY, testY = train_test_split(X, Y, test_size = 0.25)\n",
    "\n",
    "# build the classifier\n",
    "model = BinaryLogisticRegression()\n",
    "\n",
    "# fit the classifier to the training data\n",
    "model.fit(trainX, trainY, alpha = 0.01, epochs = 1000000, eps = 0.01, update = 100000)\n",
    "\n",
    "# predict the labels of the test set\n",
    "predictedY = model.predict(testX)\n",
    "\n",
    "# print quality metrics\n",
    "print('\\nClassification Report:\\n\\n', classification_report(testY, predictedY))\n",
    "print('\\nConfusion Matrix:\\n')\n",
    "\n",
    "sn.heatmap(confusion_matrix(testY, predictedY), annot = True)"
   ]
  },
  {
   "cell_type": "markdown",
   "id": "216c02ee-96ca-4b5c-af00-3c488a45231f",
   "metadata": {},
   "source": [
    "### Example: Detecting Breast Cancer with `LogisticRegression` from `scikit-learn`\n",
    "\n",
    "The built-in `LogisticRegression` class in `scikit-learn` tends to work a little faster because it uses an optimizer that efficiently uses second derivative information by default. Note that the class uses an $L^2$ penalty if we speciy the variable `C`, where\n",
    "\n",
    "$$C=\\frac{1}{\\lambda_2}$$\n",
    "\n",
    "Tuning this hyperparameter is a good idea to improve performance on the test set."
   ]
  },
  {
   "cell_type": "code",
   "execution_count": 6,
   "id": "049e1c9d-6878-44f6-a302-a121c16c9fb7",
   "metadata": {},
   "outputs": [
    {
     "name": "stdout",
     "output_type": "stream",
     "text": [
      "\n",
      "Training Classification Report:\n",
      "\n",
      "               precision    recall  f1-score   support\n",
      "\n",
      "           0       0.99      0.98      0.98       166\n",
      "           1       0.98      0.99      0.99       260\n",
      "\n",
      "    accuracy                           0.99       426\n",
      "   macro avg       0.99      0.98      0.99       426\n",
      "weighted avg       0.99      0.99      0.99       426\n",
      "\n",
      "\n",
      "Testing Classification Report:\n",
      "\n",
      "               precision    recall  f1-score   support\n",
      "\n",
      "           0       0.95      0.91      0.93        46\n",
      "           1       0.96      0.98      0.97        97\n",
      "\n",
      "    accuracy                           0.96       143\n",
      "   macro avg       0.96      0.95      0.95       143\n",
      "weighted avg       0.96      0.96      0.96       143\n",
      "\n"
     ]
    },
    {
     "name": "stderr",
     "output_type": "stream",
     "text": [
      "C:\\Users\\Ryan\\anaconda3\\envs\\ML\\lib\\site-packages\\sklearn\\linear_model\\_logistic.py:814: ConvergenceWarning: lbfgs failed to converge (status=1):\n",
      "STOP: TOTAL NO. of ITERATIONS REACHED LIMIT.\n",
      "\n",
      "Increase the number of iterations (max_iter) or scale the data as shown in:\n",
      "    https://scikit-learn.org/stable/modules/preprocessing.html\n",
      "Please also refer to the documentation for alternative solver options:\n",
      "    https://scikit-learn.org/stable/modules/linear_model.html#logistic-regression\n",
      "  n_iter_i = _check_optimize_result(\n"
     ]
    }
   ],
   "source": [
    "# import the breast cancer dataset\n",
    "breastcancer = datasets.load_breast_cancer()\n",
    "\n",
    "# find the data and labels\n",
    "X = breastcancer.data\n",
    "Y = breastcancer.target\n",
    "\n",
    "# split the data into train and test sets\n",
    "trainX, testX, trainY, testY = train_test_split(X, Y, test_size = 0.25)\n",
    "\n",
    "# build the classifier\n",
    "model = LogisticRegression(C = 10000, max_iter = 10000)\n",
    "\n",
    "# fit the classifier to the training data\n",
    "model.fit(trainX, trainY)\n",
    "\n",
    "# predict the labels of the training set\n",
    "predictedY = model.predict(trainX)\n",
    "\n",
    "# print quality metrics\n",
    "print('\\nTraining Classification Report:\\n\\n', classification_report(trainY, predictedY))\n",
    "\n",
    "# predict the labels of the test set\n",
    "predictedY = model.predict(testX)\n",
    "\n",
    "# print quality metrics\n",
    "print('\\nTesting Classification Report:\\n\\n', classification_report(testY, predictedY))"
   ]
  },
  {
   "cell_type": "markdown",
   "id": "60772691-ee20-42b7-81d8-67e61d056b4c",
   "metadata": {},
   "source": [
    "## Multiclass Logistic Regression\n",
    "\n",
    "Logistic regression can also be applied to classification problems with logistic regression. In this case, we predict one-hot vector labels $Y\\in\\{\\mathbf{e}_1, \\mathbf{e}_2, ..., \\mathbf{e}_k\\}$. Fitting the model simplifies to minimizing the **categorical cross-entropy** loss function\n",
    "\n",
    "$$L(\\theta)=-\\sum\\limits_{i=1}^n\\sum\\limits_{j=1}^k y_{ij}\\ln\\left(\\sigma\\left(\\theta^T_j x_i\\right)\\right)$$\n",
    "\n",
    "where $\\theta_j=(\\theta_{j0}, \\theta_{j1}, ..., \\theta_{jd})^T$ are parameters of the model for $j=1, ..., k$.\n",
    "\n",
    "In class, we derived the gradient, which can be used in gradient descent as\n",
    "\n",
    "$$\\frac{\\partial L}{\\partial\\theta_l}=\\sum\\limits_{i=1}^n \\left(\\pi_l(x_i) - y_{il}\\right)x_i=\\sum\\limits_{i=1}^n\\sum\\limits_{j=1}^k \\left(\\sigma\\left(\\theta^T x_i\\right)_l-y_{il}\\right)x_i$$\n",
    "\n",
    "where the **softmax** function $\\sigma:\\mathbb{R}^k\\to\\mathbb{R}^k$ is defined in each coordinate as\n",
    "\n",
    "$$\\sigma(z)_i=\\frac{e^{z_i}}{\\sum\\limits_{j=1}^k e^{z_j}}$$\n",
    "\n",
    "We will simply use the `scikit-learn` class `LogisticRegression` for the multiclass case to avoid some not-so-enlightening code (at least, given that it's just scaling up the binary case)."
   ]
  },
  {
   "cell_type": "markdown",
   "id": "9a07dfbf-b2c3-4039-9263-0282525df548",
   "metadata": {},
   "source": [
    "### Example: Classifying the Iris Dataset with Logistic Regression"
   ]
  },
  {
   "cell_type": "code",
   "execution_count": 11,
   "id": "61e389e0-723e-4489-978e-30a93e2c9029",
   "metadata": {},
   "outputs": [
    {
     "name": "stdout",
     "output_type": "stream",
     "text": [
      "\n",
      "Predicted class labels:\n",
      " [1 0 1 1 0 1 2 0 2 2 2 2 2 1 1 1 0 1 0 1 0 0 1 2 0 0 1 0 0 2 1 2 0 2 1 2 0\n",
      " 2]\n",
      "\n",
      "True class labels:\n",
      " [1 0 1 1 0 1 2 0 2 2 2 2 2 2 1 1 0 1 0 1 0 0 1 2 0 0 1 0 0 2 1 2 0 2 1 2 0\n",
      " 2]\n",
      "\n",
      "Classification Report:\n",
      "\n",
      "               precision    recall  f1-score   support\n",
      "\n",
      "           0       1.00      1.00      1.00        13\n",
      "           1       0.92      1.00      0.96        12\n",
      "           2       1.00      0.92      0.96        13\n",
      "\n",
      "    accuracy                           0.97        38\n",
      "   macro avg       0.97      0.97      0.97        38\n",
      "weighted avg       0.98      0.97      0.97        38\n",
      "\n",
      "\n",
      "Confusion Matrix:\n",
      "\n"
     ]
    },
    {
     "data": {
      "text/plain": [
       "<AxesSubplot:>"
      ]
     },
     "execution_count": 11,
     "metadata": {},
     "output_type": "execute_result"
    },
    {
     "data": {
      "image/png": "[encoded data removed]",
      "text/plain": [
       "<Figure size 432x288 with 2 Axes>"
      ]
     },
     "metadata": {
      "needs_background": "light"
     },
     "output_type": "display_data"
    }
   ],
   "source": [
    "iris = datasets.load_iris()\n",
    "\n",
    "# find the data and labels\n",
    "X = iris.data\n",
    "Y = iris.target\n",
    "\n",
    "# split the data into train and test sets\n",
    "trainX, testX, trainY, testY = train_test_split(X, Y, test_size = 0.25)\n",
    "\n",
    "# build the logistic regression classifier\n",
    "model = LogisticRegression(max_iter = 10000)\n",
    "\n",
    "# fit the logistic regression classifier to the training data\n",
    "model.fit(trainX, trainY)\n",
    "\n",
    "# predict the labels of the test set\n",
    "predictedY = model.predict(testX)\n",
    "\n",
    "# print predicted and true class labels\n",
    "print('\\nPredicted class labels:\\n', predictedY)\n",
    "print('\\nTrue class labels:\\n', testY)\n",
    "\n",
    "# print quality metrics\n",
    "print('\\nClassification Report:\\n\\n', classification_report(testY, predictedY))\n",
    "print('\\nConfusion Matrix:\\n')\n",
    "\n",
    "sn.heatmap(confusion_matrix(testY, predictedY), annot = True)"
   ]
  },
  {
   "cell_type": "markdown",
   "id": "d52547ae-89a8-4a62-9e65-d9ba4c39d694",
   "metadata": {},
   "source": [
    "### Example MNIST Handwritten Digits with Logistic Regression"
   ]
  },
  {
   "cell_type": "code",
   "execution_count": null,
   "id": "504955d0-a044-4a63-9688-783d7d8c709c",
   "metadata": {},
   "outputs": [],
   "source": [
    "(trainX, trainY), (testX, testY) = mnist.load_data()\n",
    "\n",
    "# flatten the data to 768-vectors and normalize\n",
    "trainX = trainX.reshape(trainX.shape[0], trainX.shape[1] * trainX.shape[2])\n",
    "trainX = trainX.astype('float')/255.0\n",
    "\n",
    "testX = testX.reshape(testX.shape[0], testX.shape[1] * testX.shape[2])\n",
    "testX = testX.astype('float')/255.0\n",
    "\n",
    "# build the classifier\n",
    "model = LogisticRegression(max_iter = 10000)\n",
    "\n",
    "# fit the classifier to the training data\n",
    "model.fit(trainX, trainY)\n",
    "\n",
    "# predict the labels of the training set\n",
    "predictedY = model.predict(trainX)\n",
    "\n",
    "# print quality metrics\n",
    "print('\\nTraining Classification Report:\\n\\n', classification_report(trainY, predictedY))\n",
    "\n",
    "# predict the labels of the test set\n",
    "predictedY = model.predict(testX)\n",
    "\n",
    "# print quality metrics\n",
    "print('\\nTesting Classification Report:\\n\\n', classification_report(testY, predictedY))\n",
    "\n",
    "# predict the labels of the test set\n",
    "predictedY = model.predict(testX)\n",
    "\n",
    "print('\\nTesting Confusion Matrix:\\n')\n",
    "\n",
    "sn.heatmap(confusion_matrix(testY, predictedY))"
   ]
  },
  {
   "cell_type": "markdown",
   "id": "5c6cc816-cc7c-464c-b281-32039651c734",
   "metadata": {},
   "source": [
    "We see 93% accuracy on the test set with zero hyperparameter tuning!"
   ]
  },
  {
   "cell_type": "markdown",
   "id": "5bd43a14-93bb-4843-a100-46a145f84152",
   "metadata": {},
   "source": [
    "# Lecture 11: Discriminant Analysis"
   ]
  }
 ],
 "metadata": {
  "kernelspec": {
   "display_name": "Python 3 (ipykernel)",
   "language": "python",
   "name": "python3"
  },
  "language_info": {
   "codemirror_mode": {
    "name": "ipython",
    "version": 3
   },
   "file_extension": ".py",
   "mimetype": "text/x-python",
   "name": "python",
   "nbconvert_exporter": "python",
   "pygments_lexer": "ipython3",
   "version": "3.10.1"
  }
 },
 "nbformat": 4,
 "nbformat_minor": 5
}
