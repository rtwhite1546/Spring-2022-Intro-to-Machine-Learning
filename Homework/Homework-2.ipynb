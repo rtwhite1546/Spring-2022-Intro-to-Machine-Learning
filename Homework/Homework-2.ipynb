{
 "cells": [
  {
   "cell_type": "markdown",
   "id": "d2c4de32-d7aa-4756-aba1-079e7e38fce5",
   "metadata": {},
   "source": [
    "# MTH 4224 / CSE 4224 - Homework 2\n",
    "\n",
    "## Kernel Regression, RBFs, and Regularization\n",
    "\n",
    "**Deadline**: TBA\n",
    "\n",
    "**Points**: 35\n",
    "\n",
    "### Instructions\n",
    "\n",
    "Submit **one** Python notebook file for grading. Your file must include **text explanations** of your work, **well-commented code**, and the **outputs** from your code.\n",
    "\n",
    "### Problems\n",
    "\n",
    "(Coming soon...)"
   ]
  }
 ],
 "metadata": {
  "kernelspec": {
   "display_name": "Python 3 (ipykernel)",
   "language": "python",
   "name": "python3"
  },
  "language_info": {
   "codemirror_mode": {
    "name": "ipython",
    "version": 3
   },
   "file_extension": ".py",
   "mimetype": "text/x-python",
   "name": "python",
   "nbconvert_exporter": "python",
   "pygments_lexer": "ipython3",
   "version": "3.10.1"
  }
 },
 "nbformat": 4,
 "nbformat_minor": 5
}
