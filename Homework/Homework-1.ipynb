{
 "cells": [
  {
   "cell_type": "markdown",
   "id": "d2c4de32-d7aa-4756-aba1-079e7e38fce5",
   "metadata": {},
   "source": [
    "# MTH 4224 / CSE 4224 - Homework 1\n",
    "\n",
    "## Linear Regression Models and Modified Least Squares\n",
    "\n",
    "**Deadline**: Sun, Jan 30\n",
    "\n",
    "**Points**: 35\n",
    "\n",
    "### Instructions\n",
    "\n",
    "Submit **one** Python notebook file for grading. Your file must include **text explanations** of your work, **well-commented code**, and the **outputs** from your code.\n",
    "\n",
    "### Problems\n",
    "\n",
    "For problems 1-3, you will use the details about houses in a real estate dataset and attempt to predict the list price for the houses. Use the [Mount Pleasant Real Estate dataset](https://www.hawkeslearning.com/Statistics/dis/datasets.html) from Hawkes Learning.\n",
    "\n",
    "1. **[5 points]** Read the dataset into Python and preprocess data excluding the \"Misc Exterior\" and \"Amenities\" columns into an appropriate data matrix for regression analysis. Randomly split the data into a training set and a test set at 80\\%/20\\%.\n",
    "\n",
    "2. **[10 points]** Fit the least squares hyperplane to the training set to predict house prices, and evaluate its fit on the testing set.\n",
    " \n",
    "3. **[10 points]** Fit the least squares quadratic polynomial to the training set to predict hosue prices, and evaluate its fit on the testing set. Is it a better or worse model than the least squares hyperplane?\n",
    "\n",
    "4. **[10 points]** Suppose we have a dataset of $n$ points and times they were collected, $(x_i,t_i)\\in\\mathbb{R}^d\\times[0,T]$, where $T=t_n\\geq t_i\\geq t_{i-1}>0$ for $1\\leq i\\leq n$, with targets $y_i\\in\\mathbb{R}$. Suppose we fit a linear regression model to the data.\n",
    "\n",
    "    1. Construct a *weighted* sum of squares loss function where example $i$ has a penalty $p_i$ weighting its error, i.e. $p_i(\\hat{f}(x_i)-y_i)^2$.\n",
    "    2. Minimize this loss function in terms of the points $x_i$, the weights $p_i$, and the targets $y_i$\n",
    "    3. If the penalties grow over time ($p_{i-1} \\geq p_i$), what practical effect would this penalty scheme have on the model's fit compared to ordinary least squares?\n",
    "\n",
    "**Bonus [+5]:** Find a reasonable way to turn \"Misc Exterior\" and \"Amenities\" columns into useful features for problems 2-3."
   ]
  }
 ],
 "metadata": {
  "kernelspec": {
   "display_name": "Python 3 (ipykernel)",
   "language": "python",
   "name": "python3"
  },
  "language_info": {
   "codemirror_mode": {
    "name": "ipython",
    "version": 3
   },
   "file_extension": ".py",
   "mimetype": "text/x-python",
   "name": "python",
   "nbconvert_exporter": "python",
   "pygments_lexer": "ipython3",
   "version": "3.10.1"
  }
 },
 "nbformat": 4,
 "nbformat_minor": 5
}
