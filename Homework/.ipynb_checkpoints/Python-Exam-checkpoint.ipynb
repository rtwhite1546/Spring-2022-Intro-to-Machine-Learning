{
 "cells": [
  {
   "cell_type": "markdown",
   "id": "d2c4de32-d7aa-4756-aba1-079e7e38fce5",
   "metadata": {},
   "source": [
    "# MTH 4224 / CSE 4224 - Python Exam\n",
    "\n",
    "## Functions, loops, `if`-`then`, reading files, data cleaning\n",
    "\n",
    "**Deadline**: Feb 5\n",
    "\n",
    "**Points**: 25\n",
    "\n",
    "**Note**: I did give some hints, but I did not teach about every built-in function you're going to need to use (at least for problems 2-3). This will *always* be the situation in real life. Be resourceful, read the documentation, Google your errors.\n",
    "\n",
    "**Academic Honesty**: Write your code from scratch. Learn from the Internet, talk to friends, ask me questions, but don't just copy blocks of code. Every submission I grade should be unique.\n",
    "\n",
    "### Instructions\n",
    "\n",
    "Submit **one** Python notebook file for grading. Your file must include **text explanations** of your work, **well-commented code**, and the **outputs** from your code.\n",
    "\n",
    "### Problems\n",
    "\n",
    "1. Write a function that uses the minimum number of terms in the [Wallis product for $\\pi$](https://en.wikipedia.org/wiki/Wallis_product) to estimate $\\pi$ to within $n$ decimal places and print the number of terms used, the error, and the approximation. $n$ should be the only input. Run it for $n = 1, 2, ..., 6$.\n",
    "\n",
    "2. Write a function minimizes an input function with range $\\mathbb{R}$ using gradient descent starting from some input number $n$ of points. The function should return the coordinates and function value at the smallest minimum found.<br /><br />Run your function to attempt to minimize $f(x,y) = \\frac{\\sin x\\sin y}{(xy)^2+1}$ where $x,y\\in[-10,10]$. Explore the impact of different input $n$ values.<br /><br />Feel free to use the gradient descent code from class and make a decision about how to choose the starting points. Argue why your strategy is good.\n",
    "\n",
    "3. Write code to find how many unique words are in [*The Adventures of Sherlock Holmes*](https://www.gutenberg.org/files/1661/1661-h/1661-h.htm) by Arthur Conan Doyle.<br /><br />Do not import any libraries for this problem.<br /><br />**Hint**: copy the book into a file, use the `open` function to read it, and clean up the text into a usable form. (The `split` and `rstrip` functions might help.)"
   ]
  },
  {
   "cell_type": "code",
   "execution_count": null,
   "id": "d69a4798-1ad0-4383-8d58-523d98853458",
   "metadata": {},
   "outputs": [],
   "source": []
  }
 ],
 "metadata": {
  "kernelspec": {
   "display_name": "Python 3 (ipykernel)",
   "language": "python",
   "name": "python3"
  },
  "language_info": {
   "codemirror_mode": {
    "name": "ipython",
    "version": 3
   },
   "file_extension": ".py",
   "mimetype": "text/x-python",
   "name": "python",
   "nbconvert_exporter": "python",
   "pygments_lexer": "ipython3",
   "version": "3.10.1"
  }
 },
 "nbformat": 4,
 "nbformat_minor": 5
}
