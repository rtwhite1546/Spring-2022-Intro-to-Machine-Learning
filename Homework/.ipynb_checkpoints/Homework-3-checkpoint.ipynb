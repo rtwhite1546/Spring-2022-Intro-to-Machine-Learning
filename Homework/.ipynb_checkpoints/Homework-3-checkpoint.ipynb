{
 "cells": [
  {
   "cell_type": "markdown",
   "id": "bc4b2896-c99e-452b-8fb6-f1b91b2315c6",
   "metadata": {},
   "source": [
    "# MTH 4920/5050 Homework 3\n",
    "\n",
    "## Classification Methods\n",
    "\n",
    "**Deadline**: TBA\n",
    "\n",
    "**Points**: TBA\n",
    "\n",
    "### Instructions\n",
    "\n",
    "Submit **one** Python notebook or PDF file for grading. If you submit a PDF, also submit code files.\n",
    "* Your file should include **text explanations** of your work, **well-commented code**, and the **outputs** from your code.\n",
    "* Any language I can easily run is acceptable, but I recommend Python.\n",
    "\n",
    "### Problems\n",
    "\n",
    "TBA"
   ]
  },
  {
   "cell_type": "code",
   "execution_count": null,
   "id": "a94991c7-7c4f-4155-99d8-09b6c26328ee",
   "metadata": {},
   "outputs": [],
   "source": []
  }
 ],
 "metadata": {
  "kernelspec": {
   "display_name": "Python 3 (ipykernel)",
   "language": "python",
   "name": "python3"
  },
  "language_info": {
   "codemirror_mode": {
    "name": "ipython",
    "version": 3
   },
   "file_extension": ".py",
   "mimetype": "text/x-python",
   "name": "python",
   "nbconvert_exporter": "python",
   "pygments_lexer": "ipython3",
   "version": "3.10.1"
  }
 },
 "nbformat": 4,
 "nbformat_minor": 5
}
