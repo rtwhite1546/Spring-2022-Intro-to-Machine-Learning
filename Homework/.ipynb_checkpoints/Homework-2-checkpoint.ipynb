{
 "cells": [
  {
   "cell_type": "markdown",
   "id": "d2c4de32-d7aa-4756-aba1-079e7e38fce5",
   "metadata": {
    "tags": []
   },
   "source": [
    "# MTH 4224 / CSE 4224 - Homework 2\n",
    "\n",
    "## Kernel smoothing, RBFs, Regularization\n",
    "\n",
    "**Deadline**: Nov 23\n",
    "\n",
    "**Points**: 50\n",
    "\n",
    "### Instructions\n",
    "\n",
    "Submit **one** Python notebook file for grading. Your file must include **text explanations** of your work, **well-commented code**, and the **outputs** from your code.\n",
    "\n",
    "### Dataset\n",
    "\n",
    "For the problems below, use the [CNNpred Dataset](https://archive.ics.uci.edu/ml/datasets/CNNpred%3A+CNN-based+stock+market+prediction+using+a+diverse+set+of+variables) of daily market data from 2010-2017 from the UCI Machine Learning Repository.\n",
    "\n",
    "The dataset contains features from various technical indicators, futures contracts, commodity prices, indices of markets around the world, price of major companies in the U.S., and treasury bill rates. Further details regarding the dataset can be found in Appendix I of the following paper.\n",
    "\n",
    ">Hoseinzade, E., & Haratizadeh, S. (2019). [CNNpred: CNN-based stock market prediction using a diverse set of variables](https://arxiv.org/pdf/1810.08923.pdf). *Expert Systems with Applications*, 129, 273-285.\n",
    "\n",
    "### Problems\n",
    "\n",
    "**Choose one stock index to use from the CNNpred dataset.**\n",
    "\n",
    "1. **[5 points]** Construct a dataset where each datapoint has all 82 features $x_i$ and closing prices $y_i$ for each day.\n",
    "\n",
    "2. **[10 points]** Train, tune, and test an kernel regression model on the dataset. Run at least 5 experiments and document them in your submission.\n",
    "\n",
    "3. **[10 points]** Train, tune, and test an radial basis function model on the dataset. Run at least 5 experiments and document them in your submission.\n",
    "\n",
    "4. **[10 points]** Add LASSO ($L^1$) regularization to your tuned model from the previous step. Compute a LASSO path to get a ranking of feature importance. Further, plot the test error for each $\\lambda$ coefficient.*\n",
    " \n",
    "5. **[5 points]** Construct a dataset of *sequences* of data about each Monday - Thursday (including all features + closing prices). We will use this information to try to predict the closing price of each Friday in the dataset, which will serve as the target $y_i$.\n",
    "\n",
    "6. **[10 points]** Do your best to predict the Friday prices. Start with linear regression and iterate to more complex models as you see fit.\n",
    "\n",
    "The top-3 performing students on **Problem 6** will earn **+5 points.**\n",
    "\n",
    "**Note:** Feel free to use any of the options in *Elements of Statistical Learning* for minimizing the RBF loss function: learning the $\\xi$'s like we did in class, using random $x_i$'s for $\\xi_j$'s, using centroids of nearby $x_i$'s for $\\xi_j$'s with or without prior clustering."
   ]
  }
 ],
 "metadata": {
  "kernelspec": {
   "display_name": "Python 3 (ipykernel)",
   "language": "python",
   "name": "python3"
  },
  "language_info": {
   "codemirror_mode": {
    "name": "ipython",
    "version": 3
   },
   "file_extension": ".py",
   "mimetype": "text/x-python",
   "name": "python",
   "nbconvert_exporter": "python",
   "pygments_lexer": "ipython3",
   "version": "3.10.1"
  }
 },
 "nbformat": 4,
 "nbformat_minor": 5
}
