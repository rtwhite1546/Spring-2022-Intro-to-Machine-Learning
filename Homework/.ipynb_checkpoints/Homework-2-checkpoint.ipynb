{
 "cells": [
  {
   "cell_type": "markdown",
   "id": "d2c4de32-d7aa-4756-aba1-079e7e38fce5",
   "metadata": {
    "tags": []
   },
   "source": [
    "# MTH 4224 / CSE 4224 - Homework 2\n",
    "\n",
    "**CURRENTLY UNDER CONSTRUCTION... DO NOT START ON THIS ASSIGNMENT**\n",
    "\n",
    "## RBFs and Regularization\n",
    "\n",
    "**Deadline**: TBA\n",
    "\n",
    "**Points**: 35\n",
    "\n",
    "### Instructions\n",
    "\n",
    "Submit **one** Python notebook file for grading. Your file must include **text explanations** of your work, **well-commented code**, and the **outputs** from your code.\n",
    "\n",
    "### Datasets\n",
    "\n",
    "For problems 1-2, use the [CNNpred Dataset](https://archive.ics.uci.edu/ml/datasets/CNNpred%3A+CNN-based+stock+market+prediction+using+a+diverse+set+of+variables) of daily market data from 2010-2017 from the UCI Machine Learning Repository.\n",
    "\n",
    "The dataset contains features from various technical indicators, futures contracts, commodity prices, indices of markets around the world, price of major companies in the U.S., and treasury bill rates. Further details regarding the dataset can be found in Appendix I of the following paper.\n",
    "\n",
    ">Hoseinzade, E., & Haratizadeh, S. (2019). [CNNpred: CNN-based stock market prediction using a diverse set of variables](https://arxiv.org/pdf/1810.08923.pdf). *Expert Systems with Applications*, 129, 273-285.\n",
    "\n",
    "For problems 3-4, use the [Online News Popularity Dataset](https://archive.ics.uci.edu/ml/datasets/Online+News+Popularity) of features and number of shares for online news articles from the UCI Machine Learning Repository. More information can be found in the following paper.\n",
    "\n",
    ">K. Fernandes, P. Vinagre and P. Cortez. [A Proactive Intelligent Decision Support System for Predicting the Popularity of Online News](https://repositorium.sdum.uminho.pt/bitstream/1822/39169/1/main.pdf). *Proceedings of the 17th EPIA 2015 - Portuguese Conference on Artificial Intelligence*.\n",
    "\n",
    "### Problems\n",
    "\n",
    "**Choose your one preferred stock index to use from the CNNpred dataset for problems 1-2.**\n",
    "\n",
    "1. **[20 points]** Construct a dataset where each datapoint of all 82 features $x_i$ and closing prices $y_i$ for each day. Train, tune, and test kernel smoothing and RBF models on the dataset.\n",
    "\n",
    "Feel free to use any of the options in *Elements of Statistical Learning* for minimizing the RBF loss function: learning the $\\xi$'s like we did in class, using random $x_i$'s for $\\xi$'s, using centroids of nearby $x_i$'s for $\\xi$'s with or without prior clustering.\n",
    "\n",
    "2. Choose the best model from the previous problem and add LASSO ($L^1$) regularization. (This will require adjusting the gradient calculation in the RBF model.)"
   ]
  }
 ],
 "metadata": {
  "kernelspec": {
   "display_name": "Python 3 (ipykernel)",
   "language": "python",
   "name": "python3"
  },
  "language_info": {
   "codemirror_mode": {
    "name": "ipython",
    "version": 3
   },
   "file_extension": ".py",
   "mimetype": "text/x-python",
   "name": "python",
   "nbconvert_exporter": "python",
   "pygments_lexer": "ipython3",
   "version": "3.10.1"
  }
 },
 "nbformat": 4,
 "nbformat_minor": 5
}
