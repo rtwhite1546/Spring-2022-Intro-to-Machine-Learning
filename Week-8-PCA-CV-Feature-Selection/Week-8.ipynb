{
 "cells": [
  {
   "cell_type": "markdown",
   "id": "6910c354-a817-4485-82d0-f853ca40c875",
   "metadata": {},
   "source": [
    "# Week 8\n",
    "\n",
    "First, we consider principal components analysis (PCA), an *unsupervised* learning method to reduce the dimensionality of a dataset by projecting its points into an optimal lower dimensional vector space."
   ]
  },
  {
   "cell_type": "markdown",
   "id": "64520fff-b323-4e31-a615-987cfdddf461",
   "metadata": {
    "tags": []
   },
   "source": [
    "# Lecture 14 - Principal Components Analysis\n",
    "\n",
    "The classification methods we have used are quite good at some tasks, such as identifying handwritten digits from the MNIST dataset. Harder problems, like classifying images from the CIFAR-10 dataset, are still a challenge, and are very computationally intensive due to the high dimension data. The next topic in the class will be to try to manage this dimensionality problem.\n",
    "\n",
    "## Principal Components Analysis (PCA)\n",
    "\n",
    "Principal components analysis (PCA) is a method for reducing the dimension of the data by using some ideas from linear algebra to map the rows from a data matrix $X$ from its default $d$-dimensional space to an $r$-dimensional space for some $r < d$.\n",
    "\n",
    "Please see the notes in class for the math that makes this work, but we write an implementation below."
   ]
  },
  {
   "cell_type": "code",
   "execution_count": 1,
   "id": "b17cf130-32ee-4968-8865-ecd82d500266",
   "metadata": {},
   "outputs": [],
   "source": [
    "import numpy as np\n",
    "import seaborn as sn\n",
    "import time\n",
    "\n",
    "from sklearn.discriminant_analysis import LinearDiscriminantAnalysis\n",
    "from sklearn.discriminant_analysis import QuadraticDiscriminantAnalysis\n",
    "from sklearn.metrics import classification_report\n",
    "from sklearn.metrics import confusion_matrix\n",
    "from sklearn.model_selection import train_test_split\n",
    "from sklearn.neighbors import KNeighborsClassifier\n",
    "from tensorflow.keras.datasets import mnist\n",
    "from tensorflow.keras.datasets import cifar10"
   ]
  },
  {
   "cell_type": "code",
   "execution_count": 2,
   "id": "e8a07bda-7a6f-4554-a5a1-750da9e68674",
   "metadata": {},
   "outputs": [],
   "source": [
    "# Principal component analysis\n",
    "def PCA(X, alpha):        \n",
    "    # find the original dimension and print it\n",
    "    dimension = X.shape[1]\n",
    "    print('The original dimension of the data is', dimension)\n",
    "    \n",
    "    # center D to have mean 0\n",
    "    X -= np.mean(X, axis=0)\n",
    "    \n",
    "    # compute the covariance matrix\n",
    "    Sigma = (1/X.shape[0]) * X.T @ X\n",
    "\n",
    "    # compute the eigenvalues and eigenvectors of D^T D\n",
    "    (eValues, eVectors) = np.linalg.eigh(Sigma)\n",
    "\n",
    "    # compute the total variance\n",
    "    varX = np.sum(eValues)\n",
    "    \n",
    "    # initialize the variance for A to 0\n",
    "    varA = 0.0\n",
    "    \n",
    "    # reverse eValues and eVectors\n",
    "    eValues = np.flip(eValues)\n",
    "    eVectors = np.flip(eVectors, axis=1)\n",
    "\n",
    "    # find the minimum dimension consisting of fraction at least alpha of the total variance\n",
    "    for r in np.arange(0, eValues.shape[0]):\n",
    "        varA += eValues[r]\n",
    "        ratio = varA/varX\n",
    "\n",
    "        if ratio > alpha:\n",
    "            dimension = r + 1\n",
    "            print('The new dimension of the data is', dimension, 'and it explains', ratio, 'of the variance')\n",
    "            break\n",
    "            \n",
    "    # construct the new basis\n",
    "    basis = eVectors[:,:dimension]\n",
    "    \n",
    "    # create the datapoints in the new space\n",
    "    A = X @ basis\n",
    "    \n",
    "    # return points\n",
    "    return A"
   ]
  },
  {
   "cell_type": "markdown",
   "id": "79238c58-ac9f-405c-83e2-c2a4f2bb7379",
   "metadata": {},
   "source": [
    "To test this out a bit, let's bring in our neural network code and our favorite dataset (MNIST), use PCA to reduce the dimension of MNIST, and then train the neural net to classify the lower-dimensional data."
   ]
  },
  {
   "cell_type": "markdown",
   "id": "b9c55ce9-cdf1-42e8-b4a0-ec9fa56c5bae",
   "metadata": {},
   "source": [
    "First, let's run it on MNIST images and compute the time. Later, we will compare it to using PCA and training the net on the resulting data."
   ]
  },
  {
   "cell_type": "code",
   "execution_count": 3,
   "id": "ef7282de-5d72-4f47-ba27-a0dc81d643b0",
   "metadata": {},
   "outputs": [
    {
     "name": "stdout",
     "output_type": "stream",
     "text": [
      "Now training QDA...\n"
     ]
    },
    {
     "name": "stderr",
     "output_type": "stream",
     "text": [
      "C:\\Users\\Ryan\\miniconda3\\envs\\DL\\lib\\site-packages\\sklearn\\discriminant_analysis.py:878: UserWarning: Variables are collinear\n",
      "  warnings.warn(\"Variables are collinear\")\n"
     ]
    },
    {
     "name": "stdout",
     "output_type": "stream",
     "text": [
      "QDA training is finished after 2.120912551879883 seconds\n",
      "Now testing QDA...\n",
      "QDA prediction is finished after 0.8149929046630859 seconds\n",
      "\n",
      "Test Classification Report for reg_param = 0.05               precision    recall  f1-score   support\n",
      "\n",
      "           0       0.97      0.99      0.98       980\n",
      "           1       0.96      0.99      0.98      1135\n",
      "           2       0.97      0.94      0.95      1032\n",
      "           3       0.96      0.94      0.95      1010\n",
      "           4       0.98      0.96      0.97       982\n",
      "           5       0.97      0.94      0.95       892\n",
      "           6       0.97      0.97      0.97       958\n",
      "           7       0.97      0.93      0.95      1028\n",
      "           8       0.91      0.94      0.93       974\n",
      "           9       0.92      0.96      0.94      1009\n",
      "\n",
      "    accuracy                           0.96     10000\n",
      "   macro avg       0.96      0.96      0.96     10000\n",
      "weighted avg       0.96      0.96      0.96     10000\n",
      "\n",
      "\n",
      "Test Confusion Matrix:\n",
      "\n"
     ]
    },
    {
     "data": {
      "text/plain": [
       "<AxesSubplot:>"
      ]
     },
     "execution_count": 3,
     "metadata": {},
     "output_type": "execute_result"
    },
    {
     "data": {
      "image/png": "[encoded data removed]",
      "text/plain": [
       "<Figure size 432x288 with 2 Axes>"
      ]
     },
     "metadata": {
      "needs_background": "light"
     },
     "output_type": "display_data"
    }
   ],
   "source": [
    "# import MNIST data\n",
    "(trainX, trainY), (testX, testY) = mnist.load_data()\n",
    "\n",
    "# reshape the data\n",
    "trainX = trainX.reshape(trainX.shape[0], trainX.shape[1] * trainX.shape[2])\n",
    "testX = testX.reshape(testX.shape[0], testX.shape[1] * testX.shape[2])\n",
    "\n",
    "# normalize coordinates\n",
    "trainX = trainX.astype('float')/255.0\n",
    "testX = testX.astype('float')/255.0\n",
    "\n",
    "# fit the model to the training data\n",
    "print('Now training QDA...')\n",
    "\n",
    "start = time.time()\n",
    "\n",
    "model = QuadraticDiscriminantAnalysis(reg_param = 0.05)\n",
    "model.fit(trainX, trainY)\n",
    "\n",
    "end = time.time()\n",
    "\n",
    "print('QDA training is finished after', end - start, 'seconds')\n",
    "\n",
    "# predict the labels of the test set\n",
    "print('Now testing QDA...')\n",
    "\n",
    "start = time.time()\n",
    "\n",
    "predictedY = model.predict(testX)\n",
    "\n",
    "end = time.time()\n",
    "\n",
    "print('QDA prediction is finished after', end - start, 'seconds')\n",
    "\n",
    "# print quality metrics\n",
    "print('\\nTest Classification Report for reg_param =', 0.05, classification_report(testY, predictedY))\n",
    "\n",
    "print('\\nTest Confusion Matrix:\\n')\n",
    "sn.heatmap(confusion_matrix(testY, predictedY))"
   ]
  },
  {
   "cell_type": "markdown",
   "id": "a30eff36-9c6d-4f97-aea6-ceb54ccf20c0",
   "metadata": {},
   "source": [
    "We achieved 96% accuracy on the test set and the runtime was 2.9 seconds. Now, let's do exactly the same thing *except* we will use PCA to reduce the dimension of the same data before running QDA."
   ]
  },
  {
   "cell_type": "code",
   "execution_count": 4,
   "id": "469ee018-4c74-46b0-b063-47c152c02d66",
   "metadata": {},
   "outputs": [
    {
     "name": "stdout",
     "output_type": "stream",
     "text": [
      "Now using PCA dimensionality reduction...\n",
      "The original dimension of the data is 784\n",
      "The new dimension of the data is 43 and it explains 0.8001734877104146 of the variance\n",
      "PCA finished in 1.9196336269378662 seconds\n",
      "Now training QDA...\n",
      "QDA training is finished after 0.060337066650390625 seconds\n",
      "Now testing QDA...\n",
      "QDA prediction is finished after 0.04025411605834961 seconds\n",
      "\n",
      "Test Classification Report for reg_param = 0.05               precision    recall  f1-score   support\n",
      "\n",
      "           0       0.98      0.98      0.98      1722\n",
      "           1       0.98      0.98      0.98      2007\n",
      "           2       0.95      0.97      0.96      1799\n",
      "           3       0.95      0.94      0.95      1788\n",
      "           4       0.98      0.97      0.97      1690\n",
      "           5       0.95      0.97      0.96      1622\n",
      "           6       0.98      0.97      0.98      1669\n",
      "           7       0.96      0.95      0.96      1798\n",
      "           8       0.93      0.94      0.93      1708\n",
      "           9       0.94      0.94      0.94      1697\n",
      "\n",
      "    accuracy                           0.96     17500\n",
      "   macro avg       0.96      0.96      0.96     17500\n",
      "weighted avg       0.96      0.96      0.96     17500\n",
      "\n",
      "\n",
      "Test Confusion Matrix:\n",
      "\n"
     ]
    },
    {
     "data": {
      "text/plain": [
       "<AxesSubplot:>"
      ]
     },
     "execution_count": 4,
     "metadata": {},
     "output_type": "execute_result"
    },
    {
     "data": {
      "image/png": "[encoded data removed]",
      "text/plain": [
       "<Figure size 432x288 with 2 Axes>"
      ]
     },
     "metadata": {
      "needs_background": "light"
     },
     "output_type": "display_data"
    }
   ],
   "source": [
    "# import MNIST data\n",
    "(trainX, trainY), (testX, testY) = mnist.load_data()\n",
    "\n",
    "X = np.vstack((trainX, testX))\n",
    "Y = np.concatenate((trainY, testY))\n",
    "\n",
    "# reshape the data\n",
    "X = X.reshape(X.shape[0], X.shape[1] * X.shape[2]).astype('float')\n",
    "\n",
    "# Use PCA\n",
    "print('Now using PCA dimensionality reduction...')\n",
    "\n",
    "start = time.time()\n",
    "\n",
    "# Apply PCA to the data matrices\n",
    "X = PCA(X, 0.8)\n",
    "\n",
    "end = time.time()\n",
    "\n",
    "print('PCA finished in', end - start, 'seconds')\n",
    "\n",
    "# normalize the data\n",
    "X = X / 255.0\n",
    "\n",
    "# train-test split\n",
    "trainX, testX, trainY, testY = train_test_split(X, Y, test_size = 0.25, random_state = 1)\n",
    "\n",
    "# fit the model to the training data\n",
    "print('Now training QDA...')\n",
    "\n",
    "start = time.time()\n",
    "\n",
    "model = QuadraticDiscriminantAnalysis(reg_param = 0.05)\n",
    "model.fit(trainX, trainY)\n",
    "\n",
    "end = time.time()\n",
    "\n",
    "print('QDA training is finished after', end - start, 'seconds')\n",
    "\n",
    "# predict the labels of the test set\n",
    "print('Now testing QDA...')\n",
    "\n",
    "start = time.time()\n",
    "\n",
    "predictedY = model.predict(testX)\n",
    "\n",
    "end = time.time()\n",
    "\n",
    "print('QDA prediction is finished after', end - start, 'seconds')\n",
    "\n",
    "# print quality metrics\n",
    "print('\\nTest Classification Report for reg_param =', 0.05, classification_report(testY, predictedY))\n",
    "\n",
    "print('\\nTest Confusion Matrix:\\n')\n",
    "sn.heatmap(confusion_matrix(testY, predictedY))"
   ]
  },
  {
   "cell_type": "markdown",
   "id": "9e723af5-8412-42ed-90c0-62c04eafcbac",
   "metadata": {},
   "source": [
    "Here, requiring a number of dimensions explaining 80\\% of the variance of the dataset with PCA reduced the dimension from 784 to 43, a reduction of over 94\\%! What is even more amazing is that the test accuracy on the lower-dimensional data is still 96\\%, but the time for PCA (1.9 seconds) + training (0.05 seconds) + prediction (0.05 seconds) is only 2 seconds, about 33\\% less than the time without it."
   ]
  },
  {
   "cell_type": "markdown",
   "id": "933826b0-8073-47ea-94fb-e80b63587a52",
   "metadata": {},
   "source": [
    "Let's try it with CIFAR-10, so let's see if performance improves or at least stays the same when we use PCA.\n",
    "\n",
    "First, without PCA."
   ]
  },
  {
   "cell_type": "code",
   "execution_count": 5,
   "id": "09f02451-510b-4cb8-80b6-f8501db21ac3",
   "metadata": {},
   "outputs": [
    {
     "name": "stdout",
     "output_type": "stream",
     "text": [
      "Now training QDA...\n"
     ]
    },
    {
     "name": "stderr",
     "output_type": "stream",
     "text": [
      "C:\\Users\\Ryan\\miniconda3\\envs\\DL\\lib\\site-packages\\sklearn\\utils\\validation.py:993: DataConversionWarning: A column-vector y was passed when a 1d array was expected. Please change the shape of y to (n_samples, ), for example using ravel().\n",
      "  y = column_or_1d(y, warn=True)\n"
     ]
    },
    {
     "name": "stdout",
     "output_type": "stream",
     "text": [
      "QDA training is finished after 31.361711502075195 seconds\n",
      "Now testing QDA...\n",
      "QDA prediction is finished after 6.257355213165283 seconds\n",
      "\n",
      "Test Classification Report for reg_param = 0.05               precision    recall  f1-score   support\n",
      "\n",
      "           0       0.55      0.39      0.46      1000\n",
      "           1       0.88      0.19      0.31      1000\n",
      "           2       0.33      0.41      0.37      1000\n",
      "           3       0.30      0.32      0.31      1000\n",
      "           4       0.31      0.75      0.44      1000\n",
      "           5       0.44      0.41      0.42      1000\n",
      "           6       0.92      0.11      0.19      1000\n",
      "           7       0.84      0.31      0.46      1000\n",
      "           8       0.33      0.89      0.48      1000\n",
      "           9       0.81      0.20      0.32      1000\n",
      "\n",
      "    accuracy                           0.40     10000\n",
      "   macro avg       0.57      0.40      0.38     10000\n",
      "weighted avg       0.57      0.40      0.38     10000\n",
      "\n",
      "\n",
      "Test Confusion Matrix:\n",
      "\n"
     ]
    },
    {
     "data": {
      "text/plain": [
       "<AxesSubplot:>"
      ]
     },
     "execution_count": 5,
     "metadata": {},
     "output_type": "execute_result"
    },
    {
     "data": {
      "image/png": "[encoded data removed]",
      "text/plain": [
       "<Figure size 432x288 with 2 Axes>"
      ]
     },
     "metadata": {
      "needs_background": "light"
     },
     "output_type": "display_data"
    }
   ],
   "source": [
    "# import CIFAR-10 data\n",
    "(trainX, trainY), (testX, testY) = cifar10.load_data()\n",
    "\n",
    "# reshape the data\n",
    "trainX = trainX.reshape(trainX.shape[0], 3 * 32 * 32)\n",
    "testX = testX.reshape(testX.shape[0], 3 * 32 * 32)\n",
    "\n",
    "# normalize coordinates\n",
    "trainX = trainX.astype('float')/255.0\n",
    "testX = testX.astype('float')/255.0\n",
    "\n",
    "# fit the model to the training data\n",
    "print('Now training QDA...')\n",
    "\n",
    "start = time.time()\n",
    "\n",
    "model = QuadraticDiscriminantAnalysis(reg_param = 0.05)\n",
    "model.fit(trainX, trainY)\n",
    "\n",
    "end = time.time()\n",
    "\n",
    "print('QDA training is finished after', end - start, 'seconds')\n",
    "\n",
    "# predict the labels of the test set\n",
    "print('Now testing QDA...')\n",
    "\n",
    "start = time.time()\n",
    "\n",
    "predictedY = model.predict(testX)\n",
    "\n",
    "end = time.time()\n",
    "\n",
    "print('QDA prediction is finished after', end - start, 'seconds')\n",
    "\n",
    "# print quality metrics\n",
    "print('\\nTest Classification Report for reg_param =', 0.05, classification_report(testY, predictedY))\n",
    "\n",
    "print('\\nTest Confusion Matrix:\\n')\n",
    "sn.heatmap(confusion_matrix(testY, predictedY))"
   ]
  },
  {
   "cell_type": "markdown",
   "id": "c27a61bd-2dd3-44b1-856c-087985893d46",
   "metadata": {},
   "source": [
    "Next, let's use PCA to shrink the data to a lower dimension and see how the runtime and performance compare with all settings equal."
   ]
  },
  {
   "cell_type": "code",
   "execution_count": 6,
   "id": "854b1754-1e46-417d-bd4e-46fb6b377f39",
   "metadata": {},
   "outputs": [
    {
     "name": "stdout",
     "output_type": "stream",
     "text": [
      "Now using PCA dimensionality reduction...\n",
      "The original dimension of the data is 3072\n",
      "The new dimension of the data is 33 and it explains 0.802687122031818 of the variance\n",
      "PCA finished in 36.18577599525452 seconds\n",
      "Now training QDA...\n",
      "QDA training is finished after 0.06261038780212402 seconds\n",
      "Now testing QDA...\n",
      "QDA prediction is finished after 0.02014946937561035 seconds\n",
      "\n",
      "Test Classification Report for reg_param = 0.05 :\n",
      "               precision    recall  f1-score   support\n",
      "\n",
      "           0       0.50      0.55      0.52      1473\n",
      "           1       0.58      0.52      0.55      1500\n",
      "           2       0.32      0.24      0.27      1492\n",
      "           3       0.33      0.31      0.32      1491\n",
      "           4       0.37      0.49      0.42      1516\n",
      "           5       0.45      0.34      0.39      1514\n",
      "           6       0.45      0.61      0.52      1503\n",
      "           7       0.59      0.50      0.54      1570\n",
      "           8       0.58      0.60      0.59      1493\n",
      "           9       0.54      0.54      0.54      1448\n",
      "\n",
      "    accuracy                           0.47     15000\n",
      "   macro avg       0.47      0.47      0.47     15000\n",
      "weighted avg       0.47      0.47      0.47     15000\n",
      "\n",
      "\n",
      "Test Confusion Matrix:\n",
      "\n"
     ]
    },
    {
     "name": "stderr",
     "output_type": "stream",
     "text": [
      "C:\\Users\\Ryan\\miniconda3\\envs\\DL\\lib\\site-packages\\sklearn\\utils\\validation.py:993: DataConversionWarning: A column-vector y was passed when a 1d array was expected. Please change the shape of y to (n_samples, ), for example using ravel().\n",
      "  y = column_or_1d(y, warn=True)\n"
     ]
    },
    {
     "data": {
      "text/plain": [
       "<AxesSubplot:>"
      ]
     },
     "execution_count": 6,
     "metadata": {},
     "output_type": "execute_result"
    },
    {
     "data": {
      "image/png": "[encoded data removed]",
      "text/plain": [
       "<Figure size 432x288 with 2 Axes>"
      ]
     },
     "metadata": {
      "needs_background": "light"
     },
     "output_type": "display_data"
    }
   ],
   "source": [
    "# import CIFAR-10 data\n",
    "(trainX, trainY), (testX, testY) = cifar10.load_data()\n",
    "\n",
    "X = np.vstack((trainX, testX))\n",
    "Y = np.concatenate((trainY, testY))\n",
    "\n",
    "# reshape the data\n",
    "X = X.reshape(X.shape[0], 3 * 32 * 32).astype('float')\n",
    "\n",
    "# Use PCA\n",
    "print('Now using PCA dimensionality reduction...')\n",
    "\n",
    "start = time.time()\n",
    "\n",
    "# Apply PCA to the data matrices\n",
    "X = PCA(X, 0.8)\n",
    "\n",
    "end = time.time()\n",
    "\n",
    "print('PCA finished in', end - start, 'seconds')\n",
    "\n",
    "# normalize the data\n",
    "X = X / 255.0\n",
    "\n",
    "# train-test split\n",
    "trainX, testX, trainY, testY = train_test_split(X, Y, test_size = 0.25, random_state = 1)\n",
    "\n",
    "# fit the model to the training data\n",
    "print('Now training QDA...')\n",
    "\n",
    "start = time.time()\n",
    "\n",
    "model = QuadraticDiscriminantAnalysis(reg_param = 0.05)\n",
    "model.fit(trainX, trainY)\n",
    "\n",
    "end = time.time()\n",
    "\n",
    "print('QDA training is finished after', end - start, 'seconds')\n",
    "\n",
    "# predict the labels of the test set\n",
    "print('Now testing QDA...')\n",
    "\n",
    "start = time.time()\n",
    "\n",
    "predictedY = model.predict(testX)\n",
    "\n",
    "end = time.time()\n",
    "\n",
    "print('QDA prediction is finished after', end - start, 'seconds')\n",
    "\n",
    "# print quality metrics\n",
    "print('\\nTest Classification Report for reg_param =', 0.05, ':\\n', classification_report(testY, predictedY))\n",
    "\n",
    "print('\\nTest Confusion Matrix:\\n')\n",
    "sn.heatmap(confusion_matrix(testY, predictedY))"
   ]
  },
  {
   "cell_type": "markdown",
   "id": "9d2e71f3-729d-432d-970c-fe1228d4f515",
   "metadata": {},
   "source": [
    "Performance is still not great, but it is better by 7% test accuracy. We gained accuracy with less computational time! This one took\n",
    "\n",
    "* 36.2 seconds for PCA\n",
    "* 0.1 seconds for training and testing\n",
    "\n",
    "or 36.3 total seconds while training with the original dataset took 37.6 seconds.\n",
    "\n",
    "Let's try kNN."
   ]
  },
  {
   "cell_type": "code",
   "execution_count": 7,
   "id": "00c19a6c-374c-4681-9e61-1332454c16d7",
   "metadata": {},
   "outputs": [
    {
     "name": "stdout",
     "output_type": "stream",
     "text": [
      "Now training kNN...\n",
      "kNN training is finished after 0.1344003677368164 seconds\n",
      "Now testing kNN...\n",
      "kNN prediction is finished after 282.38029050827026 seconds\n",
      "\n",
      "Test Classification Report               precision    recall  f1-score   support\n",
      "\n",
      "           0       0.46      0.55      0.50      1000\n",
      "           1       0.70      0.24      0.36      1000\n",
      "           2       0.27      0.43      0.33      1000\n",
      "           3       0.34      0.22      0.27      1000\n",
      "           4       0.26      0.53      0.35      1000\n",
      "           5       0.45      0.31      0.37      1000\n",
      "           6       0.38      0.35      0.36      1000\n",
      "           7       0.67      0.31      0.42      1000\n",
      "           8       0.42      0.72      0.53      1000\n",
      "           9       0.71      0.28      0.40      1000\n",
      "\n",
      "    accuracy                           0.39     10000\n",
      "   macro avg       0.47      0.39      0.39     10000\n",
      "weighted avg       0.47      0.39      0.39     10000\n",
      "\n",
      "\n",
      "Test Confusion Matrix:\n",
      "\n"
     ]
    },
    {
     "data": {
      "text/plain": [
       "<AxesSubplot:>"
      ]
     },
     "execution_count": 7,
     "metadata": {},
     "output_type": "execute_result"
    },
    {
     "data": {
      "image/png": "[encoded data removed]",
      "text/plain": [
       "<Figure size 432x288 with 2 Axes>"
      ]
     },
     "metadata": {
      "needs_background": "light"
     },
     "output_type": "display_data"
    }
   ],
   "source": [
    "# import CIFAR-10 data\n",
    "(trainX, trainY), (testX, testY) = cifar10.load_data()\n",
    "\n",
    "# reshape the data\n",
    "trainX = trainX.reshape(trainX.shape[0], 3 * 32 * 32)\n",
    "testX = testX.reshape(testX.shape[0], 3 * 32 * 32)\n",
    "\n",
    "# normalize coordinates\n",
    "trainX = trainX.astype('float')/255.0\n",
    "testX = testX.astype('float')/255.0\n",
    "\n",
    "# fit the model to the training data\n",
    "print('Now training kNN...')\n",
    "\n",
    "start = time.time()\n",
    "\n",
    "model = KNeighborsClassifier(n_neighbors = 7, weights = 'distance', p = 1, n_jobs = -1)\n",
    "model.fit(trainX, trainY.ravel())\n",
    "\n",
    "end = time.time()\n",
    "\n",
    "print('kNN training is finished after', end - start, 'seconds')\n",
    "\n",
    "# predict the labels of the test set\n",
    "print('Now testing kNN...')\n",
    "\n",
    "start = time.time()\n",
    "\n",
    "predictedY = model.predict(testX)\n",
    "\n",
    "end = time.time()\n",
    "\n",
    "print('kNN prediction is finished after', end - start, 'seconds')\n",
    "\n",
    "# print quality metrics\n",
    "print('\\nTest Classification Report', classification_report(testY, predictedY))\n",
    "\n",
    "print('\\nTest Confusion Matrix:\\n')\n",
    "sn.heatmap(confusion_matrix(testY, predictedY))"
   ]
  },
  {
   "cell_type": "markdown",
   "id": "3d3ce633-163a-47a5-a938-fa6973ac82a8",
   "metadata": {},
   "source": [
    "Next, let's use PCA to shrink the data to a lower dimension and see how the runtime and performance compare with all settings equal."
   ]
  },
  {
   "cell_type": "code",
   "execution_count": 8,
   "id": "c1c3363b-433a-43be-a6dc-64ff3759603a",
   "metadata": {},
   "outputs": [
    {
     "name": "stdout",
     "output_type": "stream",
     "text": [
      "Now using PCA dimensionality reduction...\n",
      "The original dimension of the data is 3072\n",
      "The new dimension of the data is 33 and it explains 0.802687122031818 of the variance\n",
      "PCA finished in 36.00750112533569 seconds\n",
      "Now training kNN...\n",
      "kNN training is finished after 0.020329952239990234 seconds\n",
      "Now testing kNN...\n",
      "kNN prediction is finished after 7.995319366455078 seconds\n",
      "\n",
      "Test Classification Report               precision    recall  f1-score   support\n",
      "\n",
      "           0       0.49      0.58      0.53      1473\n",
      "           1       0.64      0.35      0.45      1500\n",
      "           2       0.30      0.41      0.35      1492\n",
      "           3       0.37      0.21      0.27      1491\n",
      "           4       0.30      0.45      0.35      1516\n",
      "           5       0.45      0.28      0.34      1514\n",
      "           6       0.34      0.57      0.43      1503\n",
      "           7       0.61      0.40      0.48      1570\n",
      "           8       0.50      0.65      0.56      1493\n",
      "           9       0.59      0.36      0.44      1448\n",
      "\n",
      "    accuracy                           0.42     15000\n",
      "   macro avg       0.46      0.42      0.42     15000\n",
      "weighted avg       0.46      0.42      0.42     15000\n",
      "\n",
      "\n",
      "Test Confusion Matrix:\n",
      "\n"
     ]
    },
    {
     "data": {
      "text/plain": [
       "<AxesSubplot:>"
      ]
     },
     "execution_count": 8,
     "metadata": {},
     "output_type": "execute_result"
    },
    {
     "data": {
      "image/png": "[encoded data removed]",
      "text/plain": [
       "<Figure size 432x288 with 2 Axes>"
      ]
     },
     "metadata": {
      "needs_background": "light"
     },
     "output_type": "display_data"
    }
   ],
   "source": [
    "# import CIFAR-10 data\n",
    "(trainX, trainY), (testX, testY) = cifar10.load_data()\n",
    "\n",
    "X = np.vstack((trainX, testX))\n",
    "Y = np.concatenate((trainY, testY))\n",
    "\n",
    "# reshape the data\n",
    "X = X.reshape(X.shape[0], 3 * 32 * 32).astype('float')\n",
    "\n",
    "# Use PCA\n",
    "print('Now using PCA dimensionality reduction...')\n",
    "\n",
    "start = time.time()\n",
    "\n",
    "# Apply PCA to the data matrices\n",
    "X = PCA(X, 0.8)\n",
    "\n",
    "end = time.time()\n",
    "\n",
    "print('PCA finished in', end - start, 'seconds')\n",
    "\n",
    "# normalize the data\n",
    "X = X / 255.0\n",
    "\n",
    "# train-test split\n",
    "trainX, testX, trainY, testY = train_test_split(X, Y, test_size = 0.25, random_state = 1)\n",
    "\n",
    "# fit the model to the training data\n",
    "print('Now training kNN...')\n",
    "\n",
    "start = time.time()\n",
    "\n",
    "model = KNeighborsClassifier(n_neighbors = 7, weights = 'distance', p = 1, n_jobs = -1)\n",
    "model.fit(trainX, trainY.ravel())\n",
    "\n",
    "end = time.time()\n",
    "\n",
    "print('kNN training is finished after', end - start, 'seconds')\n",
    "\n",
    "# predict the labels of the test set\n",
    "print('Now testing kNN...')\n",
    "\n",
    "start = time.time()\n",
    "\n",
    "predictedY = model.predict(testX)\n",
    "\n",
    "end = time.time()\n",
    "\n",
    "print('kNN prediction is finished after', end - start, 'seconds')\n",
    "\n",
    "# print quality metrics\n",
    "print('\\nTest Classification Report', classification_report(testY, predictedY))\n",
    "\n",
    "print('\\nTest Confusion Matrix:\\n')\n",
    "sn.heatmap(confusion_matrix(testY, predictedY))"
   ]
  },
  {
   "cell_type": "markdown",
   "id": "704473fa-794a-4d0f-b09e-ef011e253a00",
   "metadata": {
    "tags": []
   },
   "source": [
    "## PCA for Visualization\n",
    "\n",
    "Let's import some libraries"
   ]
  },
  {
   "cell_type": "code",
   "execution_count": 13,
   "id": "a5309408-19e3-416f-88ab-ecc8a29fc03e",
   "metadata": {},
   "outputs": [],
   "source": [
    "import matplotlib.pyplot as plt\n",
    "from sklearn.decomposition import PCA"
   ]
  },
  {
   "cell_type": "markdown",
   "id": "2e0ad89b-fc47-4e9f-a2d7-e1a0454ed74c",
   "metadata": {},
   "source": [
    "Let's apply PCA to the MNIST dataset to reduce it to 2 dimensions."
   ]
  },
  {
   "cell_type": "code",
   "execution_count": 14,
   "id": "674c14f2-aedc-45c6-b833-e70fa71824cf",
   "metadata": {},
   "outputs": [],
   "source": [
    "# read the MNIST data\n",
    "(X, Y), _ = mnist.load_data()\n",
    "\n",
    "# reshape the datapoints into rows\n",
    "X = X.reshape(X.shape[0], X.shape[1] * X.shape[2])\n",
    "\n",
    "# create a PCA model with two components\n",
    "pca = PCA(n_components = 2)\n",
    "\n",
    "# transform the data\n",
    "A = pca.fit_transform(X)"
   ]
  },
  {
   "cell_type": "code",
   "execution_count": 15,
   "id": "316e1763-572d-4722-91ba-6a8f77c5734a",
   "metadata": {},
   "outputs": [
    {
     "name": "stdout",
     "output_type": "stream",
     "text": [
      "[0.09704664 0.07095924]\n"
     ]
    }
   ],
   "source": [
    "# print the amount of variance explained by each component\n",
    "print(pca.explained_variance_ratio_)"
   ]
  },
  {
   "cell_type": "markdown",
   "id": "d50283f5-6d44-4a33-be0c-c6871f1059b1",
   "metadata": {},
   "source": [
    "Let's next visualize the first two principal components for MNIST."
   ]
  },
  {
   "cell_type": "code",
   "execution_count": 17,
   "id": "cd5ffeaf-3e1f-4c30-9f55-0d2ca3b99045",
   "metadata": {},
   "outputs": [
    {
     "data": {
      "text/plain": [
       "Text(0.5, 1.0, '7.10% Explained Variance')"
      ]
     },
     "execution_count": 17,
     "metadata": {},
     "output_type": "execute_result"
    },
    {
     "data": {
      "image/png": "[encoded data removed]",
      "text/plain": [
       "<Figure size 864x288 with 4 Axes>"
      ]
     },
     "metadata": {},
     "output_type": "display_data"
    }
   ],
   "source": [
    "# set the style\n",
    "plt.style.use('fivethirtyeight')\n",
    "\n",
    "# declare a 1-by-2 plot\n",
    "fig, axarr = plt.subplots(1, 2, figsize=(12, 4))\n",
    "\n",
    "# plot heatmaps of PCA components and shape into a square\n",
    "sn.heatmap(pca.components_[0, :].reshape(28, 28), ax=axarr[0], cmap='coolwarm')\n",
    "sn.heatmap(pca.components_[1, :].reshape(28, 28), ax=axarr[1], cmap='coolwarm')\n",
    "\n",
    "# set chart titles\n",
    "axarr[0].set_title(\"{0:.2f}% Explained Variance\".format(pca.explained_variance_ratio_[0]*100))\n",
    "axarr[1].set_title(\"{0:.2f}% Explained Variance\".format(pca.explained_variance_ratio_[1]*100))"
   ]
  }
 ],
 "metadata": {
  "kernelspec": {
   "display_name": "Python 3 (ipykernel)",
   "language": "python",
   "name": "python3"
  },
  "language_info": {
   "codemirror_mode": {
    "name": "ipython",
    "version": 3
   },
   "file_extension": ".py",
   "mimetype": "text/x-python",
   "name": "python",
   "nbconvert_exporter": "python",
   "pygments_lexer": "ipython3",
   "version": "3.9.6"
  }
 },
 "nbformat": 4,
 "nbformat_minor": 5
}
