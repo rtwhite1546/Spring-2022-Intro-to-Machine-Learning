{
 "cells": [
  {
   "cell_type": "markdown",
   "id": "6910c354-a817-4485-82d0-f853ca40c875",
   "metadata": {},
   "source": [
    "# Week 8\n",
    "\n",
    "First, we consider principal components analysis (PCA), an *unsupervised* learning method to reduce the dimensionality of a dataset by projecting its points into an optimal lower dimensional vector space."
   ]
  },
  {
   "cell_type": "markdown",
   "id": "64520fff-b323-4e31-a615-987cfdddf461",
   "metadata": {},
   "source": [
    "# Lecture 14 - Principal Components Analysis\n",
    "\n",
    "The classification methods we have used are quite good at some tasks, such as identifying handwritten digits from the MNIST dataset. Harder problems, like classifying images from the CIFAR-10 dataset, are still a challenge, and are very computationally intensive due to the high dimension data. The next topic in the class will be to try to manage this dimensionality problem.\n",
    "\n",
    "## Principal Components Analysis (PCA)\n",
    "\n",
    "Principal components analysis (PCA) is a method for reducing the dimension of the data by using some ideas from linear algebra to map the rows from a data matrix $X$ from its default $d$-dimensional space to an $r$-dimensional space for some $r < d$.\n",
    "\n",
    "Please see the notes in class for the math that makes this work, but we write an implementation below."
   ]
  },
  {
   "cell_type": "code",
   "execution_count": 1,
   "id": "b17cf130-32ee-4968-8865-ecd82d500266",
   "metadata": {},
   "outputs": [],
   "source": [
    "import numpy as np\n",
    "import seaborn as sn\n",
    "import time\n",
    "\n",
    "from pprint import pprint\n",
    "from sklearn.discriminant_analysis import LinearDiscriminantAnalysis\n",
    "from sklearn.discriminant_analysis import QuadraticDiscriminantAnalysis\n",
    "from sklearn.metrics import classification_report\n",
    "from sklearn.metrics import confusion_matrix\n",
    "from sklearn.model_selection import GridSearchCV\n",
    "from sklearn.model_selection import train_test_split\n",
    "from sklearn.neighbors import KNeighborsClassifier\n",
    "from tensorflow.keras.datasets import mnist\n",
    "from tensorflow.keras.datasets import cifar10"
   ]
  },
  {
   "cell_type": "code",
   "execution_count": 2,
   "id": "e8a07bda-7a6f-4554-a5a1-750da9e68674",
   "metadata": {},
   "outputs": [],
   "source": [
    "# Principal component analysis\n",
    "def PCA(X, alpha):        \n",
    "    # find the original dimension and print it\n",
    "    dimension = X.shape[1]\n",
    "    print('The original dimension of the data is', dimension)\n",
    "    \n",
    "    # center D to have mean 0\n",
    "    X -= np.mean(X, axis=0)\n",
    "    \n",
    "    # compute the covariance matrix\n",
    "    Sigma = (1/X.shape[0]) * X.T @ X\n",
    "\n",
    "    # compute the eigenvalues and eigenvectors of D^T D\n",
    "    (eValues, eVectors) = np.linalg.eigh(Sigma)\n",
    "\n",
    "    # compute the total variance\n",
    "    varX = np.sum(eValues)\n",
    "    \n",
    "    # initialize the variance for A to 0\n",
    "    varA = 0.0\n",
    "    \n",
    "    # reverse eValues and eVectors\n",
    "    eValues = np.flip(eValues)\n",
    "    eVectors = np.flip(eVectors, axis=1)\n",
    "\n",
    "    # find the minimum dimension consisting of fraction at least alpha of the total variance\n",
    "    for r in np.arange(0, eValues.shape[0]):\n",
    "        varA += eValues[r]\n",
    "        ratio = varA/varX\n",
    "\n",
    "        if ratio > alpha:\n",
    "            dimension = r + 1\n",
    "            print('The new dimension of the data is', dimension, 'and it explains', ratio, 'of the variance')\n",
    "            break\n",
    "            \n",
    "    # construct the new basis\n",
    "    basis = eVectors[:,:dimension]\n",
    "    \n",
    "    # create the datapoints in the new space\n",
    "    A = X @ basis\n",
    "    \n",
    "    # return points\n",
    "    return A"
   ]
  },
  {
   "cell_type": "markdown",
   "id": "79238c58-ac9f-405c-83e2-c2a4f2bb7379",
   "metadata": {},
   "source": [
    "To test this out a bit, let's bring in our neural network code and our favorite dataset (MNIST), use PCA to reduce the dimension of MNIST, and then train the neural net to classify the lower-dimensional data."
   ]
  },
  {
   "cell_type": "markdown",
   "id": "b9c55ce9-cdf1-42e8-b4a0-ec9fa56c5bae",
   "metadata": {},
   "source": [
    "First, let's run it on MNIST images and compute the time. Later, we will compare it to using PCA and training the net on the resulting data."
   ]
  },
  {
   "cell_type": "code",
   "execution_count": 4,
   "id": "ef7282de-5d72-4f47-ba27-a0dc81d643b0",
   "metadata": {},
   "outputs": [
    {
     "name": "stdout",
     "output_type": "stream",
     "text": [
      "Now training QDA...\n"
     ]
    },
    {
     "name": "stderr",
     "output_type": "stream",
     "text": [
      "C:\\Users\\Ryan\\anaconda3\\envs\\ML\\lib\\site-packages\\sklearn\\discriminant_analysis.py:878: UserWarning: Variables are collinear\n",
      "  warnings.warn(\"Variables are collinear\")\n"
     ]
    },
    {
     "ename": "KeyboardInterrupt",
     "evalue": "",
     "output_type": "error",
     "traceback": [
      "\u001b[1;31m---------------------------------------------------------------------------\u001b[0m",
      "\u001b[1;31mKeyboardInterrupt\u001b[0m                         Traceback (most recent call last)",
      "\u001b[1;32m~\\AppData\\Local\\Temp/ipykernel_16748/3358421880.py\u001b[0m in \u001b[0;36m<module>\u001b[1;34m\u001b[0m\n\u001b[0;32m     16\u001b[0m \u001b[1;33m\u001b[0m\u001b[0m\n\u001b[0;32m     17\u001b[0m \u001b[0mmodel\u001b[0m \u001b[1;33m=\u001b[0m \u001b[0mQuadraticDiscriminantAnalysis\u001b[0m\u001b[1;33m(\u001b[0m\u001b[0mreg_param\u001b[0m \u001b[1;33m=\u001b[0m \u001b[1;36m0.05\u001b[0m\u001b[1;33m)\u001b[0m\u001b[1;33m\u001b[0m\u001b[1;33m\u001b[0m\u001b[0m\n\u001b[1;32m---> 18\u001b[1;33m \u001b[0mmodel\u001b[0m\u001b[1;33m.\u001b[0m\u001b[0mfit\u001b[0m\u001b[1;33m(\u001b[0m\u001b[0mtrainX\u001b[0m\u001b[1;33m,\u001b[0m \u001b[0mtrainY\u001b[0m\u001b[1;33m)\u001b[0m\u001b[1;33m\u001b[0m\u001b[1;33m\u001b[0m\u001b[0m\n\u001b[0m\u001b[0;32m     19\u001b[0m \u001b[1;33m\u001b[0m\u001b[0m\n\u001b[0;32m     20\u001b[0m \u001b[0mend\u001b[0m \u001b[1;33m=\u001b[0m \u001b[0mtime\u001b[0m\u001b[1;33m.\u001b[0m\u001b[0mtime\u001b[0m\u001b[1;33m(\u001b[0m\u001b[1;33m)\u001b[0m\u001b[1;33m\u001b[0m\u001b[1;33m\u001b[0m\u001b[0m\n",
      "\u001b[1;32m~\\anaconda3\\envs\\ML\\lib\\site-packages\\sklearn\\discriminant_analysis.py\u001b[0m in \u001b[0;36mfit\u001b[1;34m(self, X, y)\u001b[0m\n\u001b[0;32m    873\u001b[0m             \u001b[0mXgc\u001b[0m \u001b[1;33m=\u001b[0m \u001b[0mXg\u001b[0m \u001b[1;33m-\u001b[0m \u001b[0mmeang\u001b[0m\u001b[1;33m\u001b[0m\u001b[1;33m\u001b[0m\u001b[0m\n\u001b[0;32m    874\u001b[0m             \u001b[1;31m# Xgc = U * S * V.T\u001b[0m\u001b[1;33m\u001b[0m\u001b[1;33m\u001b[0m\u001b[0m\n\u001b[1;32m--> 875\u001b[1;33m             \u001b[0m_\u001b[0m\u001b[1;33m,\u001b[0m \u001b[0mS\u001b[0m\u001b[1;33m,\u001b[0m \u001b[0mVt\u001b[0m \u001b[1;33m=\u001b[0m \u001b[0mnp\u001b[0m\u001b[1;33m.\u001b[0m\u001b[0mlinalg\u001b[0m\u001b[1;33m.\u001b[0m\u001b[0msvd\u001b[0m\u001b[1;33m(\u001b[0m\u001b[0mXgc\u001b[0m\u001b[1;33m,\u001b[0m \u001b[0mfull_matrices\u001b[0m\u001b[1;33m=\u001b[0m\u001b[1;32mFalse\u001b[0m\u001b[1;33m)\u001b[0m\u001b[1;33m\u001b[0m\u001b[1;33m\u001b[0m\u001b[0m\n\u001b[0m\u001b[0;32m    876\u001b[0m             \u001b[0mrank\u001b[0m \u001b[1;33m=\u001b[0m \u001b[0mnp\u001b[0m\u001b[1;33m.\u001b[0m\u001b[0msum\u001b[0m\u001b[1;33m(\u001b[0m\u001b[0mS\u001b[0m \u001b[1;33m>\u001b[0m \u001b[0mself\u001b[0m\u001b[1;33m.\u001b[0m\u001b[0mtol\u001b[0m\u001b[1;33m)\u001b[0m\u001b[1;33m\u001b[0m\u001b[1;33m\u001b[0m\u001b[0m\n\u001b[0;32m    877\u001b[0m             \u001b[1;32mif\u001b[0m \u001b[0mrank\u001b[0m \u001b[1;33m<\u001b[0m \u001b[0mn_features\u001b[0m\u001b[1;33m:\u001b[0m\u001b[1;33m\u001b[0m\u001b[1;33m\u001b[0m\u001b[0m\n",
      "\u001b[1;32m~\\anaconda3\\envs\\ML\\lib\\site-packages\\numpy\\core\\overrides.py\u001b[0m in \u001b[0;36msvd\u001b[1;34m(*args, **kwargs)\u001b[0m\n",
      "\u001b[1;32m~\\anaconda3\\envs\\ML\\lib\\site-packages\\numpy\\linalg\\linalg.py\u001b[0m in \u001b[0;36msvd\u001b[1;34m(a, full_matrices, compute_uv, hermitian)\u001b[0m\n\u001b[0;32m   1646\u001b[0m \u001b[1;33m\u001b[0m\u001b[0m\n\u001b[0;32m   1647\u001b[0m         \u001b[0msignature\u001b[0m \u001b[1;33m=\u001b[0m \u001b[1;34m'D->DdD'\u001b[0m \u001b[1;32mif\u001b[0m \u001b[0misComplexType\u001b[0m\u001b[1;33m(\u001b[0m\u001b[0mt\u001b[0m\u001b[1;33m)\u001b[0m \u001b[1;32melse\u001b[0m \u001b[1;34m'd->ddd'\u001b[0m\u001b[1;33m\u001b[0m\u001b[1;33m\u001b[0m\u001b[0m\n\u001b[1;32m-> 1648\u001b[1;33m         \u001b[0mu\u001b[0m\u001b[1;33m,\u001b[0m \u001b[0ms\u001b[0m\u001b[1;33m,\u001b[0m \u001b[0mvh\u001b[0m \u001b[1;33m=\u001b[0m \u001b[0mgufunc\u001b[0m\u001b[1;33m(\u001b[0m\u001b[0ma\u001b[0m\u001b[1;33m,\u001b[0m \u001b[0msignature\u001b[0m\u001b[1;33m=\u001b[0m\u001b[0msignature\u001b[0m\u001b[1;33m,\u001b[0m \u001b[0mextobj\u001b[0m\u001b[1;33m=\u001b[0m\u001b[0mextobj\u001b[0m\u001b[1;33m)\u001b[0m\u001b[1;33m\u001b[0m\u001b[1;33m\u001b[0m\u001b[0m\n\u001b[0m\u001b[0;32m   1649\u001b[0m         \u001b[0mu\u001b[0m \u001b[1;33m=\u001b[0m \u001b[0mu\u001b[0m\u001b[1;33m.\u001b[0m\u001b[0mastype\u001b[0m\u001b[1;33m(\u001b[0m\u001b[0mresult_t\u001b[0m\u001b[1;33m,\u001b[0m \u001b[0mcopy\u001b[0m\u001b[1;33m=\u001b[0m\u001b[1;32mFalse\u001b[0m\u001b[1;33m)\u001b[0m\u001b[1;33m\u001b[0m\u001b[1;33m\u001b[0m\u001b[0m\n\u001b[0;32m   1650\u001b[0m         \u001b[0ms\u001b[0m \u001b[1;33m=\u001b[0m \u001b[0ms\u001b[0m\u001b[1;33m.\u001b[0m\u001b[0mastype\u001b[0m\u001b[1;33m(\u001b[0m\u001b[0m_realType\u001b[0m\u001b[1;33m(\u001b[0m\u001b[0mresult_t\u001b[0m\u001b[1;33m)\u001b[0m\u001b[1;33m,\u001b[0m \u001b[0mcopy\u001b[0m\u001b[1;33m=\u001b[0m\u001b[1;32mFalse\u001b[0m\u001b[1;33m)\u001b[0m\u001b[1;33m\u001b[0m\u001b[1;33m\u001b[0m\u001b[0m\n",
      "\u001b[1;31mKeyboardInterrupt\u001b[0m: "
     ]
    }
   ],
   "source": [
    "# import MNIST data\n",
    "(trainX, trainY), (testX, testY) = mnist.load_data()\n",
    "\n",
    "# reshape the data\n",
    "trainX = trainX.reshape(trainX.shape[0], trainX.shape[1] * trainX.shape[2])\n",
    "testX = testX.reshape(testX.shape[0], testX.shape[1] * testX.shape[2])\n",
    "\n",
    "# normalize coordinates\n",
    "trainX = trainX.astype('float')/255.0\n",
    "testX = testX.astype('float')/255.0\n",
    "\n",
    "# fit the model to the training data\n",
    "print('Now training QDA...')\n",
    "\n",
    "start = time.time()\n",
    "\n",
    "model = QuadraticDiscriminantAnalysis(reg_param = 0.05)\n",
    "model.fit(trainX, trainY)\n",
    "\n",
    "end = time.time()\n",
    "\n",
    "print('QDA training is finished after', end - start, 'seconds')\n",
    "\n",
    "# predict the labels of the test set\n",
    "print('Now testing QDA...')\n",
    "\n",
    "start = time.time()\n",
    "\n",
    "predictedY = model.predict(testX)\n",
    "\n",
    "end = time.time()\n",
    "\n",
    "print('QDA prediction is finished after', end - start, 'seconds')\n",
    "\n",
    "# print quality metrics\n",
    "print('\\nTest Classification Report for reg_param =', 0.05, classification_report(testY, predictedY))\n",
    "\n",
    "print('\\nTest Confusion Matrix:\\n')\n",
    "sn.heatmap(confusion_matrix(testY, predictedY))"
   ]
  },
  {
   "cell_type": "markdown",
   "id": "a30eff36-9c6d-4f97-aea6-ceb54ccf20c0",
   "metadata": {},
   "source": [
    "We achieved 96% accuracy on the test set and the run time was 9.5 seconds. Now, let's do exactly the same thing *except* we will use PCA to reduce the dimension of the same data before running QDA."
   ]
  },
  {
   "cell_type": "code",
   "execution_count": 4,
   "id": "469ee018-4c74-46b0-b063-47c152c02d66",
   "metadata": {},
   "outputs": [
    {
     "name": "stdout",
     "output_type": "stream",
     "text": [
      "Now using PCA dimensionality reduction...\n",
      "The original dimension of the data is 784\n",
      "The new dimension of the data is 43 and it explains 0.8001734877104433 of the variance\n",
      "PCA finished in 2.2605206966400146 seconds\n",
      "Now training QDA...\n",
      "QDA training is finished after 0.13000178337097168 seconds\n",
      "Now testing QDA...\n",
      "QDA prediction is finished after 0.04400181770324707 seconds\n",
      "\n",
      "Test Classification Report for reg_param = 0.05               precision    recall  f1-score   support\n",
      "\n",
      "           0       0.98      0.98      0.98      1722\n",
      "           1       0.98      0.98      0.98      2007\n",
      "           2       0.95      0.97      0.96      1799\n",
      "           3       0.95      0.94      0.95      1788\n",
      "           4       0.98      0.97      0.97      1690\n",
      "           5       0.95      0.97      0.96      1622\n",
      "           6       0.98      0.97      0.98      1669\n",
      "           7       0.96      0.95      0.96      1798\n",
      "           8       0.93      0.94      0.93      1708\n",
      "           9       0.94      0.94      0.94      1697\n",
      "\n",
      "    accuracy                           0.96     17500\n",
      "   macro avg       0.96      0.96      0.96     17500\n",
      "weighted avg       0.96      0.96      0.96     17500\n",
      "\n",
      "\n",
      "Test Confusion Matrix:\n",
      "\n"
     ]
    },
    {
     "data": {
      "text/plain": [
       "<AxesSubplot:>"
      ]
     },
     "execution_count": 4,
     "metadata": {},
     "output_type": "execute_result"
    },
    {
     "data": {
      "image/png": "[encoded data removed]",
      "text/plain": [
       "<Figure size 432x288 with 2 Axes>"
      ]
     },
     "metadata": {
      "needs_background": "light"
     },
     "output_type": "display_data"
    }
   ],
   "source": [
    "# import MNIST data\n",
    "(trainX, trainY), (testX, testY) = mnist.load_data()\n",
    "\n",
    "X = np.vstack((trainX, testX))\n",
    "Y = np.concatenate((trainY, testY))\n",
    "\n",
    "# reshape the data\n",
    "X = X.reshape(X.shape[0], X.shape[1] * X.shape[2]).astype('float')\n",
    "\n",
    "# Use PCA\n",
    "print('Now using PCA dimensionality reduction...')\n",
    "\n",
    "start = time.time()\n",
    "\n",
    "# Apply PCA to the data matrices\n",
    "X = PCA(X, 0.8)\n",
    "\n",
    "end = time.time()\n",
    "\n",
    "print('PCA finished in', end - start, 'seconds')\n",
    "\n",
    "# normalize the data\n",
    "X = X / 255.0\n",
    "\n",
    "# train-test split\n",
    "trainX, testX, trainY, testY = train_test_split(X, Y, test_size = 0.25, random_state = 1)\n",
    "\n",
    "# fit the model to the training data\n",
    "print('Now training QDA...')\n",
    "\n",
    "start = time.time()\n",
    "\n",
    "model = QuadraticDiscriminantAnalysis(reg_param = 0.05)\n",
    "model.fit(trainX, trainY)\n",
    "\n",
    "end = time.time()\n",
    "\n",
    "print('QDA training is finished after', end - start, 'seconds')\n",
    "\n",
    "# predict the labels of the test set\n",
    "print('Now testing QDA...')\n",
    "\n",
    "start = time.time()\n",
    "\n",
    "predictedY = model.predict(testX)\n",
    "\n",
    "end = time.time()\n",
    "\n",
    "print('QDA prediction is finished after', end - start, 'seconds')\n",
    "\n",
    "# print quality metrics\n",
    "print('\\nTest Classification Report for reg_param =', 0.05, classification_report(testY, predictedY))\n",
    "\n",
    "print('\\nTest Confusion Matrix:\\n')\n",
    "sn.heatmap(confusion_matrix(testY, predictedY))"
   ]
  },
  {
   "cell_type": "markdown",
   "id": "9e723af5-8412-42ed-90c0-62c04eafcbac",
   "metadata": {},
   "source": [
    "Here, requiring a number of dimensions explaining 80\\% of the variance of the dataset with PCA reduced the dimension from 784 to 43, a reduction of over 94\\%! What is even more amazing is that the test accuracy on the lower-dimensional data is still 96\\%, but the time for PCA (2.33 seconds) + training (0.13 seconds) + prediction (0.05 seconds) is only 2.5 seconds, less than a third the time as without PCA."
   ]
  },
  {
   "cell_type": "markdown",
   "id": "933826b0-8073-47ea-94fb-e80b63587a52",
   "metadata": {},
   "source": [
    "Let's try it with CIFAR-10, so let's see if performance improves or at least stays the same when we use PCA.\n",
    "\n",
    "First, without PCA."
   ]
  },
  {
   "cell_type": "code",
   "execution_count": 5,
   "id": "09f02451-510b-4cb8-80b6-f8501db21ac3",
   "metadata": {},
   "outputs": [
    {
     "name": "stdout",
     "output_type": "stream",
     "text": [
      "Now training QDA...\n"
     ]
    },
    {
     "name": "stderr",
     "output_type": "stream",
     "text": [
      "G:\\Miniconda3\\envs\\DL\\lib\\site-packages\\sklearn\\utils\\validation.py:72: DataConversionWarning: A column-vector y was passed when a 1d array was expected. Please change the shape of y to (n_samples, ), for example using ravel().\n",
      "  return f(**kwargs)\n"
     ]
    },
    {
     "name": "stdout",
     "output_type": "stream",
     "text": [
      "QDA training is finished after 153.28579878807068 seconds\n",
      "Now testing QDA...\n",
      "QDA prediction is finished after 9.90300965309143 seconds\n",
      "\n",
      "Test Classification Report for reg_param = 0.05               precision    recall  f1-score   support\n",
      "\n",
      "           0       0.55      0.39      0.46      1000\n",
      "           1       0.88      0.19      0.31      1000\n",
      "           2       0.33      0.41      0.37      1000\n",
      "           3       0.30      0.32      0.31      1000\n",
      "           4       0.31      0.75      0.44      1000\n",
      "           5       0.44      0.41      0.42      1000\n",
      "           6       0.92      0.11      0.19      1000\n",
      "           7       0.84      0.31      0.46      1000\n",
      "           8       0.33      0.89      0.48      1000\n",
      "           9       0.81      0.20      0.32      1000\n",
      "\n",
      "    accuracy                           0.40     10000\n",
      "   macro avg       0.57      0.40      0.38     10000\n",
      "weighted avg       0.57      0.40      0.38     10000\n",
      "\n",
      "\n",
      "Test Confusion Matrix:\n",
      "\n"
     ]
    },
    {
     "data": {
      "text/plain": [
       "<AxesSubplot:>"
      ]
     },
     "execution_count": 5,
     "metadata": {},
     "output_type": "execute_result"
    },
    {
     "data": {
      "image/png": "[encoded data removed]",
      "text/plain": [
       "<Figure size 432x288 with 2 Axes>"
      ]
     },
     "metadata": {
      "needs_background": "light"
     },
     "output_type": "display_data"
    }
   ],
   "source": [
    "# import CIFAR-10 data\n",
    "(trainX, trainY), (testX, testY) = cifar10.load_data()\n",
    "\n",
    "# reshape the data\n",
    "trainX = trainX.reshape(trainX.shape[0], 3 * 32 * 32)\n",
    "testX = testX.reshape(testX.shape[0], 3 * 32 * 32)\n",
    "\n",
    "# normalize coordinates\n",
    "trainX = trainX.astype('float')/255.0\n",
    "testX = testX.astype('float')/255.0\n",
    "\n",
    "# fit the model to the training data\n",
    "print('Now training QDA...')\n",
    "\n",
    "start = time.time()\n",
    "\n",
    "model = QuadraticDiscriminantAnalysis(reg_param = 0.05)\n",
    "model.fit(trainX, trainY)\n",
    "\n",
    "end = time.time()\n",
    "\n",
    "print('QDA training is finished after', end - start, 'seconds')\n",
    "\n",
    "# predict the labels of the test set\n",
    "print('Now testing QDA...')\n",
    "\n",
    "start = time.time()\n",
    "\n",
    "predictedY = model.predict(testX)\n",
    "\n",
    "end = time.time()\n",
    "\n",
    "print('QDA prediction is finished after', end - start, 'seconds')\n",
    "\n",
    "# print quality metrics\n",
    "print('\\nTest Classification Report for reg_param =', 0.05, classification_report(testY, predictedY))\n",
    "\n",
    "print('\\nTest Confusion Matrix:\\n')\n",
    "sn.heatmap(confusion_matrix(testY, predictedY))"
   ]
  },
  {
   "cell_type": "markdown",
   "id": "c27a61bd-2dd3-44b1-856c-087985893d46",
   "metadata": {},
   "source": [
    "Next, let's use PCA to shrink the data to a lower dimension and see how the runtime and performance compare with all settings equal."
   ]
  },
  {
   "cell_type": "code",
   "execution_count": 6,
   "id": "854b1754-1e46-417d-bd4e-46fb6b377f39",
   "metadata": {},
   "outputs": [
    {
     "name": "stdout",
     "output_type": "stream",
     "text": [
      "Now using PCA dimensionality reduction...\n",
      "The original dimension of the data is 3072\n",
      "The new dimension of the data is 33 and it explains 0.8026871220318184 of the variance\n",
      "PCA finished in 40.00347948074341 seconds\n",
      "Now training QDA...\n",
      "QDA training is finished after 0.09500312805175781 seconds\n",
      "Now testing QDA...\n",
      "QDA prediction is finished after 0.03199887275695801 seconds\n",
      "\n",
      "Test Classification Report for reg_param = 0.05 :\n",
      "               precision    recall  f1-score   support\n",
      "\n",
      "           0       0.50      0.55      0.52      1473\n",
      "           1       0.58      0.52      0.55      1500\n",
      "           2       0.32      0.24      0.27      1492\n",
      "           3       0.33      0.31      0.32      1491\n",
      "           4       0.37      0.49      0.42      1516\n",
      "           5       0.45      0.34      0.39      1514\n",
      "           6       0.45      0.61      0.52      1503\n",
      "           7       0.59      0.50      0.54      1570\n",
      "           8       0.58      0.60      0.59      1493\n",
      "           9       0.54      0.54      0.54      1448\n",
      "\n",
      "    accuracy                           0.47     15000\n",
      "   macro avg       0.47      0.47      0.47     15000\n",
      "weighted avg       0.47      0.47      0.47     15000\n",
      "\n",
      "\n",
      "Test Confusion Matrix:\n",
      "\n"
     ]
    },
    {
     "name": "stderr",
     "output_type": "stream",
     "text": [
      "G:\\Miniconda3\\envs\\DL\\lib\\site-packages\\sklearn\\utils\\validation.py:72: DataConversionWarning: A column-vector y was passed when a 1d array was expected. Please change the shape of y to (n_samples, ), for example using ravel().\n",
      "  return f(**kwargs)\n"
     ]
    },
    {
     "data": {
      "text/plain": [
       "<AxesSubplot:>"
      ]
     },
     "execution_count": 6,
     "metadata": {},
     "output_type": "execute_result"
    },
    {
     "data": {
      "image/png": "[encoded data removed]",
      "text/plain": [
       "<Figure size 432x288 with 2 Axes>"
      ]
     },
     "metadata": {
      "needs_background": "light"
     },
     "output_type": "display_data"
    }
   ],
   "source": [
    "# import CIFAR-10 data\n",
    "(trainX, trainY), (testX, testY) = cifar10.load_data()\n",
    "\n",
    "X = np.vstack((trainX, testX))\n",
    "Y = np.concatenate((trainY, testY))\n",
    "\n",
    "# reshape the data\n",
    "X = X.reshape(X.shape[0], 3 * 32 * 32).astype('float')\n",
    "\n",
    "# Use PCA\n",
    "print('Now using PCA dimensionality reduction...')\n",
    "\n",
    "start = time.time()\n",
    "\n",
    "# Apply PCA to the data matrices\n",
    "X = PCA(X, 0.8)\n",
    "\n",
    "end = time.time()\n",
    "\n",
    "print('PCA finished in', end - start, 'seconds')\n",
    "\n",
    "# normalize the data\n",
    "X = X / 255.0\n",
    "\n",
    "# train-test split\n",
    "trainX, testX, trainY, testY = train_test_split(X, Y, test_size = 0.25, random_state = 1)\n",
    "\n",
    "# fit the model to the training data\n",
    "print('Now training QDA...')\n",
    "\n",
    "start = time.time()\n",
    "\n",
    "model = QuadraticDiscriminantAnalysis(reg_param = 0.05)\n",
    "model.fit(trainX, trainY)\n",
    "\n",
    "end = time.time()\n",
    "\n",
    "print('QDA training is finished after', end - start, 'seconds')\n",
    "\n",
    "# predict the labels of the test set\n",
    "print('Now testing QDA...')\n",
    "\n",
    "start = time.time()\n",
    "\n",
    "predictedY = model.predict(testX)\n",
    "\n",
    "end = time.time()\n",
    "\n",
    "print('QDA prediction is finished after', end - start, 'seconds')\n",
    "\n",
    "# print quality metrics\n",
    "print('\\nTest Classification Report for reg_param =', 0.05, ':\\n', classification_report(testY, predictedY))\n",
    "\n",
    "print('\\nTest Confusion Matrix:\\n')\n",
    "sn.heatmap(confusion_matrix(testY, predictedY))"
   ]
  },
  {
   "cell_type": "markdown",
   "id": "9d2e71f3-729d-432d-970c-fe1228d4f515",
   "metadata": {},
   "source": [
    "Performance is still not great, but it is better by 7% test accuracy. This is a huge win! Not only did we gain accuracy, but it took way less computation. This one took\n",
    "\n",
    "* 39.5 seconds for PCA\n",
    "* 0.4 seconds for training and testing\n",
    "\n",
    "or 40 total seconds while training with the original dataset took 162 seconds.\n",
    "\n",
    "Let's try kNN."
   ]
  },
  {
   "cell_type": "code",
   "execution_count": 7,
   "id": "00c19a6c-374c-4681-9e61-1332454c16d7",
   "metadata": {},
   "outputs": [
    {
     "name": "stdout",
     "output_type": "stream",
     "text": [
      "Now training kNN...\n"
     ]
    },
    {
     "name": "stderr",
     "output_type": "stream",
     "text": [
      "<ipython-input-7-85d8acf0c8c3>:18: DataConversionWarning: A column-vector y was passed when a 1d array was expected. Please change the shape of y to (n_samples, ), for example using ravel().\n",
      "  model.fit(trainX, trainY)\n"
     ]
    },
    {
     "name": "stdout",
     "output_type": "stream",
     "text": [
      "kNN training is finished after 13.875126361846924 seconds\n",
      "Now testing kNN...\n",
      "kNN prediction is finished after 321.2794873714447 seconds\n",
      "\n",
      "Test Classification Report               precision    recall  f1-score   support\n",
      "\n",
      "           0       0.46      0.55      0.50      1000\n",
      "           1       0.70      0.24      0.36      1000\n",
      "           2       0.27      0.43      0.33      1000\n",
      "           3       0.34      0.22      0.27      1000\n",
      "           4       0.26      0.53      0.35      1000\n",
      "           5       0.45      0.31      0.37      1000\n",
      "           6       0.38      0.35      0.36      1000\n",
      "           7       0.67      0.31      0.42      1000\n",
      "           8       0.42      0.72      0.53      1000\n",
      "           9       0.71      0.28      0.40      1000\n",
      "\n",
      "    accuracy                           0.39     10000\n",
      "   macro avg       0.47      0.39      0.39     10000\n",
      "weighted avg       0.47      0.39      0.39     10000\n",
      "\n",
      "\n",
      "Test Confusion Matrix:\n",
      "\n"
     ]
    },
    {
     "data": {
      "text/plain": [
       "<AxesSubplot:>"
      ]
     },
     "execution_count": 7,
     "metadata": {},
     "output_type": "execute_result"
    },
    {
     "data": {
      "image/png": "[encoded data removed]",
      "text/plain": [
       "<Figure size 432x288 with 2 Axes>"
      ]
     },
     "metadata": {
      "needs_background": "light"
     },
     "output_type": "display_data"
    }
   ],
   "source": [
    "# import CIFAR-10 data\n",
    "(trainX, trainY), (testX, testY) = cifar10.load_data()\n",
    "\n",
    "# reshape the data\n",
    "trainX = trainX.reshape(trainX.shape[0], 3 * 32 * 32)\n",
    "testX = testX.reshape(testX.shape[0], 3 * 32 * 32)\n",
    "\n",
    "# normalize coordinates\n",
    "trainX = trainX.astype('float')/255.0\n",
    "testX = testX.astype('float')/255.0\n",
    "\n",
    "# fit the model to the training data\n",
    "print('Now training kNN...')\n",
    "\n",
    "start = time.time()\n",
    "\n",
    "model = KNeighborsClassifier(n_neighbors = 7, weights = 'distance', p = 1, n_jobs = -1)\n",
    "model.fit(trainX, trainY)\n",
    "\n",
    "end = time.time()\n",
    "\n",
    "print('kNN training is finished after', end - start, 'seconds')\n",
    "\n",
    "# predict the labels of the test set\n",
    "print('Now testing kNN...')\n",
    "\n",
    "start = time.time()\n",
    "\n",
    "predictedY = model.predict(testX)\n",
    "\n",
    "end = time.time()\n",
    "\n",
    "print('kNN prediction is finished after', end - start, 'seconds')\n",
    "\n",
    "# print quality metrics\n",
    "print('\\nTest Classification Report', classification_report(testY, predictedY))\n",
    "\n",
    "print('\\nTest Confusion Matrix:\\n')\n",
    "sn.heatmap(confusion_matrix(testY, predictedY))"
   ]
  },
  {
   "cell_type": "markdown",
   "id": "3d3ce633-163a-47a5-a938-fa6973ac82a8",
   "metadata": {},
   "source": [
    "Next, let's use PCA to shrink the data to a lower dimension and see how the runtime and performance compare with all settings equal."
   ]
  },
  {
   "cell_type": "code",
   "execution_count": 13,
   "id": "c1c3363b-433a-43be-a6dc-64ff3759603a",
   "metadata": {},
   "outputs": [
    {
     "name": "stdout",
     "output_type": "stream",
     "text": [
      "Now using PCA dimensionality reduction...\n",
      "The original dimension of the data is 3072\n",
      "The new dimension of the data is 33 and it explains 0.8026871220318184 of the variance\n",
      "PCA finished in 41.071492195129395 seconds\n",
      "Now training kNN...\n",
      "kNN training is finished after 0.14600110054016113 seconds\n",
      "Now testing kNN...\n"
     ]
    },
    {
     "name": "stderr",
     "output_type": "stream",
     "text": [
      "<ipython-input-13-0830ac04e3d3>:34: DataConversionWarning: A column-vector y was passed when a 1d array was expected. Please change the shape of y to (n_samples, ), for example using ravel().\n",
      "  model.fit(trainX, trainY)\n"
     ]
    },
    {
     "name": "stdout",
     "output_type": "stream",
     "text": [
      "kNN prediction is finished after 9.113002061843872 seconds\n",
      "\n",
      "Test Classification Report               precision    recall  f1-score   support\n",
      "\n",
      "           0       0.49      0.58      0.53      1473\n",
      "           1       0.64      0.35      0.45      1500\n",
      "           2       0.30      0.41      0.35      1492\n",
      "           3       0.37      0.21      0.27      1491\n",
      "           4       0.30      0.45      0.35      1516\n",
      "           5       0.45      0.28      0.34      1514\n",
      "           6       0.34      0.57      0.43      1503\n",
      "           7       0.61      0.40      0.48      1570\n",
      "           8       0.50      0.65      0.56      1493\n",
      "           9       0.59      0.36      0.44      1448\n",
      "\n",
      "    accuracy                           0.42     15000\n",
      "   macro avg       0.46      0.42      0.42     15000\n",
      "weighted avg       0.46      0.42      0.42     15000\n",
      "\n",
      "\n",
      "Test Confusion Matrix:\n",
      "\n"
     ]
    },
    {
     "data": {
      "text/plain": [
       "<AxesSubplot:>"
      ]
     },
     "execution_count": 13,
     "metadata": {},
     "output_type": "execute_result"
    },
    {
     "data": {
      "image/png": "[encoded data removed]",
      "text/plain": [
       "<Figure size 432x288 with 2 Axes>"
      ]
     },
     "metadata": {
      "needs_background": "light"
     },
     "output_type": "display_data"
    }
   ],
   "source": [
    "# import CIFAR-10 data\n",
    "(trainX, trainY), (testX, testY) = cifar10.load_data()\n",
    "\n",
    "X = np.vstack((trainX, testX))\n",
    "Y = np.concatenate((trainY, testY))\n",
    "\n",
    "# reshape the data\n",
    "X = X.reshape(X.shape[0], 3 * 32 * 32).astype('float')\n",
    "\n",
    "# Use PCA\n",
    "print('Now using PCA dimensionality reduction...')\n",
    "\n",
    "start = time.time()\n",
    "\n",
    "# Apply PCA to the data matrices\n",
    "X = PCA(X, 0.8)\n",
    "\n",
    "end = time.time()\n",
    "\n",
    "print('PCA finished in', end - start, 'seconds')\n",
    "\n",
    "# normalize the data\n",
    "X = X / 255.0\n",
    "\n",
    "# train-test split\n",
    "trainX, testX, trainY, testY = train_test_split(X, Y, test_size = 0.25, random_state = 1)\n",
    "\n",
    "# fit the model to the training data\n",
    "print('Now training kNN...')\n",
    "\n",
    "start = time.time()\n",
    "\n",
    "model = KNeighborsClassifier(n_neighbors = 7, weights = 'distance', p = 1, n_jobs = -1)\n",
    "model.fit(trainX, trainY)\n",
    "\n",
    "end = time.time()\n",
    "\n",
    "print('kNN training is finished after', end - start, 'seconds')\n",
    "\n",
    "# predict the labels of the test set\n",
    "print('Now testing kNN...')\n",
    "\n",
    "start = time.time()\n",
    "\n",
    "predictedY = model.predict(testX)\n",
    "\n",
    "end = time.time()\n",
    "\n",
    "print('kNN prediction is finished after', end - start, 'seconds')\n",
    "\n",
    "# print quality metrics\n",
    "print('\\nTest Classification Report', classification_report(testY, predictedY))\n",
    "\n",
    "print('\\nTest Confusion Matrix:\\n')\n",
    "sn.heatmap(confusion_matrix(testY, predictedY))"
   ]
  },
  {
   "cell_type": "code",
   "execution_count": 23,
   "id": "42198087-c101-43d8-aeb6-b4e4466ae7ea",
   "metadata": {},
   "outputs": [
    {
     "name": "stdout",
     "output_type": "stream",
     "text": [
      "\n",
      "alpha is 0.7\n",
      "Now using PCA dimensionality reduction...\n",
      "The original dimension of the data is 3072\n",
      "The new dimension of the data is 14 and it explains 0.7009413331923741 of the variance\n",
      "PCA finished in 6.942036151885986 seconds\n",
      "Now training kNN with gridsearch CV...\n"
     ]
    },
    {
     "name": "stderr",
     "output_type": "stream",
     "text": [
      "G:\\Miniconda3\\envs\\DL\\lib\\site-packages\\sklearn\\model_selection\\_search.py:765: DataConversionWarning: A column-vector y was passed when a 1d array was expected. Please change the shape of y to (n_samples, ), for example using ravel().\n",
      "  self.best_estimator_.fit(X, y, **fit_params)\n"
     ]
    },
    {
     "name": "stdout",
     "output_type": "stream",
     "text": [
      "kNN training is finished after 20.67019557952881 seconds\n",
      "Now testing kNN...\n",
      "kNN prediction is finished after 0.24699950218200684 seconds\n",
      "{'n_neighbors': 25, 'p': 1.5, 'weights': 'distance'}\n",
      "\n",
      "Test Classification Report:\n",
      "               precision    recall  f1-score   support\n",
      "\n",
      "           0       0.46      0.49      0.48       254\n",
      "           1       0.56      0.26      0.36       256\n",
      "           2       0.25      0.32      0.28       260\n",
      "           3       0.26      0.10      0.15       268\n",
      "           4       0.24      0.30      0.27       263\n",
      "           5       0.42      0.24      0.31       225\n",
      "           6       0.28      0.57      0.37       230\n",
      "           7       0.45      0.28      0.34       267\n",
      "           8       0.41      0.55      0.47       249\n",
      "           9       0.40      0.43      0.41       228\n",
      "\n",
      "    accuracy                           0.35      2500\n",
      "   macro avg       0.37      0.35      0.34      2500\n",
      "weighted avg       0.37      0.35      0.34      2500\n",
      "\n",
      "\n",
      "Test Confusion Matrix:\n",
      " [[125   8  29   2   8   0  18   4  48  12]\n",
      " [ 15  67  16   7  18   4  36   6  36  51]\n",
      " [ 25   1  83  12  43  10  48  14  15   9]\n",
      " [ 14   5  42  28  41  34  65  16   8  15]\n",
      " [ 12   4  63   5  79   3  63  15   8  11]\n",
      " [  7   1  24  26  30  54  44  17  15   7]\n",
      " [  5   3  37  10  30   3 131   6   4   1]\n",
      " [ 10   2  27   9  62  12  34  74  14  23]\n",
      " [ 45  10   4   6   7   5  12   4 138  18]\n",
      " [ 14  18   8   2   8   3  20   7  50  98]]\n",
      "\n",
      "alpha is 0.75\n",
      "Now using PCA dimensionality reduction...\n",
      "The original dimension of the data is 3072\n",
      "The new dimension of the data is 21 and it explains 0.7522169809835247 of the variance\n",
      "PCA finished in 7.501582622528076 seconds\n",
      "Now training kNN with gridsearch CV...\n"
     ]
    },
    {
     "name": "stderr",
     "output_type": "stream",
     "text": [
      "G:\\Miniconda3\\envs\\DL\\lib\\site-packages\\sklearn\\model_selection\\_search.py:765: DataConversionWarning: A column-vector y was passed when a 1d array was expected. Please change the shape of y to (n_samples, ), for example using ravel().\n",
      "  self.best_estimator_.fit(X, y, **fit_params)\n"
     ]
    },
    {
     "name": "stdout",
     "output_type": "stream",
     "text": [
      "kNN training is finished after 24.887680292129517 seconds\n",
      "Now testing kNN...\n",
      "kNN prediction is finished after 0.26600193977355957 seconds\n",
      "{'n_neighbors': 20, 'p': 1, 'weights': 'distance'}\n",
      "\n",
      "Test Classification Report:\n",
      "               precision    recall  f1-score   support\n",
      "\n",
      "           0       0.45      0.51      0.48       254\n",
      "           1       0.61      0.27      0.38       256\n",
      "           2       0.24      0.35      0.29       260\n",
      "           3       0.32      0.12      0.17       268\n",
      "           4       0.26      0.32      0.28       263\n",
      "           5       0.43      0.22      0.29       225\n",
      "           6       0.26      0.57      0.35       230\n",
      "           7       0.60      0.29      0.39       267\n",
      "           8       0.43      0.60      0.50       249\n",
      "           9       0.49      0.40      0.44       228\n",
      "\n",
      "    accuracy                           0.36      2500\n",
      "   macro avg       0.41      0.37      0.36      2500\n",
      "weighted avg       0.41      0.36      0.36      2500\n",
      "\n",
      "\n",
      "Test Confusion Matrix:\n",
      " [[130   6  29   3  10   0  23   3  46   4]\n",
      " [ 17  70  12   3  15   4  44   5  45  41]\n",
      " [ 29   1  92   8  49   9  45   8  13   6]\n",
      " [ 17   6  48  32  24  32  79   9   8  13]\n",
      " [ 14   1  71   7  83   3  62  11   8   3]\n",
      " [  9   2  32  22  38  50  48   9  13   2]\n",
      " [  5   2  43   7  31   3 131   2   6   0]\n",
      " [  9   3  37   7  59   7  39  78  12  16]\n",
      " [ 46   5   5   7   9   4  14   0 149  10]\n",
      " [ 15  18  12   3   7   3  24   6  49  91]]\n",
      "\n",
      "alpha is 0.8\n",
      "Now using PCA dimensionality reduction...\n",
      "The original dimension of the data is 3072\n",
      "The new dimension of the data is 32 and it explains 0.8014626596827141 of the variance\n",
      "PCA finished in 9.285035848617554 seconds\n",
      "Now training kNN with gridsearch CV...\n"
     ]
    },
    {
     "name": "stderr",
     "output_type": "stream",
     "text": [
      "G:\\Miniconda3\\envs\\DL\\lib\\site-packages\\sklearn\\model_selection\\_search.py:765: DataConversionWarning: A column-vector y was passed when a 1d array was expected. Please change the shape of y to (n_samples, ), for example using ravel().\n",
      "  self.best_estimator_.fit(X, y, **fit_params)\n"
     ]
    },
    {
     "name": "stdout",
     "output_type": "stream",
     "text": [
      "kNN training is finished after 34.502777099609375 seconds\n",
      "Now testing kNN...\n",
      "kNN prediction is finished after 0.4780006408691406 seconds\n",
      "{'n_neighbors': 10, 'p': 1.5, 'weights': 'distance'}\n",
      "\n",
      "Test Classification Report:\n",
      "               precision    recall  f1-score   support\n",
      "\n",
      "           0       0.45      0.51      0.48       254\n",
      "           1       0.65      0.25      0.37       256\n",
      "           2       0.26      0.37      0.30       260\n",
      "           3       0.31      0.15      0.20       268\n",
      "           4       0.27      0.40      0.32       263\n",
      "           5       0.49      0.24      0.33       225\n",
      "           6       0.28      0.56      0.37       230\n",
      "           7       0.51      0.27      0.35       267\n",
      "           8       0.43      0.58      0.49       249\n",
      "           9       0.52      0.39      0.45       228\n",
      "\n",
      "    accuracy                           0.37      2500\n",
      "   macro avg       0.42      0.37      0.37      2500\n",
      "weighted avg       0.42      0.37      0.36      2500\n",
      "\n",
      "\n",
      "Test Confusion Matrix:\n",
      " [[129   4  36   3   7   0  19   2  49   5]\n",
      " [ 18  65  14   8  24   5  43  11  36  32]\n",
      " [ 19   0  95  14  53  10  43   5  19   2]\n",
      " [ 16   4  39  39  40  29  74  10   9   8]\n",
      " [ 15   2  64   7 106   2  45  14   7   1]\n",
      " [  8   1  30  24  46  55  40   5  11   5]\n",
      " [  5   1  41   6  38   3 128   2   6   0]\n",
      " [ 11   2  36  10  68   5  33  72  13  17]\n",
      " [ 46   8   4   5  11   3  10   6 145  11]\n",
      " [ 22  13   9   8   7   1  20  13  46  89]]\n",
      "\n",
      "alpha is 0.85\n",
      "Now using PCA dimensionality reduction...\n",
      "The original dimension of the data is 3072\n",
      "The new dimension of the data is 53 and it explains 0.8502143115766866 of the variance\n",
      "PCA finished in 12.719066143035889 seconds\n",
      "Now training kNN with gridsearch CV...\n"
     ]
    },
    {
     "name": "stderr",
     "output_type": "stream",
     "text": [
      "G:\\Miniconda3\\envs\\DL\\lib\\site-packages\\sklearn\\model_selection\\_search.py:765: DataConversionWarning: A column-vector y was passed when a 1d array was expected. Please change the shape of y to (n_samples, ), for example using ravel().\n",
      "  self.best_estimator_.fit(X, y, **fit_params)\n"
     ]
    },
    {
     "name": "stdout",
     "output_type": "stream",
     "text": [
      "kNN training is finished after 53.04801893234253 seconds\n",
      "Now testing kNN...\n",
      "kNN prediction is finished after 0.18100214004516602 seconds\n",
      "{'n_neighbors': 10, 'p': 2, 'weights': 'distance'}\n",
      "\n",
      "Test Classification Report:\n",
      "               precision    recall  f1-score   support\n",
      "\n",
      "           0       0.45      0.48      0.46       254\n",
      "           1       0.66      0.24      0.35       256\n",
      "           2       0.24      0.37      0.29       260\n",
      "           3       0.30      0.12      0.17       268\n",
      "           4       0.26      0.41      0.32       263\n",
      "           5       0.43      0.20      0.27       225\n",
      "           6       0.25      0.51      0.34       230\n",
      "           7       0.57      0.27      0.36       267\n",
      "           8       0.41      0.65      0.50       249\n",
      "           9       0.56      0.33      0.41       228\n",
      "\n",
      "    accuracy                           0.36      2500\n",
      "   macro avg       0.41      0.36      0.35      2500\n",
      "weighted avg       0.41      0.36      0.35      2500\n",
      "\n",
      "\n",
      "Test Confusion Matrix:\n",
      " [[123   5  25   3   9   0  27   1  57   4]\n",
      " [ 18  61  19   6  21   4  42   8  50  27]\n",
      " [ 19   1  95  10  56  10  43   4  19   3]\n",
      " [ 18   5  53  32  41  25  70   8  10   6]\n",
      " [ 14   1  62   8 108   2  46  13   8   1]\n",
      " [ 10   3  30  23  44  45  50   5  13   2]\n",
      " [  4   1  51  11  36   2 117   2   6   0]\n",
      " [ 11   0  40   7  77   7  30  71  15   9]\n",
      " [ 39   3   8   3  10   5  10   3 161   7]\n",
      " [ 20  12  12   5   9   4  26   9  56  75]]\n",
      "\n",
      "alpha is 0.9\n",
      "Now using PCA dimensionality reduction...\n",
      "The original dimension of the data is 3072\n",
      "The new dimension of the data is 96 and it explains 0.9000068814055744 of the variance\n",
      "PCA finished in 19.76509380340576 seconds\n",
      "Now training kNN with gridsearch CV...\n"
     ]
    },
    {
     "name": "stderr",
     "output_type": "stream",
     "text": [
      "G:\\Miniconda3\\envs\\DL\\lib\\site-packages\\sklearn\\model_selection\\_search.py:765: DataConversionWarning: A column-vector y was passed when a 1d array was expected. Please change the shape of y to (n_samples, ), for example using ravel().\n",
      "  self.best_estimator_.fit(X, y, **fit_params)\n"
     ]
    },
    {
     "name": "stdout",
     "output_type": "stream",
     "text": [
      "kNN training is finished after 89.49709486961365 seconds\n",
      "Now testing kNN...\n",
      "kNN prediction is finished after 0.20999836921691895 seconds\n",
      "{'n_neighbors': 10, 'p': 2, 'weights': 'distance'}\n",
      "\n",
      "Test Classification Report:\n",
      "               precision    recall  f1-score   support\n",
      "\n",
      "           0       0.48      0.51      0.50       254\n",
      "           1       0.75      0.18      0.29       256\n",
      "           2       0.24      0.38      0.29       260\n",
      "           3       0.26      0.11      0.15       268\n",
      "           4       0.24      0.44      0.31       263\n",
      "           5       0.48      0.21      0.30       225\n",
      "           6       0.25      0.47      0.32       230\n",
      "           7       0.61      0.25      0.35       267\n",
      "           8       0.41      0.66      0.50       249\n",
      "           9       0.55      0.27      0.36       228\n",
      "\n",
      "    accuracy                           0.35      2500\n",
      "   macro avg       0.43      0.35      0.34      2500\n",
      "weighted avg       0.42      0.35      0.34      2500\n",
      "\n",
      "\n",
      "Test Confusion Matrix:\n",
      " [[130   1  29   5   9   0  22   1  55   2]\n",
      " [ 16  47  22   7  25   5  47   7  54  26]\n",
      " [ 20   0  99   8  67   8  34   4  18   2]\n",
      " [ 17   3  53  29  45  23  79   6   8   5]\n",
      " [ 12   0  68   6 116   1  40  10   8   2]\n",
      " [  9   1  33  20  52  48  44   3  13   2]\n",
      " [  2   0  43  12  56   2 107   1   7   0]\n",
      " [  9   0  48  10  77   5  32  66  15   5]\n",
      " [ 38   1   7   4  12   5   9   2 164   7]\n",
      " [ 18  10  17  10  15   3  22   9  62  62]]\n",
      "\n",
      "alpha is 0.95\n",
      "Now using PCA dimensionality reduction...\n",
      "The original dimension of the data is 3072\n",
      "The new dimension of the data is 209 and it explains 0.9500903815942702 of the variance\n",
      "PCA finished in 40.39831852912903 seconds\n",
      "Now training kNN with gridsearch CV...\n"
     ]
    },
    {
     "name": "stderr",
     "output_type": "stream",
     "text": [
      "G:\\Miniconda3\\envs\\DL\\lib\\site-packages\\sklearn\\model_selection\\_search.py:765: DataConversionWarning: A column-vector y was passed when a 1d array was expected. Please change the shape of y to (n_samples, ), for example using ravel().\n",
      "  self.best_estimator_.fit(X, y, **fit_params)\n"
     ]
    },
    {
     "name": "stdout",
     "output_type": "stream",
     "text": [
      "kNN training is finished after 187.73541378974915 seconds\n",
      "Now testing kNN...\n",
      "kNN prediction is finished after 0.2830023765563965 seconds\n",
      "{'n_neighbors': 10, 'p': 2, 'weights': 'distance'}\n",
      "\n",
      "Test Classification Report:\n",
      "               precision    recall  f1-score   support\n",
      "\n",
      "           0       0.45      0.47      0.46       254\n",
      "           1       0.77      0.16      0.27       256\n",
      "           2       0.22      0.38      0.28       260\n",
      "           3       0.27      0.10      0.15       268\n",
      "           4       0.23      0.47      0.31       263\n",
      "           5       0.45      0.20      0.28       225\n",
      "           6       0.25      0.40      0.31       230\n",
      "           7       0.56      0.21      0.30       267\n",
      "           8       0.38      0.67      0.49       249\n",
      "           9       0.58      0.21      0.31       228\n",
      "\n",
      "    accuracy                           0.33      2500\n",
      "   macro avg       0.42      0.33      0.31      2500\n",
      "weighted avg       0.42      0.33      0.31      2500\n",
      "\n",
      "\n",
      "Test Confusion Matrix:\n",
      " [[120   1  29   3  11   0  24   1  62   3]\n",
      " [ 20  41  18   5  40   3  41   7  65  16]\n",
      " [ 23   0  98  10  68   9  29   3  19   1]\n",
      " [ 17   1  57  28  60  24  57  10  10   4]\n",
      " [ 10   0  73   7 123   1  30   9   9   1]\n",
      " [ 10   1  34  17  58  45  43   2  13   2]\n",
      " [  2   0  56  11  57   3  93   0   8   0]\n",
      " [ 11   0  53   8  92   7  20  55  18   3]\n",
      " [ 33   1   7   5  15   5   8   2 167   6]\n",
      " [ 19   8  25   8  17   4  21   9  68  49]]\n",
      "\n",
      "alpha is 0.99\n",
      "Now using PCA dimensionality reduction...\n",
      "The original dimension of the data is 3072\n",
      "The new dimension of the data is 625 and it explains 0.9900253388620726 of the variance\n",
      "PCA finished in 111.42807722091675 seconds\n",
      "Now training kNN with gridsearch CV...\n"
     ]
    },
    {
     "name": "stderr",
     "output_type": "stream",
     "text": [
      "G:\\Miniconda3\\envs\\DL\\lib\\site-packages\\sklearn\\model_selection\\_search.py:765: DataConversionWarning: A column-vector y was passed when a 1d array was expected. Please change the shape of y to (n_samples, ), for example using ravel().\n",
      "  self.best_estimator_.fit(X, y, **fit_params)\n"
     ]
    },
    {
     "name": "stdout",
     "output_type": "stream",
     "text": [
      "kNN training is finished after 571.972081899643 seconds\n",
      "Now testing kNN...\n",
      "kNN prediction is finished after 1.6680028438568115 seconds\n",
      "{'n_neighbors': 9, 'p': 2, 'weights': 'distance'}\n",
      "\n",
      "Test Classification Report:\n",
      "               precision    recall  f1-score   support\n",
      "\n",
      "           0       0.42      0.45      0.44       254\n",
      "           1       0.83      0.11      0.20       256\n",
      "           2       0.21      0.38      0.27       260\n",
      "           3       0.25      0.11      0.15       268\n",
      "           4       0.21      0.46      0.29       263\n",
      "           5       0.39      0.19      0.26       225\n",
      "           6       0.24      0.33      0.28       230\n",
      "           7       0.55      0.17      0.26       267\n",
      "           8       0.37      0.67      0.48       249\n",
      "           9       0.57      0.18      0.27       228\n",
      "\n",
      "    accuracy                           0.31      2500\n",
      "   macro avg       0.40      0.31      0.29      2500\n",
      "weighted avg       0.40      0.31      0.29      2500\n",
      "\n",
      "\n",
      "Test Confusion Matrix:\n",
      " [[114   1  33   4  14   0  22   1  64   1]\n",
      " [ 24  29  20   9  44   6  35   6  66  17]\n",
      " [ 25   0  99   8  70   9  25   2  21   1]\n",
      " [ 16   0  64  29  63  30  48   6   9   3]\n",
      " [ 11   0  71   9 122   5  29   7   9   0]\n",
      " [ 10   0  42  18  56  43  39   2  13   2]\n",
      " [  4   0  60  12  66   5  75   1   7   0]\n",
      " [  9   0  56   9 101   4  19  46  21   2]\n",
      " [ 36   1   7   8  16   3   3   2 168   5]\n",
      " [ 20   4  20   8  23   6  19  11  76  41]]\n"
     ]
    }
   ],
   "source": [
    "for alpha in [0.7, 0.75, 0.8, 0.85, 0.9, 0.95, 0.99]:\n",
    "    \n",
    "    print('\\nalpha is', alpha)\n",
    "\n",
    "    # import CIFAR-10 data\n",
    "    (trainX, trainY), (testX, testY) = cifar10.load_data()\n",
    "\n",
    "    X = np.vstack((trainX, testX))[:10000]\n",
    "    Y = np.concatenate((trainY, testY))[:10000]\n",
    "\n",
    "    # reshape the data\n",
    "    X = X.reshape(X.shape[0], 3 * 32 * 32).astype('float')\n",
    "        \n",
    "    start = time.time()\n",
    "\n",
    "    # Use PCA\n",
    "    print('Now using PCA dimensionality reduction...')\n",
    "\n",
    "    # Apply PCA to the data matrices\n",
    "    X = PCA(X, alpha)\n",
    "\n",
    "    end = time.time()\n",
    "\n",
    "    print('PCA finished in', end - start, 'seconds')\n",
    "\n",
    "    # normalize the data\n",
    "    X = X / 255.0\n",
    "\n",
    "    # train-test split\n",
    "    trainX, testX, trainY, testY = train_test_split(X, Y, test_size = 0.25, random_state = 1)\n",
    "\n",
    "    # fit the model to the training data\n",
    "    print('Now training kNN with gridsearch CV...')\n",
    "\n",
    "    model = KNeighborsClassifier(n_jobs = -1)\n",
    "\n",
    "    #define the hyperarameters we're trying to train\n",
    "    parameters = {'weights' : ['uniform', 'distance'], 'n_neighbors' : [5, 7, 9, 10, 15, 20, 25, 30], 'p' : [0.5, 1, 1.5, 2]}\n",
    "    \n",
    "    clf = GridSearchCV(model, parameters, cv = 5, n_jobs = -1)\n",
    "\n",
    "    clf.fit(trainX, trainY)\n",
    "\n",
    "    end = time.time()\n",
    "\n",
    "    print('kNN training is finished after', end - start, 'seconds')\n",
    "\n",
    "    # predict the labels of the test set\n",
    "    print('Now testing kNN...')\n",
    "\n",
    "    start = time.time()\n",
    "\n",
    "    predictedY = clf.predict(testX)\n",
    "\n",
    "    end = time.time()\n",
    "\n",
    "    print('kNN prediction is finished after', end - start, 'seconds')\n",
    "    \n",
    "    pprint(clf.best_params_)\n",
    "\n",
    "    # print quality metrics\n",
    "    print('\\nTest Classification Report:\\n', classification_report(testY, predictedY))\n",
    "\n",
    "    print('\\nTest Confusion Matrix:\\n', confusion_matrix(testY, predictedY))"
   ]
  }
 ],
 "metadata": {
  "kernelspec": {
   "display_name": "Python 3 (ipykernel)",
   "language": "python",
   "name": "python3"
  },
  "language_info": {
   "codemirror_mode": {
    "name": "ipython",
    "version": 3
   },
   "file_extension": ".py",
   "mimetype": "text/x-python",
   "name": "python",
   "nbconvert_exporter": "python",
   "pygments_lexer": "ipython3",
   "version": "3.10.1"
  }
 },
 "nbformat": 4,
 "nbformat_minor": 5
}
