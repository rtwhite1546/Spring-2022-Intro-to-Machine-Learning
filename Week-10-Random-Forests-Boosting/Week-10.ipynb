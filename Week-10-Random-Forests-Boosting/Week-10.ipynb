{
 "cells": [
  {
   "cell_type": "markdown",
   "id": "c1d305a4-dcb8-48e9-9f92-ea6e87145e26",
   "metadata": {
    "jp-MarkdownHeadingCollapsed": true,
    "tags": []
   },
   "source": [
    "# Week 10 - Ensemble Learning: Random Forests and Boosting\n",
    "\n",
    "Last week, we saw that **bagging** (**b**ootstrap **agg**regation) averages multiple classifiers or regressors fitted to different bootstrapped data samples, which has the effect of reducing the variance of the individual models and regularizing their fits to improve generalization (test performance).\n",
    "\n",
    "This week, we continue our work with ensemble models, of which bagging is a special case. All ensembles are involved with training multiple supervised ML models and combining their predictions such that performance of the whole is better than any of the individual parts.\n",
    "\n",
    "Let's consider classification first.\n",
    "\n",
    "In classification, ensembles are generally better than their parts (the individual classifiers) if some of the following three properties are satisfied:\n",
    "\n",
    "1. Classifiers are **accurate** (better than random guessing)\n",
    "2. Classifiers are **diverse** (make mistakes on *different* examples)\n",
    "3. Classifiers are **cheap** (each is not too computationally costly)\n",
    "\n",
    "The situation with regression is similar, but errors are smooth rather than binary, so ideal regressors for ensembles have somewhat low error, have errors dispersed differently across the test set, and can be trained cheaply.\n",
    "\n",
    "Decision trees satisfy all three conditions. Trees are not the most accurate models, but they do learn (**accurate**). Trees have very high variance (**diverse**). Trees train in very little time, so ensembles of thousands of trees are viable (**cheap**). As such, trees are ideal classifiers for ensembling.\n",
    "\n",
    "It should be noted that ensembling can be useful even if some of the conditions above are net met: for example, neural networks are very expensive to train, but they are accurate and diverse, and we do see smaller but substantial performance gains from ensembling neural networks.\n",
    "\n",
    "We cover two sub-topics this week:\n",
    "\n",
    "1. **Random forests** uses bagging with *de-correlated* trees to solve overfitting more effectively than simple bagging.\n",
    "2. **Boosting** throws out bootstrapping in favor of sequential samples that push the individual models to focus on points where the model makes errors. This is primarily used to solve underfitting.\n",
    "\n",
    "Each of these represent state-of-the-art models for the types of data where they are most effective."
   ]
  },
  {
   "cell_type": "markdown",
   "id": "b9b69b5b-344b-4cbf-b644-d1bdac2546f6",
   "metadata": {
    "tags": []
   },
   "source": [
    "# Lecture 18 - Random Forests\n",
    "\n",
    "**Recommended reading**: The short Ch 15 from *Elements of Statistical Learning*\n",
    "\n",
    "Today, we cover **random forests**. A random forest is made up of bagged decision trees which train only on random subsets of the featues of the training data as inputs. This has the effect of making the trees less correlated to one another, which allows the ensemble to have lower variance than the individual models -- and lower than simple bagged trees. This has an exceptional regularizing effect (i.e. it improves generalization to test data)."
   ]
  },
  {
   "cell_type": "code",
   "execution_count": 1,
   "id": "c3bd3215-d6cd-4fa0-8a11-870a8cea273b",
   "metadata": {},
   "outputs": [],
   "source": [
    "import numpy as np\n",
    "import matplotlib.pyplot as plt\n",
    "import pandas as pd\n",
    "import seaborn as sn\n",
    "\n",
    "from sklearn.datasets import load_breast_cancer\n",
    "from sklearn.datasets import load_wine\n",
    "from sklearn.ensemble import RandomForestClassifier\n",
    "from sklearn.inspection import permutation_importance\n",
    "from sklearn.metrics import accuracy_score\n",
    "from sklearn.metrics import classification_report\n",
    "from sklearn.metrics import confusion_matrix\n",
    "from sklearn.model_selection import train_test_split\n",
    "\n",
    "from tensorflow.keras.datasets import mnist\n",
    "from tensorflow.keras.datasets import cifar10"
   ]
  },
  {
   "cell_type": "markdown",
   "id": "3a8a8e49-91b7-473c-8740-a2eeb34cdb71",
   "metadata": {},
   "source": [
    "## Example: Breast Cancer Classification"
   ]
  },
  {
   "cell_type": "code",
   "execution_count": 2,
   "id": "a550b508-5065-431c-8fe4-495b8dca3cf8",
   "metadata": {},
   "outputs": [
    {
     "name": "stdout",
     "output_type": "stream",
     "text": [
      ".. _breast_cancer_dataset:\n",
      "\n",
      "Breast cancer wisconsin (diagnostic) dataset\n",
      "--------------------------------------------\n",
      "\n",
      "**Data Set Characteristics:**\n",
      "\n",
      "    :Number of Instances: 569\n",
      "\n",
      "    :Number of Attributes: 30 numeric, predictive attributes and the class\n",
      "\n",
      "    :Attribute Information:\n",
      "        - radius (mean of distances from center to points on the perimeter)\n",
      "        - texture (standard deviation of gray-scale values)\n",
      "        - perimeter\n",
      "        - area\n",
      "        - smoothness (local variation in radius lengths)\n",
      "        - compactness (perimeter^2 / area - 1.0)\n",
      "        - concavity (severity of concave portions of the contour)\n",
      "        - concave points (number of concave portions of the contour)\n",
      "        - symmetry\n",
      "        - fractal dimension (\"coastline approximation\" - 1)\n",
      "\n",
      "        The mean, standard error, and \"worst\" or largest (mean of the three\n",
      "        worst/largest values) of these features were computed for each image,\n",
      "        resulting in 30 features.  For instance, field 0 is Mean Radius, field\n",
      "        10 is Radius SE, field 20 is Worst Radius.\n",
      "\n",
      "        - class:\n",
      "                - WDBC-Malignant\n",
      "                - WDBC-Benign\n",
      "\n",
      "    :Summary Statistics:\n",
      "\n",
      "    ===================================== ====== ======\n",
      "                                           Min    Max\n",
      "    ===================================== ====== ======\n",
      "    radius (mean):                        6.981  28.11\n",
      "    texture (mean):                       9.71   39.28\n",
      "    perimeter (mean):                     43.79  188.5\n",
      "    area (mean):                          143.5  2501.0\n",
      "    smoothness (mean):                    0.053  0.163\n",
      "    compactness (mean):                   0.019  0.345\n",
      "    concavity (mean):                     0.0    0.427\n",
      "    concave points (mean):                0.0    0.201\n",
      "    symmetry (mean):                      0.106  0.304\n",
      "    fractal dimension (mean):             0.05   0.097\n",
      "    radius (standard error):              0.112  2.873\n",
      "    texture (standard error):             0.36   4.885\n",
      "    perimeter (standard error):           0.757  21.98\n",
      "    area (standard error):                6.802  542.2\n",
      "    smoothness (standard error):          0.002  0.031\n",
      "    compactness (standard error):         0.002  0.135\n",
      "    concavity (standard error):           0.0    0.396\n",
      "    concave points (standard error):      0.0    0.053\n",
      "    symmetry (standard error):            0.008  0.079\n",
      "    fractal dimension (standard error):   0.001  0.03\n",
      "    radius (worst):                       7.93   36.04\n",
      "    texture (worst):                      12.02  49.54\n",
      "    perimeter (worst):                    50.41  251.2\n",
      "    area (worst):                         185.2  4254.0\n",
      "    smoothness (worst):                   0.071  0.223\n",
      "    compactness (worst):                  0.027  1.058\n",
      "    concavity (worst):                    0.0    1.252\n",
      "    concave points (worst):               0.0    0.291\n",
      "    symmetry (worst):                     0.156  0.664\n",
      "    fractal dimension (worst):            0.055  0.208\n",
      "    ===================================== ====== ======\n",
      "\n",
      "    :Missing Attribute Values: None\n",
      "\n",
      "    :Class Distribution: 212 - Malignant, 357 - Benign\n",
      "\n",
      "    :Creator:  Dr. William H. Wolberg, W. Nick Street, Olvi L. Mangasarian\n",
      "\n",
      "    :Donor: Nick Street\n",
      "\n",
      "    :Date: November, 1995\n",
      "\n",
      "This is a copy of UCI ML Breast Cancer Wisconsin (Diagnostic) datasets.\n",
      "https://goo.gl/U2Uwz2\n",
      "\n",
      "Features are computed from a digitized image of a fine needle\n",
      "aspirate (FNA) of a breast mass.  They describe\n",
      "characteristics of the cell nuclei present in the image.\n",
      "\n",
      "Separating plane described above was obtained using\n",
      "Multisurface Method-Tree (MSM-T) [K. P. Bennett, \"Decision Tree\n",
      "Construction Via Linear Programming.\" Proceedings of the 4th\n",
      "Midwest Artificial Intelligence and Cognitive Science Society,\n",
      "pp. 97-101, 1992], a classification method which uses linear\n",
      "programming to construct a decision tree.  Relevant features\n",
      "were selected using an exhaustive search in the space of 1-4\n",
      "features and 1-3 separating planes.\n",
      "\n",
      "The actual linear program used to obtain the separating plane\n",
      "in the 3-dimensional space is that described in:\n",
      "[K. P. Bennett and O. L. Mangasarian: \"Robust Linear\n",
      "Programming Discrimination of Two Linearly Inseparable Sets\",\n",
      "Optimization Methods and Software 1, 1992, 23-34].\n",
      "\n",
      "This database is also available through the UW CS ftp server:\n",
      "\n",
      "ftp ftp.cs.wisc.edu\n",
      "cd math-prog/cpo-dataset/machine-learn/WDBC/\n",
      "\n",
      ".. topic:: References\n",
      "\n",
      "   - W.N. Street, W.H. Wolberg and O.L. Mangasarian. Nuclear feature extraction \n",
      "     for breast tumor diagnosis. IS&T/SPIE 1993 International Symposium on \n",
      "     Electronic Imaging: Science and Technology, volume 1905, pages 861-870,\n",
      "     San Jose, CA, 1993.\n",
      "   - O.L. Mangasarian, W.N. Street and W.H. Wolberg. Breast cancer diagnosis and \n",
      "     prognosis via linear programming. Operations Research, 43(4), pages 570-577, \n",
      "     July-August 1995.\n",
      "   - W.H. Wolberg, W.N. Street, and O.L. Mangasarian. Machine learning techniques\n",
      "     to diagnose breast cancer from fine-needle aspirates. Cancer Letters 77 (1994) \n",
      "     163-171.\n"
     ]
    }
   ],
   "source": [
    "cancer = load_breast_cancer()\n",
    "\n",
    "print(cancer['DESCR'])"
   ]
  },
  {
   "cell_type": "code",
   "execution_count": 3,
   "id": "b5220aca-f8ea-47fb-8be6-fedff352353c",
   "metadata": {},
   "outputs": [
    {
     "name": "stdout",
     "output_type": "stream",
     "text": [
      "\n",
      "Training Classification Report:\n",
      "\n",
      "               precision    recall  f1-score   support\n",
      "\n",
      "           0       1.00      1.00      1.00       160\n",
      "           1       1.00      1.00      1.00       266\n",
      "\n",
      "    accuracy                           1.00       426\n",
      "   macro avg       1.00      1.00      1.00       426\n",
      "weighted avg       1.00      1.00      1.00       426\n",
      "\n",
      "\n",
      "Testing Classification Report:\n",
      "\n",
      "               precision    recall  f1-score   support\n",
      "\n",
      "           0       0.94      0.90      0.92        52\n",
      "           1       0.95      0.97      0.96        91\n",
      "\n",
      "    accuracy                           0.94       143\n",
      "   macro avg       0.94      0.94      0.94       143\n",
      "weighted avg       0.94      0.94      0.94       143\n",
      "\n",
      "\n",
      "Testing Confusion Matrix:\n",
      "\n"
     ]
    },
    {
     "data": {
      "text/plain": [
       "<Figure size 432x288 with 0 Axes>"
      ]
     },
     "execution_count": 3,
     "metadata": {},
     "output_type": "execute_result"
    },
    {
     "data": {
      "image/png": "[encoded data removed]",
      "text/plain": [
       "<Figure size 432x288 with 2 Axes>"
      ]
     },
     "metadata": {
      "needs_background": "light"
     },
     "output_type": "display_data"
    },
    {
     "data": {
      "text/plain": [
       "<Figure size 432x288 with 0 Axes>"
      ]
     },
     "metadata": {},
     "output_type": "display_data"
    }
   ],
   "source": [
    "X = cancer['data']\n",
    "Y = cancer['target']\n",
    "\n",
    "# split the data into train and test sets\n",
    "trainX, testX, trainY, testY = train_test_split(X, Y, test_size = 0.25)\n",
    "\n",
    "# build the classifier\n",
    "model = RandomForestClassifier(n_jobs = -1)\n",
    "\n",
    "# fit the classifier to the training data\n",
    "model.fit(trainX, trainY)\n",
    "\n",
    "# predict the labels of the training set\n",
    "predictedY = model.predict(trainX)\n",
    "\n",
    "# print quality metrics\n",
    "print('\\nTraining Classification Report:\\n\\n', classification_report(trainY, predictedY))\n",
    "\n",
    "# predict the labels of the test set\n",
    "predictedY = model.predict(testX)\n",
    "\n",
    "# print quality metrics\n",
    "print('\\nTesting Classification Report:\\n\\n', classification_report(testY, predictedY))\n",
    "\n",
    "# predict the labels of the test set\n",
    "predictedY = model.predict(testX)\n",
    "\n",
    "print('\\nTesting Confusion Matrix:\\n')\n",
    "\n",
    "sn.heatmap(confusion_matrix(testY, predictedY))\n",
    "plt.figure()"
   ]
  },
  {
   "cell_type": "markdown",
   "id": "cbc76ecf-70fa-4f3f-91e0-328025c7c73d",
   "metadata": {},
   "source": [
    "Random forests offer some criteria for ranking the importance of various features. Next, let's use the `permutation_importance` method to evaluate the importance of each feature to the classification."
   ]
  },
  {
   "cell_type": "code",
   "execution_count": 6,
   "id": "edd194cf-d58a-41c1-8ef6-619e5a1e9f50",
   "metadata": {},
   "outputs": [
    {
     "data": {
      "image/png": "[encoded data removed]",
      "text/plain": [
       "<Figure size 432x288 with 1 Axes>"
      ]
     },
     "metadata": {
      "needs_background": "light"
     },
     "output_type": "display_data"
    }
   ],
   "source": [
    "result = permutation_importance(model, testX, testY, n_repeats = 10, n_jobs = -1)\n",
    "sorted_idx = result.importances_mean.argsort()\n",
    "\n",
    "fig, ax = plt.subplots()\n",
    "ax.boxplot(result.importances[sorted_idx].T, vert = False, labels = cancer.feature_names[sorted_idx])\n",
    "ax.set_title(\"Permutation Importances (test set)\")\n",
    "fig.tight_layout()\n",
    "plt.show()"
   ]
  },
  {
   "cell_type": "markdown",
   "id": "4a6190e3-8311-4ac6-ae52-eb8e60b4999c",
   "metadata": {},
   "source": [
    "### MNIST Example"
   ]
  },
  {
   "cell_type": "code",
   "execution_count": 9,
   "id": "132975d2-f3e2-49de-8832-3c07d3ddad36",
   "metadata": {},
   "outputs": [
    {
     "name": "stdout",
     "output_type": "stream",
     "text": [
      "\n",
      "Training Classification Report:\n",
      "\n",
      "               precision    recall  f1-score   support\n",
      "\n",
      "           0       1.00      1.00      1.00      5923\n",
      "           1       1.00      1.00      1.00      6742\n",
      "           2       1.00      1.00      1.00      5958\n",
      "           3       1.00      1.00      1.00      6131\n",
      "           4       1.00      1.00      1.00      5842\n",
      "           5       1.00      1.00      1.00      5421\n",
      "           6       1.00      1.00      1.00      5918\n",
      "           7       1.00      1.00      1.00      6265\n",
      "           8       1.00      1.00      1.00      5851\n",
      "           9       1.00      1.00      1.00      5949\n",
      "\n",
      "    accuracy                           1.00     60000\n",
      "   macro avg       1.00      1.00      1.00     60000\n",
      "weighted avg       1.00      1.00      1.00     60000\n",
      "\n",
      "\n",
      "Testing Classification Report:\n",
      "\n",
      "               precision    recall  f1-score   support\n",
      "\n",
      "           0       0.97      0.99      0.98       980\n",
      "           1       0.99      0.99      0.99      1135\n",
      "           2       0.96      0.97      0.96      1032\n",
      "           3       0.96      0.97      0.96      1010\n",
      "           4       0.97      0.98      0.97       982\n",
      "           5       0.98      0.96      0.97       892\n",
      "           6       0.98      0.98      0.98       958\n",
      "           7       0.97      0.96      0.97      1028\n",
      "           8       0.96      0.95      0.96       974\n",
      "           9       0.96      0.95      0.95      1009\n",
      "\n",
      "    accuracy                           0.97     10000\n",
      "   macro avg       0.97      0.97      0.97     10000\n",
      "weighted avg       0.97      0.97      0.97     10000\n",
      "\n",
      "\n",
      "Testing Confusion Matrix:\n",
      "\n"
     ]
    },
    {
     "data": {
      "text/plain": [
       "<Figure size 432x288 with 0 Axes>"
      ]
     },
     "execution_count": 9,
     "metadata": {},
     "output_type": "execute_result"
    },
    {
     "data": {
      "image/png": "[encoded data removed]",
      "text/plain": [
       "<Figure size 432x288 with 2 Axes>"
      ]
     },
     "metadata": {
      "needs_background": "light"
     },
     "output_type": "display_data"
    },
    {
     "data": {
      "text/plain": [
       "<Figure size 432x288 with 0 Axes>"
      ]
     },
     "metadata": {},
     "output_type": "display_data"
    }
   ],
   "source": [
    "(trainX, trainY), (testX, testY) = mnist.load_data()\n",
    "\n",
    "# preprocess the data\n",
    "trainX = trainX.reshape(trainX.shape[0], trainX.shape[1] * trainX.shape[2])\n",
    "trainX = trainX.astype('float')/255.0\n",
    "\n",
    "testX = testX.reshape(testX.shape[0], testX.shape[1] * testX.shape[2])\n",
    "testX = testX.astype('float')/255.0\n",
    "\n",
    "# build the classifier\n",
    "model = RandomForestClassifier(n_jobs = -1)\n",
    "\n",
    "# fit the classifier to the training data\n",
    "model.fit(trainX, trainY)\n",
    "\n",
    "# predict the labels of the training set\n",
    "predictedY = model.predict(trainX)\n",
    "\n",
    "# print quality metrics\n",
    "print('\\nTraining Classification Report:\\n\\n', classification_report(trainY, predictedY))\n",
    "\n",
    "# predict the labels of the test set\n",
    "predictedY = model.predict(testX)\n",
    "\n",
    "# print quality metrics\n",
    "print('\\nTesting Classification Report:\\n\\n', classification_report(testY, predictedY))\n",
    "\n",
    "# predict the labels of the test set\n",
    "predictedY = model.predict(testX)\n",
    "\n",
    "print('\\nTesting Confusion Matrix:\\n')\n",
    "\n",
    "sn.heatmap(confusion_matrix(testY, predictedY))\n",
    "plt.figure()"
   ]
  },
  {
   "cell_type": "markdown",
   "id": "9c1a8310-16a2-4bfe-ad17-4f11c80f3e76",
   "metadata": {},
   "source": [
    "### CIFAR10 Example"
   ]
  },
  {
   "cell_type": "code",
   "execution_count": 13,
   "id": "08503dbb-23e3-455c-81e0-8dd98273f9ef",
   "metadata": {},
   "outputs": [
    {
     "name": "stderr",
     "output_type": "stream",
     "text": [
      "C:\\Users\\Ryan\\AppData\\Local\\Temp/ipykernel_26572/2308665654.py:14: DataConversionWarning: A column-vector y was passed when a 1d array was expected. Please change the shape of y to (n_samples,), for example using ravel().\n",
      "  model.fit(trainX, trainY)\n"
     ]
    },
    {
     "name": "stdout",
     "output_type": "stream",
     "text": [
      "\n",
      "Training Classification Report:\n",
      "\n",
      "               precision    recall  f1-score   support\n",
      "\n",
      "           0       1.00      1.00      1.00      5000\n",
      "           1       1.00      1.00      1.00      5000\n",
      "           2       1.00      1.00      1.00      5000\n",
      "           3       1.00      1.00      1.00      5000\n",
      "           4       1.00      1.00      1.00      5000\n",
      "           5       1.00      1.00      1.00      5000\n",
      "           6       1.00      1.00      1.00      5000\n",
      "           7       1.00      1.00      1.00      5000\n",
      "           8       1.00      1.00      1.00      5000\n",
      "           9       1.00      1.00      1.00      5000\n",
      "\n",
      "    accuracy                           1.00     50000\n",
      "   macro avg       1.00      1.00      1.00     50000\n",
      "weighted avg       1.00      1.00      1.00     50000\n",
      "\n",
      "\n",
      "Testing Classification Report:\n",
      "\n",
      "               precision    recall  f1-score   support\n",
      "\n",
      "           0       0.54      0.58      0.56      1000\n",
      "           1       0.52      0.54      0.53      1000\n",
      "           2       0.37      0.32      0.34      1000\n",
      "           3       0.35      0.29      0.32      1000\n",
      "           4       0.39      0.39      0.39      1000\n",
      "           5       0.42      0.40      0.41      1000\n",
      "           6       0.48      0.55      0.51      1000\n",
      "           7       0.51      0.46      0.48      1000\n",
      "           8       0.57      0.61      0.59      1000\n",
      "           9       0.48      0.55      0.51      1000\n",
      "\n",
      "    accuracy                           0.47     10000\n",
      "   macro avg       0.46      0.47      0.46     10000\n",
      "weighted avg       0.46      0.47      0.46     10000\n",
      "\n",
      "\n",
      "Testing Confusion Matrix:\n",
      "\n"
     ]
    },
    {
     "data": {
      "text/plain": [
       "<Figure size 432x288 with 0 Axes>"
      ]
     },
     "execution_count": 13,
     "metadata": {},
     "output_type": "execute_result"
    },
    {
     "data": {
      "image/png": "[encoded data removed]",
      "text/plain": [
       "<Figure size 432x288 with 2 Axes>"
      ]
     },
     "metadata": {
      "needs_background": "light"
     },
     "output_type": "display_data"
    },
    {
     "data": {
      "text/plain": [
       "<Figure size 432x288 with 0 Axes>"
      ]
     },
     "metadata": {},
     "output_type": "display_data"
    }
   ],
   "source": [
    "(trainX, trainY), (testX, testY) = cifar10.load_data()\n",
    "\n",
    "# preprocess the data\n",
    "trainX = trainX.reshape(trainX.shape[0], trainX.shape[1] * trainX.shape[2] * 3)\n",
    "trainX = trainX.astype('float')/255.0\n",
    "\n",
    "testX = testX.reshape(testX.shape[0], testX.shape[1] * testX.shape[2] * 3)\n",
    "testX = testX.astype('float')/255.0\n",
    "\n",
    "# build the classifier\n",
    "model = RandomForestClassifier(n_jobs = -1)\n",
    "\n",
    "# fit the classifier to the training data\n",
    "model.fit(trainX, trainY)\n",
    "\n",
    "# predict the labels of the training set\n",
    "predictedY = model.predict(trainX)\n",
    "\n",
    "# print quality metrics\n",
    "print('\\nTraining Classification Report:\\n\\n', classification_report(trainY, predictedY))\n",
    "\n",
    "# predict the labels of the test set\n",
    "predictedY = model.predict(testX)\n",
    "\n",
    "# print quality metrics\n",
    "print('\\nTesting Classification Report:\\n\\n', classification_report(testY, predictedY))\n",
    "\n",
    "# predict the labels of the test set\n",
    "predictedY = model.predict(testX)\n",
    "\n",
    "print('\\nTesting Confusion Matrix:\\n')\n",
    "\n",
    "sn.heatmap(confusion_matrix(testY, predictedY))\n",
    "plt.figure()"
   ]
  },
  {
   "cell_type": "markdown",
   "id": "ba9e2d19-d2b5-4a81-8729-9843428e1763",
   "metadata": {},
   "source": [
    "### OOB Example"
   ]
  },
  {
   "cell_type": "code",
   "execution_count": 12,
   "id": "f2e6d237-cd76-49dc-94b1-e79208b09892",
   "metadata": {},
   "outputs": [
    {
     "name": "stderr",
     "output_type": "stream",
     "text": [
      "C:\\Users\\Ryan\\anaconda3\\envs\\ML\\lib\\site-packages\\sklearn\\ensemble\\_forest.py:560: UserWarning: Some inputs do not have OOB scores. This probably means too few trees were used to compute any reliable OOB estimates.\n",
      "  warn(\n",
      "C:\\Users\\Ryan\\anaconda3\\envs\\ML\\lib\\site-packages\\sklearn\\ensemble\\_forest.py:560: UserWarning: Some inputs do not have OOB scores. This probably means too few trees were used to compute any reliable OOB estimates.\n",
      "  warn(\n",
      "C:\\Users\\Ryan\\anaconda3\\envs\\ML\\lib\\site-packages\\sklearn\\ensemble\\_forest.py:560: UserWarning: Some inputs do not have OOB scores. This probably means too few trees were used to compute any reliable OOB estimates.\n",
      "  warn(\n"
     ]
    },
    {
     "data": {
      "image/png": "[encoded data removed]",
      "text/plain": [
       "<Figure size 432x288 with 1 Axes>"
      ]
     },
     "metadata": {
      "needs_background": "light"
     },
     "output_type": "display_data"
    }
   ],
   "source": [
    "import matplotlib.pyplot as plt\n",
    "\n",
    "from collections import OrderedDict\n",
    "from sklearn.datasets import make_classification\n",
    "from sklearn.ensemble import RandomForestClassifier\n",
    "\n",
    "# Author: Kian Ho <hui.kian.ho@gmail.com>\n",
    "#         Gilles Louppe <g.louppe@gmail.com>\n",
    "#         Andreas Mueller <amueller@ais.uni-bonn.de>\n",
    "#\n",
    "# License: BSD 3 Clause\n",
    "\n",
    "# Generate a binary classification dataset.\n",
    "X, y = make_classification(n_samples=500, n_features=25,\n",
    "                           n_clusters_per_class=1, n_informative=15,\n",
    "                           random_state=0)\n",
    "\n",
    "# NOTE: Setting the `warm_start` construction parameter to `True` disables\n",
    "# support for parallelized ensembles but is necessary for tracking the OOB\n",
    "# error trajectory during training.\n",
    "ensemble_clfs = [\n",
    "    (\"RandomForestClassifier, max_features='sqrt'\",\n",
    "        RandomForestClassifier(warm_start=True, oob_score=True,\n",
    "                               max_features=\"sqrt\",\n",
    "                               random_state=0)),\n",
    "    (\"RandomForestClassifier, max_features='log2'\",\n",
    "        RandomForestClassifier(warm_start=True, max_features='log2',\n",
    "                               oob_score=True,\n",
    "                               random_state=0)),\n",
    "    (\"RandomForestClassifier, max_features=None\",\n",
    "        RandomForestClassifier(warm_start=True, max_features=None,\n",
    "                               oob_score=True,\n",
    "                               random_state=0))\n",
    "]\n",
    "\n",
    "# Map a classifier name to a list of (<n_estimators>, <error rate>) pairs.\n",
    "error_rate = OrderedDict((label, []) for label, _ in ensemble_clfs)\n",
    "\n",
    "# Range of `n_estimators` values to explore.\n",
    "min_estimators = 15\n",
    "max_estimators = 175\n",
    "\n",
    "for label, clf in ensemble_clfs:\n",
    "    for i in range(min_estimators, max_estimators + 1):\n",
    "        clf.set_params(n_estimators=i)\n",
    "        clf.fit(X, y)\n",
    "\n",
    "        # Record the OOB error for each `n_estimators=i` setting.\n",
    "        oob_error = 1 - clf.oob_score_\n",
    "        error_rate[label].append((i, oob_error))\n",
    "\n",
    "# Generate the \"OOB error rate\" vs. \"n_estimators\" plot\n",
    "for label, clf_err in error_rate.items():\n",
    "    xs, ys = zip(*clf_err)\n",
    "    plt.plot(xs, ys, label=label)\n",
    "\n",
    "plt.xlim(min_estimators, max_estimators)\n",
    "plt.xlabel(\"n_estimators\")\n",
    "plt.ylabel(\"OOB error rate\")\n",
    "plt.legend(loc=\"upper right\")\n",
    "plt.show()"
   ]
  },
  {
   "cell_type": "markdown",
   "id": "bb139945-9f9e-4dc4-af87-bb53c5d5fda0",
   "metadata": {},
   "source": [
    "# Lecture 19 - Boosting and AdaBoost\n",
    "\n",
    "First, let's import some things."
   ]
  },
  {
   "cell_type": "code",
   "execution_count": 39,
   "id": "5119d5ee-778a-43ce-b764-5d074e89712d",
   "metadata": {},
   "outputs": [],
   "source": [
    "from sklearn.datasets import load_breast_cancer\n",
    "from sklearn.ensemble import AdaBoostClassifier, AdaBoostRegressor\n",
    "from sklearn.tree import DecisionTreeClassifier"
   ]
  },
  {
   "cell_type": "code",
   "execution_count": 30,
   "id": "823f87e8-7f7a-445a-aab3-fca88c798780",
   "metadata": {},
   "outputs": [
    {
     "name": "stdout",
     "output_type": "stream",
     "text": [
      "\n",
      "Training Classification Report:\n",
      "\n",
      "               precision    recall  f1-score   support\n",
      "\n",
      "           0       1.00      1.00      1.00       160\n",
      "           1       1.00      1.00      1.00       266\n",
      "\n",
      "    accuracy                           1.00       426\n",
      "   macro avg       1.00      1.00      1.00       426\n",
      "weighted avg       1.00      1.00      1.00       426\n",
      "\n",
      "\n",
      "Testing Classification Report:\n",
      "\n",
      "               precision    recall  f1-score   support\n",
      "\n",
      "           0       0.98      0.92      0.95        52\n",
      "           1       0.96      0.99      0.97        91\n",
      "\n",
      "    accuracy                           0.97       143\n",
      "   macro avg       0.97      0.96      0.96       143\n",
      "weighted avg       0.97      0.97      0.96       143\n",
      "\n",
      "\n",
      "Testing Confusion Matrix:\n",
      "\n"
     ]
    },
    {
     "data": {
      "text/plain": [
       "<Figure size 432x288 with 0 Axes>"
      ]
     },
     "execution_count": 30,
     "metadata": {},
     "output_type": "execute_result"
    },
    {
     "data": {
      "image/png": "[encoded data removed]",
      "text/plain": [
       "<Figure size 432x288 with 2 Axes>"
      ]
     },
     "metadata": {
      "needs_background": "light"
     },
     "output_type": "display_data"
    },
    {
     "data": {
      "text/plain": [
       "<Figure size 432x288 with 0 Axes>"
      ]
     },
     "metadata": {},
     "output_type": "display_data"
    }
   ],
   "source": [
    "data = load_breast_cancer()\n",
    "\n",
    "X = data['data']\n",
    "Y = data['target']\n",
    "\n",
    "# split the data into train and test sets\n",
    "trainX, testX, trainY, testY = train_test_split(X, Y, test_size = 0.25)\n",
    "\n",
    "# build the classifier\n",
    "model = AdaBoostClassifier()\n",
    "\n",
    "# fit the classifier to the training data\n",
    "model.fit(trainX, trainY)\n",
    "\n",
    "# predict the labels of the training set\n",
    "predictedY = model.predict(trainX)\n",
    "\n",
    "# print quality metrics\n",
    "print('\\nTraining Classification Report:\\n\\n', classification_report(trainY, predictedY))\n",
    "\n",
    "# predict the labels of the test set\n",
    "predictedY = model.predict(testX)\n",
    "\n",
    "# print quality metrics\n",
    "print('\\nTesting Classification Report:\\n\\n', classification_report(testY, predictedY))\n",
    "\n",
    "# predict the labels of the test set\n",
    "predictedY = model.predict(testX)\n",
    "\n",
    "print('\\nTesting Confusion Matrix:\\n')\n",
    "\n",
    "sn.heatmap(confusion_matrix(testY, predictedY))\n",
    "plt.figure()"
   ]
  },
  {
   "cell_type": "code",
   "execution_count": 34,
   "id": "8d02c536-d758-4025-b3d5-c4f6faf7014c",
   "metadata": {},
   "outputs": [
    {
     "name": "stdout",
     "output_type": "stream",
     "text": [
      "\n",
      "Training Classification Report:\n",
      "\n",
      "               precision    recall  f1-score   support\n",
      "\n",
      "           0       0.93      0.97      0.95        40\n",
      "           1       0.98      0.95      0.97        60\n",
      "           2       1.00      1.00      1.00        33\n",
      "\n",
      "    accuracy                           0.97       133\n",
      "   macro avg       0.97      0.97      0.97       133\n",
      "weighted avg       0.97      0.97      0.97       133\n",
      "\n",
      "\n",
      "Testing Classification Report:\n",
      "\n",
      "               precision    recall  f1-score   support\n",
      "\n",
      "           0       1.00      0.95      0.97        19\n",
      "           1       0.73      1.00      0.85        11\n",
      "           2       1.00      0.80      0.89        15\n",
      "\n",
      "    accuracy                           0.91        45\n",
      "   macro avg       0.91      0.92      0.90        45\n",
      "weighted avg       0.93      0.91      0.91        45\n",
      "\n",
      "\n",
      "Testing Confusion Matrix:\n",
      "\n"
     ]
    },
    {
     "data": {
      "text/plain": [
       "<Figure size 432x288 with 0 Axes>"
      ]
     },
     "execution_count": 34,
     "metadata": {},
     "output_type": "execute_result"
    },
    {
     "data": {
      "image/png": "[encoded data removed]",
      "text/plain": [
       "<Figure size 432x288 with 2 Axes>"
      ]
     },
     "metadata": {
      "needs_background": "light"
     },
     "output_type": "display_data"
    },
    {
     "data": {
      "text/plain": [
       "<Figure size 432x288 with 0 Axes>"
      ]
     },
     "metadata": {},
     "output_type": "display_data"
    }
   ],
   "source": [
    "data = load_wine()\n",
    "\n",
    "X = data['data']\n",
    "Y = data['target']\n",
    "\n",
    "# split the data into train and test sets\n",
    "trainX, testX, trainY, testY = train_test_split(X, Y, test_size = 0.25)\n",
    "\n",
    "# build the classifier\n",
    "model = AdaBoostClassifier()\n",
    "\n",
    "# fit the classifier to the training data\n",
    "model.fit(trainX, trainY)\n",
    "\n",
    "# predict the labels of the training set\n",
    "predictedY = model.predict(trainX)\n",
    "\n",
    "# print quality metrics\n",
    "print('\\nTraining Classification Report:\\n\\n', classification_report(trainY, predictedY))\n",
    "\n",
    "# predict the labels of the test set\n",
    "predictedY = model.predict(testX)\n",
    "\n",
    "# print quality metrics\n",
    "print('\\nTesting Classification Report:\\n\\n', classification_report(testY, predictedY))\n",
    "\n",
    "# predict the labels of the test set\n",
    "predictedY = model.predict(testX)\n",
    "\n",
    "print('\\nTesting Confusion Matrix:\\n')\n",
    "\n",
    "sn.heatmap(confusion_matrix(testY, predictedY))\n",
    "plt.figure()"
   ]
  },
  {
   "cell_type": "markdown",
   "id": "a9a40a8d-54ad-44ba-add6-d0d8b3b1076a",
   "metadata": {},
   "source": [
    "Let's try the MNIST dataset with AdaBoost."
   ]
  },
  {
   "cell_type": "code",
   "execution_count": 12,
   "id": "abf0b4b3-95e1-48e1-971e-fad43bcbdc51",
   "metadata": {},
   "outputs": [
    {
     "name": "stdout",
     "output_type": "stream",
     "text": [
      "\n",
      "Training Classification Report:\n",
      "\n",
      "               precision    recall  f1-score   support\n",
      "\n",
      "           0       0.81      0.90      0.86      5923\n",
      "           1       0.83      0.94      0.88      6742\n",
      "           2       0.78      0.55      0.65      5958\n",
      "           3       0.74      0.58      0.65      6131\n",
      "           4       0.75      0.78      0.77      5842\n",
      "           5       0.68      0.64      0.66      5421\n",
      "           6       0.68      0.87      0.76      5918\n",
      "           7       0.74      0.72      0.73      6265\n",
      "           8       0.67      0.70      0.68      5851\n",
      "           9       0.63      0.61      0.62      5949\n",
      "\n",
      "    accuracy                           0.73     60000\n",
      "   macro avg       0.73      0.73      0.73     60000\n",
      "weighted avg       0.73      0.73      0.73     60000\n",
      "\n",
      "\n",
      "Testing Classification Report:\n",
      "\n",
      "               precision    recall  f1-score   support\n",
      "\n",
      "           0       0.82      0.90      0.86       980\n",
      "           1       0.84      0.95      0.89      1135\n",
      "           2       0.80      0.55      0.65      1032\n",
      "           3       0.74      0.58      0.65      1010\n",
      "           4       0.75      0.79      0.77       982\n",
      "           5       0.66      0.63      0.64       892\n",
      "           6       0.66      0.85      0.75       958\n",
      "           7       0.74      0.71      0.72      1028\n",
      "           8       0.64      0.71      0.67       974\n",
      "           9       0.64      0.61      0.62      1009\n",
      "\n",
      "    accuracy                           0.73     10000\n",
      "   macro avg       0.73      0.73      0.72     10000\n",
      "weighted avg       0.73      0.73      0.73     10000\n",
      "\n",
      "\n",
      "Testing Confusion Matrix:\n",
      "\n"
     ]
    },
    {
     "data": {
      "text/plain": [
       "<Figure size 432x288 with 0 Axes>"
      ]
     },
     "execution_count": 12,
     "metadata": {},
     "output_type": "execute_result"
    },
    {
     "data": {
      "image/png": "[encoded data removed]",
      "text/plain": [
       "<Figure size 432x288 with 2 Axes>"
      ]
     },
     "metadata": {
      "needs_background": "light"
     },
     "output_type": "display_data"
    },
    {
     "data": {
      "text/plain": [
       "<Figure size 432x288 with 0 Axes>"
      ]
     },
     "metadata": {},
     "output_type": "display_data"
    }
   ],
   "source": [
    "(trainX, trainY), (testX, testY) = mnist.load_data()\n",
    "\n",
    "# preprocess the data\n",
    "trainX = trainX.reshape(trainX.shape[0], trainX.shape[1] * trainX.shape[2])\n",
    "trainX = trainX.astype('float')/255.0\n",
    "\n",
    "testX = testX.reshape(testX.shape[0], testX.shape[1] * testX.shape[2])\n",
    "testX = testX.astype('float')/255.0\n",
    "\n",
    "# build the classifier\n",
    "model = AdaBoostClassifier(n_estimators = 100)\n",
    "\n",
    "# fit the classifier to the training data\n",
    "model.fit(trainX, trainY)\n",
    "\n",
    "# predict the labels of the training set\n",
    "predictedY = model.predict(trainX)\n",
    "\n",
    "# print quality metrics\n",
    "print('\\nTraining Classification Report:\\n\\n', classification_report(trainY, predictedY))\n",
    "\n",
    "# predict the labels of the test set\n",
    "predictedY = model.predict(testX)\n",
    "\n",
    "# print quality metrics\n",
    "print('\\nTesting Classification Report:\\n\\n', classification_report(testY, predictedY))\n",
    "\n",
    "# predict the labels of the test set\n",
    "predictedY = model.predict(testX)\n",
    "\n",
    "print('\\nTesting Confusion Matrix:\\n')\n",
    "\n",
    "sn.heatmap(confusion_matrix(testY, predictedY))\n",
    "plt.figure()"
   ]
  },
  {
   "cell_type": "markdown",
   "id": "5dbe9107-f271-4eec-bea7-e83865593a33",
   "metadata": {},
   "source": [
    "Let's make the individual classifiers a little more sophisticated."
   ]
  },
  {
   "cell_type": "code",
   "execution_count": 35,
   "id": "75c5b8f6-caed-467a-b0fd-603d9618a50a",
   "metadata": {},
   "outputs": [
    {
     "name": "stdout",
     "output_type": "stream",
     "text": [
      "\n",
      "Training Classification Report:\n",
      "\n",
      "               precision    recall  f1-score   support\n",
      "\n",
      "           0       1.00      1.00      1.00      5923\n",
      "           1       1.00      1.00      1.00      6742\n",
      "           2       1.00      1.00      1.00      5958\n",
      "           3       1.00      1.00      1.00      6131\n",
      "           4       1.00      1.00      1.00      5842\n",
      "           5       1.00      1.00      1.00      5421\n",
      "           6       1.00      1.00      1.00      5918\n",
      "           7       1.00      1.00      1.00      6265\n",
      "           8       1.00      1.00      1.00      5851\n",
      "           9       1.00      1.00      1.00      5949\n",
      "\n",
      "    accuracy                           1.00     60000\n",
      "   macro avg       1.00      1.00      1.00     60000\n",
      "weighted avg       1.00      1.00      1.00     60000\n",
      "\n",
      "\n",
      "Testing Classification Report:\n",
      "\n",
      "               precision    recall  f1-score   support\n",
      "\n",
      "           0       0.91      0.93      0.92       980\n",
      "           1       0.96      0.96      0.96      1135\n",
      "           2       0.87      0.86      0.86      1032\n",
      "           3       0.83      0.85      0.84      1010\n",
      "           4       0.88      0.87      0.87       982\n",
      "           5       0.85      0.84      0.85       892\n",
      "           6       0.89      0.89      0.89       958\n",
      "           7       0.91      0.90      0.90      1028\n",
      "           8       0.82      0.80      0.81       974\n",
      "           9       0.85      0.85      0.85      1009\n",
      "\n",
      "    accuracy                           0.88     10000\n",
      "   macro avg       0.88      0.88      0.88     10000\n",
      "weighted avg       0.88      0.88      0.88     10000\n",
      "\n",
      "\n",
      "Testing Confusion Matrix:\n",
      "\n"
     ]
    },
    {
     "data": {
      "text/plain": [
       "<Figure size 432x288 with 0 Axes>"
      ]
     },
     "execution_count": 35,
     "metadata": {},
     "output_type": "execute_result"
    },
    {
     "data": {
      "image/png": "[encoded data removed]",
      "text/plain": [
       "<Figure size 432x288 with 2 Axes>"
      ]
     },
     "metadata": {
      "needs_background": "light"
     },
     "output_type": "display_data"
    },
    {
     "data": {
      "text/plain": [
       "<Figure size 432x288 with 0 Axes>"
      ]
     },
     "metadata": {},
     "output_type": "display_data"
    }
   ],
   "source": [
    "(trainX, trainY), (testX, testY) = mnist.load_data()\n",
    "\n",
    "# preprocess the data\n",
    "trainX = trainX.reshape(trainX.shape[0], trainX.shape[1] * trainX.shape[2])\n",
    "trainX = trainX.astype('float')/255.0\n",
    "\n",
    "testX = testX.reshape(testX.shape[0], testX.shape[1] * testX.shape[2])\n",
    "testX = testX.astype('float')/255.0\n",
    "\n",
    "# build the classifier\n",
    "model = AdaBoostClassifier(DecisionTreeClassifier(max_depth=None))\n",
    "\n",
    "# fit the classifier to the training data\n",
    "model.fit(trainX, trainY)\n",
    "\n",
    "# predict the labels of the training set\n",
    "predictedY = model.predict(trainX)\n",
    "\n",
    "# print quality metrics\n",
    "print('\\nTraining Classification Report:\\n\\n', classification_report(trainY, predictedY))\n",
    "\n",
    "# predict the labels of the test set\n",
    "predictedY = model.predict(testX)\n",
    "\n",
    "# print quality metrics\n",
    "print('\\nTesting Classification Report:\\n\\n', classification_report(testY, predictedY))\n",
    "\n",
    "# predict the labels of the test set\n",
    "predictedY = model.predict(testX)\n",
    "\n",
    "print('\\nTesting Confusion Matrix:\\n')\n",
    "\n",
    "sn.heatmap(confusion_matrix(testY, predictedY))\n",
    "plt.figure()"
   ]
  },
  {
   "cell_type": "code",
   "execution_count": 32,
   "id": "f5bc8e74-98f7-4459-a561-31b6927eff63",
   "metadata": {},
   "outputs": [
    {
     "name": "stderr",
     "output_type": "stream",
     "text": [
      "G:\\Miniconda3\\envs\\DL\\lib\\site-packages\\sklearn\\utils\\validation.py:72: DataConversionWarning: A column-vector y was passed when a 1d array was expected. Please change the shape of y to (n_samples, ), for example using ravel().\n",
      "  return f(**kwargs)\n"
     ]
    },
    {
     "name": "stdout",
     "output_type": "stream",
     "text": [
      "\n",
      "Training Classification Report:\n",
      "\n",
      "               precision    recall  f1-score   support\n",
      "\n",
      "           0       0.36      0.34      0.35      5000\n",
      "           1       0.34      0.34      0.34      5000\n",
      "           2       0.20      0.10      0.14      5000\n",
      "           3       0.23      0.12      0.16      5000\n",
      "           4       0.23      0.20      0.21      5000\n",
      "           5       0.29      0.27      0.28      5000\n",
      "           6       0.29      0.55      0.38      5000\n",
      "           7       0.35      0.30      0.32      5000\n",
      "           8       0.39      0.47      0.43      5000\n",
      "           9       0.38      0.48      0.42      5000\n",
      "\n",
      "    accuracy                           0.32     50000\n",
      "   macro avg       0.31      0.32      0.30     50000\n",
      "weighted avg       0.31      0.32      0.30     50000\n",
      "\n",
      "\n",
      "Testing Classification Report:\n",
      "\n",
      "               precision    recall  f1-score   support\n",
      "\n",
      "           0       0.33      0.33      0.33      1000\n",
      "           1       0.33      0.33      0.33      1000\n",
      "           2       0.19      0.10      0.13      1000\n",
      "           3       0.19      0.10      0.13      1000\n",
      "           4       0.25      0.22      0.23      1000\n",
      "           5       0.28      0.26      0.27      1000\n",
      "           6       0.30      0.55      0.39      1000\n",
      "           7       0.34      0.30      0.32      1000\n",
      "           8       0.37      0.45      0.40      1000\n",
      "           9       0.39      0.48      0.43      1000\n",
      "\n",
      "    accuracy                           0.31     10000\n",
      "   macro avg       0.30      0.31      0.30     10000\n",
      "weighted avg       0.30      0.31      0.30     10000\n",
      "\n",
      "\n",
      "Testing Confusion Matrix:\n",
      "\n"
     ]
    },
    {
     "data": {
      "text/plain": [
       "<Figure size 432x288 with 0 Axes>"
      ]
     },
     "execution_count": 32,
     "metadata": {},
     "output_type": "execute_result"
    },
    {
     "data": {
      "image/png": "[encoded data removed]",
      "text/plain": [
       "<Figure size 432x288 with 2 Axes>"
      ]
     },
     "metadata": {
      "needs_background": "light"
     },
     "output_type": "display_data"
    },
    {
     "data": {
      "text/plain": [
       "<Figure size 432x288 with 0 Axes>"
      ]
     },
     "metadata": {},
     "output_type": "display_data"
    }
   ],
   "source": [
    "(trainX, trainY), (testX, testY) = cifar10.load_data()\n",
    "\n",
    "# preprocess the data\n",
    "trainX = trainX.reshape(trainX.shape[0], trainX.shape[1] * trainX.shape[2] * 3)\n",
    "trainX = trainX.astype('float')/255.0\n",
    "\n",
    "testX = testX.reshape(testX.shape[0], testX.shape[1] * testX.shape[2] * 3)\n",
    "testX = testX.astype('float')/255.0\n",
    "\n",
    "# build the classifier\n",
    "model = AdaBoostClassifier()\n",
    "\n",
    "# fit the classifier to the training data\n",
    "model.fit(trainX, trainY)\n",
    "\n",
    "# predict the labels of the training set\n",
    "predictedY = model.predict(trainX)\n",
    "\n",
    "# print quality metrics\n",
    "print('\\nTraining Classification Report:\\n\\n', classification_report(trainY, predictedY))\n",
    "\n",
    "# predict the labels of the test set\n",
    "predictedY = model.predict(testX)\n",
    "\n",
    "# print quality metrics\n",
    "print('\\nTesting Classification Report:\\n\\n', classification_report(testY, predictedY))\n",
    "\n",
    "# predict the labels of the test set\n",
    "predictedY = model.predict(testX)\n",
    "\n",
    "print('\\nTesting Confusion Matrix:\\n')\n",
    "\n",
    "sn.heatmap(confusion_matrix(testY, predictedY))\n",
    "plt.figure()"
   ]
  }
 ],
 "metadata": {
  "kernelspec": {
   "display_name": "Python 3 (ipykernel)",
   "language": "python",
   "name": "python3"
  },
  "language_info": {
   "codemirror_mode": {
    "name": "ipython",
    "version": 3
   },
   "file_extension": ".py",
   "mimetype": "text/x-python",
   "name": "python",
   "nbconvert_exporter": "python",
   "pygments_lexer": "ipython3",
   "version": "3.10.1"
  }
 },
 "nbformat": 4,
 "nbformat_minor": 5
}
